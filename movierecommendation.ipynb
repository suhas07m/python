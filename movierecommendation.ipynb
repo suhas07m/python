{
  "nbformat": 4,
  "nbformat_minor": 0,
  "metadata": {
    "colab": {
      "provenance": []
    },
    "kernelspec": {
      "name": "python3",
      "display_name": "Python 3"
    },
    "language_info": {
      "name": "python"
    }
  },
  "cells": [
    {
      "cell_type": "markdown",
      "source": [
        "** Movie Recommendation System**\n",
        "\n",
        "**Recommender Syste**m is a system that seeks to predict or filter preferences according to the user's choices. Recommender systems are utilized in a variety of areas including movies, music, news, books, research articles, search queries, social tags, and products in general.\n",
        "\n",
        "**Recommender systems** produce a list of recommendations in any of the two ways-\n",
        "\n",
        "**Collaborative filtering:** Collaborative filtering approaches build a model from the user's past behavior e items purchased or searched by the user) as well as similar decisions made by other users. This model is then used to predict items (or ratings for iterfis) that users may have an interest in\n",
        "\n",
        "**Content-based filtering:**Content-based filtering approaches uses a series of discrete characteristics of an item in order to recommend additional items with similar properties Content-based filtering methods are totally based on a description of the item and a profile of the user's preferences It recommends items based on the user's past preferences. Let's develop a basic recommendation system using Python and Pandas\n",
        "\n",
        "Let's develop a basic recommendation system by suggesting items that are most similar to a particular item, in this case, movies, it jüst tells what movies/items are most similar to the user's movie choice\n",
        "\n"
      ],
      "metadata": {
        "id": "zAeO5Ov3AYk5"
      }
    },
    {
      "cell_type": "markdown",
      "source": [
        "**Import Library**"
      ],
      "metadata": {
        "id": "HjBo2JuGAWp3"
      }
    },
    {
      "cell_type": "code",
      "source": [
        "import pandas as pd\n"
      ],
      "metadata": {
        "id": "UMw4hFPxBqTF"
      },
      "execution_count": null,
      "outputs": []
    },
    {
      "cell_type": "code",
      "source": [
        "import numpy as np"
      ],
      "metadata": {
        "id": "L3Klzu-bB4T_"
      },
      "execution_count": null,
      "outputs": []
    },
    {
      "cell_type": "markdown",
      "source": [
        "**Import Datasets**"
      ],
      "metadata": {
        "id": "nhfP_NMKCDdY"
      }
    },
    {
      "cell_type": "code",
      "source": [
        "df = pd.read_csv(r'https://raw.githubusercontent.com/YBI-Foundation/Dataset/main/Movies%20Recommendation.csv')"
      ],
      "metadata": {
        "id": "xUQVNUVDCHr_"
      },
      "execution_count": null,
      "outputs": []
    },
    {
      "cell_type": "code",
      "source": [
        "df.head()"
      ],
      "metadata": {
        "colab": {
          "base_uri": "https://localhost:8080/",
          "height": 672
        },
        "id": "pNDIvyFNDp0A",
        "outputId": "75761fc5-8796-4011-fa0e-58fa2821a1ac"
      },
      "execution_count": null,
      "outputs": [
        {
          "output_type": "execute_result",
          "data": {
            "text/plain": [
              "   Movie_ID      Movie_Title                       Movie_Genre Movie_Language  \\\n",
              "0         1       Four Rooms                      Crime Comedy             en   \n",
              "1         2        Star Wars  Adventure Action Science Fiction             en   \n",
              "2         3     Finding Nemo                  Animation Family             en   \n",
              "3         4     Forrest Gump              Comedy Drama Romance             en   \n",
              "4         5  American Beauty                             Drama             en   \n",
              "\n",
              "   Movie_Budget  Movie_Popularity Movie_Release_Date  Movie_Revenue  \\\n",
              "0       4000000         22.876230         09-12-1995        4300000   \n",
              "1      11000000        126.393695         25-05-1977      775398007   \n",
              "2      94000000         85.688789         30-05-2003      940335536   \n",
              "3      55000000        138.133331         06-07-1994      677945399   \n",
              "4      15000000         80.878605         15-09-1999      356296601   \n",
              "\n",
              "   Movie_Runtime  Movie_Vote  ...  \\\n",
              "0           98.0         6.5  ...   \n",
              "1          121.0         8.1  ...   \n",
              "2          100.0         7.6  ...   \n",
              "3          142.0         8.2  ...   \n",
              "4          122.0         7.9  ...   \n",
              "\n",
              "                                      Movie_Homepage  \\\n",
              "0                                                NaN   \n",
              "1  http://www.starwars.com/films/star-wars-episod...   \n",
              "2              http://movies.disney.com/finding-nemo   \n",
              "3                                                NaN   \n",
              "4                      http://www.dreamworks.com/ab/   \n",
              "\n",
              "                                      Movie_Keywords  \\\n",
              "0          hotel new year's eve witch bet hotel room   \n",
              "1        android galaxy hermit death star lightsaber   \n",
              "2  father son relationship harbor underwater fish...   \n",
              "3  vietnam veteran hippie mentally disabled runni...   \n",
              "4  male nudity female nudity adultery midlife cri...   \n",
              "\n",
              "                                      Movie_Overview  \\\n",
              "0  It's Ted the Bellhop's first night on the job....   \n",
              "1  Princess Leia is captured and held hostage by ...   \n",
              "2  Nemo, an adventurous young clownfish, is unexp...   \n",
              "3  A man with a low IQ has accomplished great thi...   \n",
              "4  Lester Burnham, a depressed suburban father in...   \n",
              "\n",
              "                              Movie_Production_House  \\\n",
              "0  [{\"name\": \"Miramax Films\", \"id\": 14}, {\"name\":...   \n",
              "1  [{\"name\": \"Lucasfilm\", \"id\": 1}, {\"name\": \"Twe...   \n",
              "2     [{\"name\": \"Pixar Animation Studios\", \"id\": 3}]   \n",
              "3          [{\"name\": \"Paramount Pictures\", \"id\": 4}]   \n",
              "4  [{\"name\": \"DreamWorks SKG\", \"id\": 27}, {\"name\"...   \n",
              "\n",
              "                            Movie_Production_Country  \\\n",
              "0  [{\"iso_3166_1\": \"US\", \"name\": \"United States o...   \n",
              "1  [{\"iso_3166_1\": \"US\", \"name\": \"United States o...   \n",
              "2  [{\"iso_3166_1\": \"US\", \"name\": \"United States o...   \n",
              "3  [{\"iso_3166_1\": \"US\", \"name\": \"United States o...   \n",
              "4  [{\"iso_3166_1\": \"US\", \"name\": \"United States o...   \n",
              "\n",
              "                      Movie_Spoken_Language  \\\n",
              "0  [{\"iso_639_1\": \"en\", \"name\": \"English\"}]   \n",
              "1  [{\"iso_639_1\": \"en\", \"name\": \"English\"}]   \n",
              "2  [{\"iso_639_1\": \"en\", \"name\": \"English\"}]   \n",
              "3  [{\"iso_639_1\": \"en\", \"name\": \"English\"}]   \n",
              "4  [{\"iso_639_1\": \"en\", \"name\": \"English\"}]   \n",
              "\n",
              "                                       Movie_Tagline  \\\n",
              "0  Twelve outrageous guests. Four scandalous requ...   \n",
              "1       A long time ago in a galaxy far, far away...   \n",
              "2  There are 3.7 trillion fish in the ocean, they...   \n",
              "3  The world will never be the same, once you've ...   \n",
              "4                                       Look closer.   \n",
              "\n",
              "                                          Movie_Cast  \\\n",
              "0  Tim Roth Antonio Banderas Jennifer Beals Madon...   \n",
              "1  Mark Hamill Harrison Ford Carrie Fisher Peter ...   \n",
              "2  Albert Brooks Ellen DeGeneres Alexander Gould ...   \n",
              "3  Tom Hanks Robin Wright Gary Sinise Mykelti Wil...   \n",
              "4  Kevin Spacey Annette Bening Thora Birch Wes Be...   \n",
              "\n",
              "                                          Movie_Crew   Movie_Director  \n",
              "0  [{'name': 'Allison Anders', 'gender': 1, 'depa...   Allison Anders  \n",
              "1  [{'name': 'George Lucas', 'gender': 2, 'depart...     George Lucas  \n",
              "2  [{'name': 'Andrew Stanton', 'gender': 2, 'depa...   Andrew Stanton  \n",
              "3  [{'name': 'Alan Silvestri', 'gender': 2, 'depa...  Robert Zemeckis  \n",
              "4  [{'name': 'Thomas Newman', 'gender': 2, 'depar...       Sam Mendes  \n",
              "\n",
              "[5 rows x 21 columns]"
            ],
            "text/html": [
              "\n",
              "  <div id=\"df-42bb2a4b-5910-492f-9cfb-e92289e39c01\" class=\"colab-df-container\">\n",
              "    <div>\n",
              "<style scoped>\n",
              "    .dataframe tbody tr th:only-of-type {\n",
              "        vertical-align: middle;\n",
              "    }\n",
              "\n",
              "    .dataframe tbody tr th {\n",
              "        vertical-align: top;\n",
              "    }\n",
              "\n",
              "    .dataframe thead th {\n",
              "        text-align: right;\n",
              "    }\n",
              "</style>\n",
              "<table border=\"1\" class=\"dataframe\">\n",
              "  <thead>\n",
              "    <tr style=\"text-align: right;\">\n",
              "      <th></th>\n",
              "      <th>Movie_ID</th>\n",
              "      <th>Movie_Title</th>\n",
              "      <th>Movie_Genre</th>\n",
              "      <th>Movie_Language</th>\n",
              "      <th>Movie_Budget</th>\n",
              "      <th>Movie_Popularity</th>\n",
              "      <th>Movie_Release_Date</th>\n",
              "      <th>Movie_Revenue</th>\n",
              "      <th>Movie_Runtime</th>\n",
              "      <th>Movie_Vote</th>\n",
              "      <th>...</th>\n",
              "      <th>Movie_Homepage</th>\n",
              "      <th>Movie_Keywords</th>\n",
              "      <th>Movie_Overview</th>\n",
              "      <th>Movie_Production_House</th>\n",
              "      <th>Movie_Production_Country</th>\n",
              "      <th>Movie_Spoken_Language</th>\n",
              "      <th>Movie_Tagline</th>\n",
              "      <th>Movie_Cast</th>\n",
              "      <th>Movie_Crew</th>\n",
              "      <th>Movie_Director</th>\n",
              "    </tr>\n",
              "  </thead>\n",
              "  <tbody>\n",
              "    <tr>\n",
              "      <th>0</th>\n",
              "      <td>1</td>\n",
              "      <td>Four Rooms</td>\n",
              "      <td>Crime Comedy</td>\n",
              "      <td>en</td>\n",
              "      <td>4000000</td>\n",
              "      <td>22.876230</td>\n",
              "      <td>09-12-1995</td>\n",
              "      <td>4300000</td>\n",
              "      <td>98.0</td>\n",
              "      <td>6.5</td>\n",
              "      <td>...</td>\n",
              "      <td>NaN</td>\n",
              "      <td>hotel new year's eve witch bet hotel room</td>\n",
              "      <td>It's Ted the Bellhop's first night on the job....</td>\n",
              "      <td>[{\"name\": \"Miramax Films\", \"id\": 14}, {\"name\":...</td>\n",
              "      <td>[{\"iso_3166_1\": \"US\", \"name\": \"United States o...</td>\n",
              "      <td>[{\"iso_639_1\": \"en\", \"name\": \"English\"}]</td>\n",
              "      <td>Twelve outrageous guests. Four scandalous requ...</td>\n",
              "      <td>Tim Roth Antonio Banderas Jennifer Beals Madon...</td>\n",
              "      <td>[{'name': 'Allison Anders', 'gender': 1, 'depa...</td>\n",
              "      <td>Allison Anders</td>\n",
              "    </tr>\n",
              "    <tr>\n",
              "      <th>1</th>\n",
              "      <td>2</td>\n",
              "      <td>Star Wars</td>\n",
              "      <td>Adventure Action Science Fiction</td>\n",
              "      <td>en</td>\n",
              "      <td>11000000</td>\n",
              "      <td>126.393695</td>\n",
              "      <td>25-05-1977</td>\n",
              "      <td>775398007</td>\n",
              "      <td>121.0</td>\n",
              "      <td>8.1</td>\n",
              "      <td>...</td>\n",
              "      <td>http://www.starwars.com/films/star-wars-episod...</td>\n",
              "      <td>android galaxy hermit death star lightsaber</td>\n",
              "      <td>Princess Leia is captured and held hostage by ...</td>\n",
              "      <td>[{\"name\": \"Lucasfilm\", \"id\": 1}, {\"name\": \"Twe...</td>\n",
              "      <td>[{\"iso_3166_1\": \"US\", \"name\": \"United States o...</td>\n",
              "      <td>[{\"iso_639_1\": \"en\", \"name\": \"English\"}]</td>\n",
              "      <td>A long time ago in a galaxy far, far away...</td>\n",
              "      <td>Mark Hamill Harrison Ford Carrie Fisher Peter ...</td>\n",
              "      <td>[{'name': 'George Lucas', 'gender': 2, 'depart...</td>\n",
              "      <td>George Lucas</td>\n",
              "    </tr>\n",
              "    <tr>\n",
              "      <th>2</th>\n",
              "      <td>3</td>\n",
              "      <td>Finding Nemo</td>\n",
              "      <td>Animation Family</td>\n",
              "      <td>en</td>\n",
              "      <td>94000000</td>\n",
              "      <td>85.688789</td>\n",
              "      <td>30-05-2003</td>\n",
              "      <td>940335536</td>\n",
              "      <td>100.0</td>\n",
              "      <td>7.6</td>\n",
              "      <td>...</td>\n",
              "      <td>http://movies.disney.com/finding-nemo</td>\n",
              "      <td>father son relationship harbor underwater fish...</td>\n",
              "      <td>Nemo, an adventurous young clownfish, is unexp...</td>\n",
              "      <td>[{\"name\": \"Pixar Animation Studios\", \"id\": 3}]</td>\n",
              "      <td>[{\"iso_3166_1\": \"US\", \"name\": \"United States o...</td>\n",
              "      <td>[{\"iso_639_1\": \"en\", \"name\": \"English\"}]</td>\n",
              "      <td>There are 3.7 trillion fish in the ocean, they...</td>\n",
              "      <td>Albert Brooks Ellen DeGeneres Alexander Gould ...</td>\n",
              "      <td>[{'name': 'Andrew Stanton', 'gender': 2, 'depa...</td>\n",
              "      <td>Andrew Stanton</td>\n",
              "    </tr>\n",
              "    <tr>\n",
              "      <th>3</th>\n",
              "      <td>4</td>\n",
              "      <td>Forrest Gump</td>\n",
              "      <td>Comedy Drama Romance</td>\n",
              "      <td>en</td>\n",
              "      <td>55000000</td>\n",
              "      <td>138.133331</td>\n",
              "      <td>06-07-1994</td>\n",
              "      <td>677945399</td>\n",
              "      <td>142.0</td>\n",
              "      <td>8.2</td>\n",
              "      <td>...</td>\n",
              "      <td>NaN</td>\n",
              "      <td>vietnam veteran hippie mentally disabled runni...</td>\n",
              "      <td>A man with a low IQ has accomplished great thi...</td>\n",
              "      <td>[{\"name\": \"Paramount Pictures\", \"id\": 4}]</td>\n",
              "      <td>[{\"iso_3166_1\": \"US\", \"name\": \"United States o...</td>\n",
              "      <td>[{\"iso_639_1\": \"en\", \"name\": \"English\"}]</td>\n",
              "      <td>The world will never be the same, once you've ...</td>\n",
              "      <td>Tom Hanks Robin Wright Gary Sinise Mykelti Wil...</td>\n",
              "      <td>[{'name': 'Alan Silvestri', 'gender': 2, 'depa...</td>\n",
              "      <td>Robert Zemeckis</td>\n",
              "    </tr>\n",
              "    <tr>\n",
              "      <th>4</th>\n",
              "      <td>5</td>\n",
              "      <td>American Beauty</td>\n",
              "      <td>Drama</td>\n",
              "      <td>en</td>\n",
              "      <td>15000000</td>\n",
              "      <td>80.878605</td>\n",
              "      <td>15-09-1999</td>\n",
              "      <td>356296601</td>\n",
              "      <td>122.0</td>\n",
              "      <td>7.9</td>\n",
              "      <td>...</td>\n",
              "      <td>http://www.dreamworks.com/ab/</td>\n",
              "      <td>male nudity female nudity adultery midlife cri...</td>\n",
              "      <td>Lester Burnham, a depressed suburban father in...</td>\n",
              "      <td>[{\"name\": \"DreamWorks SKG\", \"id\": 27}, {\"name\"...</td>\n",
              "      <td>[{\"iso_3166_1\": \"US\", \"name\": \"United States o...</td>\n",
              "      <td>[{\"iso_639_1\": \"en\", \"name\": \"English\"}]</td>\n",
              "      <td>Look closer.</td>\n",
              "      <td>Kevin Spacey Annette Bening Thora Birch Wes Be...</td>\n",
              "      <td>[{'name': 'Thomas Newman', 'gender': 2, 'depar...</td>\n",
              "      <td>Sam Mendes</td>\n",
              "    </tr>\n",
              "  </tbody>\n",
              "</table>\n",
              "<p>5 rows × 21 columns</p>\n",
              "</div>\n",
              "    <div class=\"colab-df-buttons\">\n",
              "\n",
              "  <div class=\"colab-df-container\">\n",
              "    <button class=\"colab-df-convert\" onclick=\"convertToInteractive('df-42bb2a4b-5910-492f-9cfb-e92289e39c01')\"\n",
              "            title=\"Convert this dataframe to an interactive table.\"\n",
              "            style=\"display:none;\">\n",
              "\n",
              "  <svg xmlns=\"http://www.w3.org/2000/svg\" height=\"24px\" viewBox=\"0 -960 960 960\">\n",
              "    <path d=\"M120-120v-720h720v720H120Zm60-500h600v-160H180v160Zm220 220h160v-160H400v160Zm0 220h160v-160H400v160ZM180-400h160v-160H180v160Zm440 0h160v-160H620v160ZM180-180h160v-160H180v160Zm440 0h160v-160H620v160Z\"/>\n",
              "  </svg>\n",
              "    </button>\n",
              "\n",
              "  <style>\n",
              "    .colab-df-container {\n",
              "      display:flex;\n",
              "      gap: 12px;\n",
              "    }\n",
              "\n",
              "    .colab-df-convert {\n",
              "      background-color: #E8F0FE;\n",
              "      border: none;\n",
              "      border-radius: 50%;\n",
              "      cursor: pointer;\n",
              "      display: none;\n",
              "      fill: #1967D2;\n",
              "      height: 32px;\n",
              "      padding: 0 0 0 0;\n",
              "      width: 32px;\n",
              "    }\n",
              "\n",
              "    .colab-df-convert:hover {\n",
              "      background-color: #E2EBFA;\n",
              "      box-shadow: 0px 1px 2px rgba(60, 64, 67, 0.3), 0px 1px 3px 1px rgba(60, 64, 67, 0.15);\n",
              "      fill: #174EA6;\n",
              "    }\n",
              "\n",
              "    .colab-df-buttons div {\n",
              "      margin-bottom: 4px;\n",
              "    }\n",
              "\n",
              "    [theme=dark] .colab-df-convert {\n",
              "      background-color: #3B4455;\n",
              "      fill: #D2E3FC;\n",
              "    }\n",
              "\n",
              "    [theme=dark] .colab-df-convert:hover {\n",
              "      background-color: #434B5C;\n",
              "      box-shadow: 0px 1px 3px 1px rgba(0, 0, 0, 0.15);\n",
              "      filter: drop-shadow(0px 1px 2px rgba(0, 0, 0, 0.3));\n",
              "      fill: #FFFFFF;\n",
              "    }\n",
              "  </style>\n",
              "\n",
              "    <script>\n",
              "      const buttonEl =\n",
              "        document.querySelector('#df-42bb2a4b-5910-492f-9cfb-e92289e39c01 button.colab-df-convert');\n",
              "      buttonEl.style.display =\n",
              "        google.colab.kernel.accessAllowed ? 'block' : 'none';\n",
              "\n",
              "      async function convertToInteractive(key) {\n",
              "        const element = document.querySelector('#df-42bb2a4b-5910-492f-9cfb-e92289e39c01');\n",
              "        const dataTable =\n",
              "          await google.colab.kernel.invokeFunction('convertToInteractive',\n",
              "                                                    [key], {});\n",
              "        if (!dataTable) return;\n",
              "\n",
              "        const docLinkHtml = 'Like what you see? Visit the ' +\n",
              "          '<a target=\"_blank\" href=https://colab.research.google.com/notebooks/data_table.ipynb>data table notebook</a>'\n",
              "          + ' to learn more about interactive tables.';\n",
              "        element.innerHTML = '';\n",
              "        dataTable['output_type'] = 'display_data';\n",
              "        await google.colab.output.renderOutput(dataTable, element);\n",
              "        const docLink = document.createElement('div');\n",
              "        docLink.innerHTML = docLinkHtml;\n",
              "        element.appendChild(docLink);\n",
              "      }\n",
              "    </script>\n",
              "  </div>\n",
              "\n",
              "\n",
              "<div id=\"df-3e35bd2e-4a16-4211-b491-6e6b5e7b6829\">\n",
              "  <button class=\"colab-df-quickchart\" onclick=\"quickchart('df-3e35bd2e-4a16-4211-b491-6e6b5e7b6829')\"\n",
              "            title=\"Suggest charts\"\n",
              "            style=\"display:none;\">\n",
              "\n",
              "<svg xmlns=\"http://www.w3.org/2000/svg\" height=\"24px\"viewBox=\"0 0 24 24\"\n",
              "     width=\"24px\">\n",
              "    <g>\n",
              "        <path d=\"M19 3H5c-1.1 0-2 .9-2 2v14c0 1.1.9 2 2 2h14c1.1 0 2-.9 2-2V5c0-1.1-.9-2-2-2zM9 17H7v-7h2v7zm4 0h-2V7h2v10zm4 0h-2v-4h2v4z\"/>\n",
              "    </g>\n",
              "</svg>\n",
              "  </button>\n",
              "\n",
              "<style>\n",
              "  .colab-df-quickchart {\n",
              "      --bg-color: #E8F0FE;\n",
              "      --fill-color: #1967D2;\n",
              "      --hover-bg-color: #E2EBFA;\n",
              "      --hover-fill-color: #174EA6;\n",
              "      --disabled-fill-color: #AAA;\n",
              "      --disabled-bg-color: #DDD;\n",
              "  }\n",
              "\n",
              "  [theme=dark] .colab-df-quickchart {\n",
              "      --bg-color: #3B4455;\n",
              "      --fill-color: #D2E3FC;\n",
              "      --hover-bg-color: #434B5C;\n",
              "      --hover-fill-color: #FFFFFF;\n",
              "      --disabled-bg-color: #3B4455;\n",
              "      --disabled-fill-color: #666;\n",
              "  }\n",
              "\n",
              "  .colab-df-quickchart {\n",
              "    background-color: var(--bg-color);\n",
              "    border: none;\n",
              "    border-radius: 50%;\n",
              "    cursor: pointer;\n",
              "    display: none;\n",
              "    fill: var(--fill-color);\n",
              "    height: 32px;\n",
              "    padding: 0;\n",
              "    width: 32px;\n",
              "  }\n",
              "\n",
              "  .colab-df-quickchart:hover {\n",
              "    background-color: var(--hover-bg-color);\n",
              "    box-shadow: 0 1px 2px rgba(60, 64, 67, 0.3), 0 1px 3px 1px rgba(60, 64, 67, 0.15);\n",
              "    fill: var(--button-hover-fill-color);\n",
              "  }\n",
              "\n",
              "  .colab-df-quickchart-complete:disabled,\n",
              "  .colab-df-quickchart-complete:disabled:hover {\n",
              "    background-color: var(--disabled-bg-color);\n",
              "    fill: var(--disabled-fill-color);\n",
              "    box-shadow: none;\n",
              "  }\n",
              "\n",
              "  .colab-df-spinner {\n",
              "    border: 2px solid var(--fill-color);\n",
              "    border-color: transparent;\n",
              "    border-bottom-color: var(--fill-color);\n",
              "    animation:\n",
              "      spin 1s steps(1) infinite;\n",
              "  }\n",
              "\n",
              "  @keyframes spin {\n",
              "    0% {\n",
              "      border-color: transparent;\n",
              "      border-bottom-color: var(--fill-color);\n",
              "      border-left-color: var(--fill-color);\n",
              "    }\n",
              "    20% {\n",
              "      border-color: transparent;\n",
              "      border-left-color: var(--fill-color);\n",
              "      border-top-color: var(--fill-color);\n",
              "    }\n",
              "    30% {\n",
              "      border-color: transparent;\n",
              "      border-left-color: var(--fill-color);\n",
              "      border-top-color: var(--fill-color);\n",
              "      border-right-color: var(--fill-color);\n",
              "    }\n",
              "    40% {\n",
              "      border-color: transparent;\n",
              "      border-right-color: var(--fill-color);\n",
              "      border-top-color: var(--fill-color);\n",
              "    }\n",
              "    60% {\n",
              "      border-color: transparent;\n",
              "      border-right-color: var(--fill-color);\n",
              "    }\n",
              "    80% {\n",
              "      border-color: transparent;\n",
              "      border-right-color: var(--fill-color);\n",
              "      border-bottom-color: var(--fill-color);\n",
              "    }\n",
              "    90% {\n",
              "      border-color: transparent;\n",
              "      border-bottom-color: var(--fill-color);\n",
              "    }\n",
              "  }\n",
              "</style>\n",
              "\n",
              "  <script>\n",
              "    async function quickchart(key) {\n",
              "      const quickchartButtonEl =\n",
              "        document.querySelector('#' + key + ' button');\n",
              "      quickchartButtonEl.disabled = true;  // To prevent multiple clicks.\n",
              "      quickchartButtonEl.classList.add('colab-df-spinner');\n",
              "      try {\n",
              "        const charts = await google.colab.kernel.invokeFunction(\n",
              "            'suggestCharts', [key], {});\n",
              "      } catch (error) {\n",
              "        console.error('Error during call to suggestCharts:', error);\n",
              "      }\n",
              "      quickchartButtonEl.classList.remove('colab-df-spinner');\n",
              "      quickchartButtonEl.classList.add('colab-df-quickchart-complete');\n",
              "    }\n",
              "    (() => {\n",
              "      let quickchartButtonEl =\n",
              "        document.querySelector('#df-3e35bd2e-4a16-4211-b491-6e6b5e7b6829 button');\n",
              "      quickchartButtonEl.style.display =\n",
              "        google.colab.kernel.accessAllowed ? 'block' : 'none';\n",
              "    })();\n",
              "  </script>\n",
              "</div>\n",
              "\n",
              "    </div>\n",
              "  </div>\n"
            ],
            "application/vnd.google.colaboratory.intrinsic+json": {
              "type": "dataframe",
              "variable_name": "df"
            }
          },
          "metadata": {},
          "execution_count": 4
        }
      ]
    },
    {
      "cell_type": "code",
      "source": [
        "df.info()"
      ],
      "metadata": {
        "colab": {
          "base_uri": "https://localhost:8080/"
        },
        "id": "USELh8h8D2MP",
        "outputId": "66e10be4-29a7-4dbc-be8e-6e457dd96a06"
      },
      "execution_count": null,
      "outputs": [
        {
          "output_type": "stream",
          "name": "stdout",
          "text": [
            "<class 'pandas.core.frame.DataFrame'>\n",
            "RangeIndex: 4760 entries, 0 to 4759\n",
            "Data columns (total 21 columns):\n",
            " #   Column                    Non-Null Count  Dtype  \n",
            "---  ------                    --------------  -----  \n",
            " 0   Movie_ID                  4760 non-null   int64  \n",
            " 1   Movie_Title               4760 non-null   object \n",
            " 2   Movie_Genre               4760 non-null   object \n",
            " 3   Movie_Language            4760 non-null   object \n",
            " 4   Movie_Budget              4760 non-null   int64  \n",
            " 5   Movie_Popularity          4760 non-null   float64\n",
            " 6   Movie_Release_Date        4760 non-null   object \n",
            " 7   Movie_Revenue             4760 non-null   int64  \n",
            " 8   Movie_Runtime             4758 non-null   float64\n",
            " 9   Movie_Vote                4760 non-null   float64\n",
            " 10  Movie_Vote_Count          4760 non-null   int64  \n",
            " 11  Movie_Homepage            1699 non-null   object \n",
            " 12  Movie_Keywords            4373 non-null   object \n",
            " 13  Movie_Overview            4757 non-null   object \n",
            " 14  Movie_Production_House    4760 non-null   object \n",
            " 15  Movie_Production_Country  4760 non-null   object \n",
            " 16  Movie_Spoken_Language     4760 non-null   object \n",
            " 17  Movie_Tagline             3942 non-null   object \n",
            " 18  Movie_Cast                4733 non-null   object \n",
            " 19  Movie_Crew                4760 non-null   object \n",
            " 20  Movie_Director            4738 non-null   object \n",
            "dtypes: float64(3), int64(4), object(14)\n",
            "memory usage: 781.1+ KB\n"
          ]
        }
      ]
    },
    {
      "cell_type": "code",
      "source": [
        "df.shape"
      ],
      "metadata": {
        "colab": {
          "base_uri": "https://localhost:8080/"
        },
        "id": "N5x4MzGuD8iq",
        "outputId": "650b3f57-1f01-4868-b94a-7ab20f9fc210"
      },
      "execution_count": null,
      "outputs": [
        {
          "output_type": "execute_result",
          "data": {
            "text/plain": [
              "(4760, 21)"
            ]
          },
          "metadata": {},
          "execution_count": 7
        }
      ]
    },
    {
      "cell_type": "code",
      "source": [
        "df.columns"
      ],
      "metadata": {
        "colab": {
          "base_uri": "https://localhost:8080/"
        },
        "id": "TCPa1CK6EHJg",
        "outputId": "6b1b549e-6499-4397-800a-b75750de1150"
      },
      "execution_count": null,
      "outputs": [
        {
          "output_type": "execute_result",
          "data": {
            "text/plain": [
              "Index(['Movie_ID', 'Movie_Title', 'Movie_Genre', 'Movie_Language',\n",
              "       'Movie_Budget', 'Movie_Popularity', 'Movie_Release_Date',\n",
              "       'Movie_Revenue', 'Movie_Runtime', 'Movie_Vote', 'Movie_Vote_Count',\n",
              "       'Movie_Homepage', 'Movie_Keywords', 'Movie_Overview',\n",
              "       'Movie_Production_House', 'Movie_Production_Country',\n",
              "       'Movie_Spoken_Language', 'Movie_Tagline', 'Movie_Cast', 'Movie_Crew',\n",
              "       'Movie_Director'],\n",
              "      dtype='object')"
            ]
          },
          "metadata": {},
          "execution_count": 8
        }
      ]
    },
    {
      "cell_type": "markdown",
      "source": [
        "**Get Features Selection**"
      ],
      "metadata": {
        "id": "tFfIK6U9EM6W"
      }
    },
    {
      "cell_type": "code",
      "source": [
        "df_features = df[['Movie_Genre','Movie_Keywords','Movie_Tagline','Movie_Cast','Movie_Director']].fillna('')"
      ],
      "metadata": {
        "id": "sNGVvtUlESgX"
      },
      "execution_count": null,
      "outputs": []
    },
    {
      "cell_type": "code",
      "source": [
        "df_features.shape"
      ],
      "metadata": {
        "colab": {
          "base_uri": "https://localhost:8080/"
        },
        "id": "x-8i0SQMEXO6",
        "outputId": "2d30fe5f-8ce6-435c-959d-884c853e11f0"
      },
      "execution_count": null,
      "outputs": [
        {
          "output_type": "execute_result",
          "data": {
            "text/plain": [
              "(4760, 5)"
            ]
          },
          "metadata": {},
          "execution_count": 10
        }
      ]
    },
    {
      "cell_type": "code",
      "source": [
        "df_features"
      ],
      "metadata": {
        "colab": {
          "base_uri": "https://localhost:8080/",
          "height": 615
        },
        "id": "gioJclIYEhpM",
        "outputId": "cc0994dc-82a5-42e9-fb18-cc2156992225"
      },
      "execution_count": null,
      "outputs": [
        {
          "output_type": "execute_result",
          "data": {
            "text/plain": [
              "                           Movie_Genre  \\\n",
              "0                         Crime Comedy   \n",
              "1     Adventure Action Science Fiction   \n",
              "2                     Animation Family   \n",
              "3                 Comedy Drama Romance   \n",
              "4                                Drama   \n",
              "...                                ...   \n",
              "4755                            Horror   \n",
              "4756               Comedy Family Drama   \n",
              "4757                    Thriller Drama   \n",
              "4758                            Family   \n",
              "4759                       Documentary   \n",
              "\n",
              "                                         Movie_Keywords  \\\n",
              "0             hotel new year's eve witch bet hotel room   \n",
              "1           android galaxy hermit death star lightsaber   \n",
              "2     father son relationship harbor underwater fish...   \n",
              "3     vietnam veteran hippie mentally disabled runni...   \n",
              "4     male nudity female nudity adultery midlife cri...   \n",
              "...                                                 ...   \n",
              "4755                                                      \n",
              "4756                                                      \n",
              "4757                     christian film sex trafficking   \n",
              "4758                                                      \n",
              "4759  music actors legendary perfomer classic hollyw...   \n",
              "\n",
              "                                          Movie_Tagline  \\\n",
              "0     Twelve outrageous guests. Four scandalous requ...   \n",
              "1          A long time ago in a galaxy far, far away...   \n",
              "2     There are 3.7 trillion fish in the ocean, they...   \n",
              "3     The world will never be the same, once you've ...   \n",
              "4                                          Look closer.   \n",
              "...                                                 ...   \n",
              "4755                The hot spot where Satan's waitin'.   \n",
              "4756           It’s better to stand out than to fit in.   \n",
              "4757           She never knew it could happen to her...   \n",
              "4758                                                      \n",
              "4759                                                      \n",
              "\n",
              "                                             Movie_Cast     Movie_Director  \n",
              "0     Tim Roth Antonio Banderas Jennifer Beals Madon...     Allison Anders  \n",
              "1     Mark Hamill Harrison Ford Carrie Fisher Peter ...       George Lucas  \n",
              "2     Albert Brooks Ellen DeGeneres Alexander Gould ...     Andrew Stanton  \n",
              "3     Tom Hanks Robin Wright Gary Sinise Mykelti Wil...    Robert Zemeckis  \n",
              "4     Kevin Spacey Annette Bening Thora Birch Wes Be...         Sam Mendes  \n",
              "...                                                 ...                ...  \n",
              "4755  Lisa Hart Carroll Michael Des Barres Paul Drak...         Pece Dingo  \n",
              "4756  Roni Akurati Brighton Sharbino Jason Lee Anjul...       Frank Lotito  \n",
              "4757  Nicole Smolen Kim Baldwin Ariana Stephens Brys...       Jaco Booyens  \n",
              "4758                                                                        \n",
              "4759                                    Tony Oppedisano  Simon Napier-Bell  \n",
              "\n",
              "[4760 rows x 5 columns]"
            ],
            "text/html": [
              "\n",
              "  <div id=\"df-f365b2e1-d9ab-4632-9bf0-9ebc9a81fd95\" class=\"colab-df-container\">\n",
              "    <div>\n",
              "<style scoped>\n",
              "    .dataframe tbody tr th:only-of-type {\n",
              "        vertical-align: middle;\n",
              "    }\n",
              "\n",
              "    .dataframe tbody tr th {\n",
              "        vertical-align: top;\n",
              "    }\n",
              "\n",
              "    .dataframe thead th {\n",
              "        text-align: right;\n",
              "    }\n",
              "</style>\n",
              "<table border=\"1\" class=\"dataframe\">\n",
              "  <thead>\n",
              "    <tr style=\"text-align: right;\">\n",
              "      <th></th>\n",
              "      <th>Movie_Genre</th>\n",
              "      <th>Movie_Keywords</th>\n",
              "      <th>Movie_Tagline</th>\n",
              "      <th>Movie_Cast</th>\n",
              "      <th>Movie_Director</th>\n",
              "    </tr>\n",
              "  </thead>\n",
              "  <tbody>\n",
              "    <tr>\n",
              "      <th>0</th>\n",
              "      <td>Crime Comedy</td>\n",
              "      <td>hotel new year's eve witch bet hotel room</td>\n",
              "      <td>Twelve outrageous guests. Four scandalous requ...</td>\n",
              "      <td>Tim Roth Antonio Banderas Jennifer Beals Madon...</td>\n",
              "      <td>Allison Anders</td>\n",
              "    </tr>\n",
              "    <tr>\n",
              "      <th>1</th>\n",
              "      <td>Adventure Action Science Fiction</td>\n",
              "      <td>android galaxy hermit death star lightsaber</td>\n",
              "      <td>A long time ago in a galaxy far, far away...</td>\n",
              "      <td>Mark Hamill Harrison Ford Carrie Fisher Peter ...</td>\n",
              "      <td>George Lucas</td>\n",
              "    </tr>\n",
              "    <tr>\n",
              "      <th>2</th>\n",
              "      <td>Animation Family</td>\n",
              "      <td>father son relationship harbor underwater fish...</td>\n",
              "      <td>There are 3.7 trillion fish in the ocean, they...</td>\n",
              "      <td>Albert Brooks Ellen DeGeneres Alexander Gould ...</td>\n",
              "      <td>Andrew Stanton</td>\n",
              "    </tr>\n",
              "    <tr>\n",
              "      <th>3</th>\n",
              "      <td>Comedy Drama Romance</td>\n",
              "      <td>vietnam veteran hippie mentally disabled runni...</td>\n",
              "      <td>The world will never be the same, once you've ...</td>\n",
              "      <td>Tom Hanks Robin Wright Gary Sinise Mykelti Wil...</td>\n",
              "      <td>Robert Zemeckis</td>\n",
              "    </tr>\n",
              "    <tr>\n",
              "      <th>4</th>\n",
              "      <td>Drama</td>\n",
              "      <td>male nudity female nudity adultery midlife cri...</td>\n",
              "      <td>Look closer.</td>\n",
              "      <td>Kevin Spacey Annette Bening Thora Birch Wes Be...</td>\n",
              "      <td>Sam Mendes</td>\n",
              "    </tr>\n",
              "    <tr>\n",
              "      <th>...</th>\n",
              "      <td>...</td>\n",
              "      <td>...</td>\n",
              "      <td>...</td>\n",
              "      <td>...</td>\n",
              "      <td>...</td>\n",
              "    </tr>\n",
              "    <tr>\n",
              "      <th>4755</th>\n",
              "      <td>Horror</td>\n",
              "      <td></td>\n",
              "      <td>The hot spot where Satan's waitin'.</td>\n",
              "      <td>Lisa Hart Carroll Michael Des Barres Paul Drak...</td>\n",
              "      <td>Pece Dingo</td>\n",
              "    </tr>\n",
              "    <tr>\n",
              "      <th>4756</th>\n",
              "      <td>Comedy Family Drama</td>\n",
              "      <td></td>\n",
              "      <td>It’s better to stand out than to fit in.</td>\n",
              "      <td>Roni Akurati Brighton Sharbino Jason Lee Anjul...</td>\n",
              "      <td>Frank Lotito</td>\n",
              "    </tr>\n",
              "    <tr>\n",
              "      <th>4757</th>\n",
              "      <td>Thriller Drama</td>\n",
              "      <td>christian film sex trafficking</td>\n",
              "      <td>She never knew it could happen to her...</td>\n",
              "      <td>Nicole Smolen Kim Baldwin Ariana Stephens Brys...</td>\n",
              "      <td>Jaco Booyens</td>\n",
              "    </tr>\n",
              "    <tr>\n",
              "      <th>4758</th>\n",
              "      <td>Family</td>\n",
              "      <td></td>\n",
              "      <td></td>\n",
              "      <td></td>\n",
              "      <td></td>\n",
              "    </tr>\n",
              "    <tr>\n",
              "      <th>4759</th>\n",
              "      <td>Documentary</td>\n",
              "      <td>music actors legendary perfomer classic hollyw...</td>\n",
              "      <td></td>\n",
              "      <td>Tony Oppedisano</td>\n",
              "      <td>Simon Napier-Bell</td>\n",
              "    </tr>\n",
              "  </tbody>\n",
              "</table>\n",
              "<p>4760 rows × 5 columns</p>\n",
              "</div>\n",
              "    <div class=\"colab-df-buttons\">\n",
              "\n",
              "  <div class=\"colab-df-container\">\n",
              "    <button class=\"colab-df-convert\" onclick=\"convertToInteractive('df-f365b2e1-d9ab-4632-9bf0-9ebc9a81fd95')\"\n",
              "            title=\"Convert this dataframe to an interactive table.\"\n",
              "            style=\"display:none;\">\n",
              "\n",
              "  <svg xmlns=\"http://www.w3.org/2000/svg\" height=\"24px\" viewBox=\"0 -960 960 960\">\n",
              "    <path d=\"M120-120v-720h720v720H120Zm60-500h600v-160H180v160Zm220 220h160v-160H400v160Zm0 220h160v-160H400v160ZM180-400h160v-160H180v160Zm440 0h160v-160H620v160ZM180-180h160v-160H180v160Zm440 0h160v-160H620v160Z\"/>\n",
              "  </svg>\n",
              "    </button>\n",
              "\n",
              "  <style>\n",
              "    .colab-df-container {\n",
              "      display:flex;\n",
              "      gap: 12px;\n",
              "    }\n",
              "\n",
              "    .colab-df-convert {\n",
              "      background-color: #E8F0FE;\n",
              "      border: none;\n",
              "      border-radius: 50%;\n",
              "      cursor: pointer;\n",
              "      display: none;\n",
              "      fill: #1967D2;\n",
              "      height: 32px;\n",
              "      padding: 0 0 0 0;\n",
              "      width: 32px;\n",
              "    }\n",
              "\n",
              "    .colab-df-convert:hover {\n",
              "      background-color: #E2EBFA;\n",
              "      box-shadow: 0px 1px 2px rgba(60, 64, 67, 0.3), 0px 1px 3px 1px rgba(60, 64, 67, 0.15);\n",
              "      fill: #174EA6;\n",
              "    }\n",
              "\n",
              "    .colab-df-buttons div {\n",
              "      margin-bottom: 4px;\n",
              "    }\n",
              "\n",
              "    [theme=dark] .colab-df-convert {\n",
              "      background-color: #3B4455;\n",
              "      fill: #D2E3FC;\n",
              "    }\n",
              "\n",
              "    [theme=dark] .colab-df-convert:hover {\n",
              "      background-color: #434B5C;\n",
              "      box-shadow: 0px 1px 3px 1px rgba(0, 0, 0, 0.15);\n",
              "      filter: drop-shadow(0px 1px 2px rgba(0, 0, 0, 0.3));\n",
              "      fill: #FFFFFF;\n",
              "    }\n",
              "  </style>\n",
              "\n",
              "    <script>\n",
              "      const buttonEl =\n",
              "        document.querySelector('#df-f365b2e1-d9ab-4632-9bf0-9ebc9a81fd95 button.colab-df-convert');\n",
              "      buttonEl.style.display =\n",
              "        google.colab.kernel.accessAllowed ? 'block' : 'none';\n",
              "\n",
              "      async function convertToInteractive(key) {\n",
              "        const element = document.querySelector('#df-f365b2e1-d9ab-4632-9bf0-9ebc9a81fd95');\n",
              "        const dataTable =\n",
              "          await google.colab.kernel.invokeFunction('convertToInteractive',\n",
              "                                                    [key], {});\n",
              "        if (!dataTable) return;\n",
              "\n",
              "        const docLinkHtml = 'Like what you see? Visit the ' +\n",
              "          '<a target=\"_blank\" href=https://colab.research.google.com/notebooks/data_table.ipynb>data table notebook</a>'\n",
              "          + ' to learn more about interactive tables.';\n",
              "        element.innerHTML = '';\n",
              "        dataTable['output_type'] = 'display_data';\n",
              "        await google.colab.output.renderOutput(dataTable, element);\n",
              "        const docLink = document.createElement('div');\n",
              "        docLink.innerHTML = docLinkHtml;\n",
              "        element.appendChild(docLink);\n",
              "      }\n",
              "    </script>\n",
              "  </div>\n",
              "\n",
              "\n",
              "<div id=\"df-ff8c6eac-5434-483c-8639-2026733812af\">\n",
              "  <button class=\"colab-df-quickchart\" onclick=\"quickchart('df-ff8c6eac-5434-483c-8639-2026733812af')\"\n",
              "            title=\"Suggest charts\"\n",
              "            style=\"display:none;\">\n",
              "\n",
              "<svg xmlns=\"http://www.w3.org/2000/svg\" height=\"24px\"viewBox=\"0 0 24 24\"\n",
              "     width=\"24px\">\n",
              "    <g>\n",
              "        <path d=\"M19 3H5c-1.1 0-2 .9-2 2v14c0 1.1.9 2 2 2h14c1.1 0 2-.9 2-2V5c0-1.1-.9-2-2-2zM9 17H7v-7h2v7zm4 0h-2V7h2v10zm4 0h-2v-4h2v4z\"/>\n",
              "    </g>\n",
              "</svg>\n",
              "  </button>\n",
              "\n",
              "<style>\n",
              "  .colab-df-quickchart {\n",
              "      --bg-color: #E8F0FE;\n",
              "      --fill-color: #1967D2;\n",
              "      --hover-bg-color: #E2EBFA;\n",
              "      --hover-fill-color: #174EA6;\n",
              "      --disabled-fill-color: #AAA;\n",
              "      --disabled-bg-color: #DDD;\n",
              "  }\n",
              "\n",
              "  [theme=dark] .colab-df-quickchart {\n",
              "      --bg-color: #3B4455;\n",
              "      --fill-color: #D2E3FC;\n",
              "      --hover-bg-color: #434B5C;\n",
              "      --hover-fill-color: #FFFFFF;\n",
              "      --disabled-bg-color: #3B4455;\n",
              "      --disabled-fill-color: #666;\n",
              "  }\n",
              "\n",
              "  .colab-df-quickchart {\n",
              "    background-color: var(--bg-color);\n",
              "    border: none;\n",
              "    border-radius: 50%;\n",
              "    cursor: pointer;\n",
              "    display: none;\n",
              "    fill: var(--fill-color);\n",
              "    height: 32px;\n",
              "    padding: 0;\n",
              "    width: 32px;\n",
              "  }\n",
              "\n",
              "  .colab-df-quickchart:hover {\n",
              "    background-color: var(--hover-bg-color);\n",
              "    box-shadow: 0 1px 2px rgba(60, 64, 67, 0.3), 0 1px 3px 1px rgba(60, 64, 67, 0.15);\n",
              "    fill: var(--button-hover-fill-color);\n",
              "  }\n",
              "\n",
              "  .colab-df-quickchart-complete:disabled,\n",
              "  .colab-df-quickchart-complete:disabled:hover {\n",
              "    background-color: var(--disabled-bg-color);\n",
              "    fill: var(--disabled-fill-color);\n",
              "    box-shadow: none;\n",
              "  }\n",
              "\n",
              "  .colab-df-spinner {\n",
              "    border: 2px solid var(--fill-color);\n",
              "    border-color: transparent;\n",
              "    border-bottom-color: var(--fill-color);\n",
              "    animation:\n",
              "      spin 1s steps(1) infinite;\n",
              "  }\n",
              "\n",
              "  @keyframes spin {\n",
              "    0% {\n",
              "      border-color: transparent;\n",
              "      border-bottom-color: var(--fill-color);\n",
              "      border-left-color: var(--fill-color);\n",
              "    }\n",
              "    20% {\n",
              "      border-color: transparent;\n",
              "      border-left-color: var(--fill-color);\n",
              "      border-top-color: var(--fill-color);\n",
              "    }\n",
              "    30% {\n",
              "      border-color: transparent;\n",
              "      border-left-color: var(--fill-color);\n",
              "      border-top-color: var(--fill-color);\n",
              "      border-right-color: var(--fill-color);\n",
              "    }\n",
              "    40% {\n",
              "      border-color: transparent;\n",
              "      border-right-color: var(--fill-color);\n",
              "      border-top-color: var(--fill-color);\n",
              "    }\n",
              "    60% {\n",
              "      border-color: transparent;\n",
              "      border-right-color: var(--fill-color);\n",
              "    }\n",
              "    80% {\n",
              "      border-color: transparent;\n",
              "      border-right-color: var(--fill-color);\n",
              "      border-bottom-color: var(--fill-color);\n",
              "    }\n",
              "    90% {\n",
              "      border-color: transparent;\n",
              "      border-bottom-color: var(--fill-color);\n",
              "    }\n",
              "  }\n",
              "</style>\n",
              "\n",
              "  <script>\n",
              "    async function quickchart(key) {\n",
              "      const quickchartButtonEl =\n",
              "        document.querySelector('#' + key + ' button');\n",
              "      quickchartButtonEl.disabled = true;  // To prevent multiple clicks.\n",
              "      quickchartButtonEl.classList.add('colab-df-spinner');\n",
              "      try {\n",
              "        const charts = await google.colab.kernel.invokeFunction(\n",
              "            'suggestCharts', [key], {});\n",
              "      } catch (error) {\n",
              "        console.error('Error during call to suggestCharts:', error);\n",
              "      }\n",
              "      quickchartButtonEl.classList.remove('colab-df-spinner');\n",
              "      quickchartButtonEl.classList.add('colab-df-quickchart-complete');\n",
              "    }\n",
              "    (() => {\n",
              "      let quickchartButtonEl =\n",
              "        document.querySelector('#df-ff8c6eac-5434-483c-8639-2026733812af button');\n",
              "      quickchartButtonEl.style.display =\n",
              "        google.colab.kernel.accessAllowed ? 'block' : 'none';\n",
              "    })();\n",
              "  </script>\n",
              "</div>\n",
              "\n",
              "  <div id=\"id_1c666d36-2ba8-48ea-9d9c-3d101f55cfc4\">\n",
              "    <style>\n",
              "      .colab-df-generate {\n",
              "        background-color: #E8F0FE;\n",
              "        border: none;\n",
              "        border-radius: 50%;\n",
              "        cursor: pointer;\n",
              "        display: none;\n",
              "        fill: #1967D2;\n",
              "        height: 32px;\n",
              "        padding: 0 0 0 0;\n",
              "        width: 32px;\n",
              "      }\n",
              "\n",
              "      .colab-df-generate:hover {\n",
              "        background-color: #E2EBFA;\n",
              "        box-shadow: 0px 1px 2px rgba(60, 64, 67, 0.3), 0px 1px 3px 1px rgba(60, 64, 67, 0.15);\n",
              "        fill: #174EA6;\n",
              "      }\n",
              "\n",
              "      [theme=dark] .colab-df-generate {\n",
              "        background-color: #3B4455;\n",
              "        fill: #D2E3FC;\n",
              "      }\n",
              "\n",
              "      [theme=dark] .colab-df-generate:hover {\n",
              "        background-color: #434B5C;\n",
              "        box-shadow: 0px 1px 3px 1px rgba(0, 0, 0, 0.15);\n",
              "        filter: drop-shadow(0px 1px 2px rgba(0, 0, 0, 0.3));\n",
              "        fill: #FFFFFF;\n",
              "      }\n",
              "    </style>\n",
              "    <button class=\"colab-df-generate\" onclick=\"generateWithVariable('df_features')\"\n",
              "            title=\"Generate code using this dataframe.\"\n",
              "            style=\"display:none;\">\n",
              "\n",
              "  <svg xmlns=\"http://www.w3.org/2000/svg\" height=\"24px\"viewBox=\"0 0 24 24\"\n",
              "       width=\"24px\">\n",
              "    <path d=\"M7,19H8.4L18.45,9,17,7.55,7,17.6ZM5,21V16.75L18.45,3.32a2,2,0,0,1,2.83,0l1.4,1.43a1.91,1.91,0,0,1,.58,1.4,1.91,1.91,0,0,1-.58,1.4L9.25,21ZM18.45,9,17,7.55Zm-12,3A5.31,5.31,0,0,0,4.9,8.1,5.31,5.31,0,0,0,1,6.5,5.31,5.31,0,0,0,4.9,4.9,5.31,5.31,0,0,0,6.5,1,5.31,5.31,0,0,0,8.1,4.9,5.31,5.31,0,0,0,12,6.5,5.46,5.46,0,0,0,6.5,12Z\"/>\n",
              "  </svg>\n",
              "    </button>\n",
              "    <script>\n",
              "      (() => {\n",
              "      const buttonEl =\n",
              "        document.querySelector('#id_1c666d36-2ba8-48ea-9d9c-3d101f55cfc4 button.colab-df-generate');\n",
              "      buttonEl.style.display =\n",
              "        google.colab.kernel.accessAllowed ? 'block' : 'none';\n",
              "\n",
              "      buttonEl.onclick = () => {\n",
              "        google.colab.notebook.generateWithVariable('df_features');\n",
              "      }\n",
              "      })();\n",
              "    </script>\n",
              "  </div>\n",
              "\n",
              "    </div>\n",
              "  </div>\n"
            ],
            "application/vnd.google.colaboratory.intrinsic+json": {
              "type": "dataframe",
              "variable_name": "df_features",
              "summary": "{\n  \"name\": \"df_features\",\n  \"rows\": 4760,\n  \"fields\": [\n    {\n      \"column\": \"Movie_Genre\",\n      \"properties\": {\n        \"dtype\": \"category\",\n        \"num_unique_values\": 1164,\n        \"samples\": [\n          \"Family Animation Adventure\",\n          \"Adventure Science Fiction Action\",\n          \"Action Crime Drama Romance Thriller\"\n        ],\n        \"semantic_type\": \"\",\n        \"description\": \"\"\n      }\n    },\n    {\n      \"column\": \"Movie_Keywords\",\n      \"properties\": {\n        \"dtype\": \"string\",\n        \"num_unique_values\": 4203,\n        \"samples\": [\n          \"canada nazis sequel spin off ancient evil\",\n          \"sex professor wedding woman director columbia university\",\n          \"prophecy sea beach gold small town\"\n        ],\n        \"semantic_type\": \"\",\n        \"description\": \"\"\n      }\n    },\n    {\n      \"column\": \"Movie_Tagline\",\n      \"properties\": {\n        \"dtype\": \"string\",\n        \"num_unique_values\": 3928,\n        \"samples\": [\n          \"The messenger must be silenced.\",\n          \"It's not the house that's haunted.\",\n          \"The final hunt begins.\"\n        ],\n        \"semantic_type\": \"\",\n        \"description\": \"\"\n      }\n    },\n    {\n      \"column\": \"Movie_Cast\",\n      \"properties\": {\n        \"dtype\": \"string\",\n        \"num_unique_values\": 4715,\n        \"samples\": [\n          \"Robin Tunney Fairuza Balk Neve Campbell Rachel True Skeet Ulrich\",\n          \"Peter Sellers Christopher Plummer Herbert Lom Catherine Schell Peter Arne\",\n          \"John Wayne Laraine Day Cedric Hardwicke Judith Anderson Anthony Quinn\"\n        ],\n        \"semantic_type\": \"\",\n        \"description\": \"\"\n      }\n    },\n    {\n      \"column\": \"Movie_Director\",\n      \"properties\": {\n        \"dtype\": \"category\",\n        \"num_unique_values\": 2332,\n        \"samples\": [\n          \"Rob McKittrick\",\n          \"Terron R. Parsons\",\n          \"Cyrus Nowrasteh\"\n        ],\n        \"semantic_type\": \"\",\n        \"description\": \"\"\n      }\n    }\n  ]\n}"
            }
          },
          "metadata": {},
          "execution_count": 11
        }
      ]
    },
    {
      "cell_type": "code",
      "source": [
        "x = df_features['Movie_Genre']+' '+df_features['Movie_Keywords']+' '+df_features['Movie_Tagline']+' '+df_features['Movie_Cast']+' '+df_features['Movie_Director']"
      ],
      "metadata": {
        "id": "VvicPW8rEhTb"
      },
      "execution_count": null,
      "outputs": []
    },
    {
      "cell_type": "code",
      "source": [
        "x"
      ],
      "metadata": {
        "colab": {
          "base_uri": "https://localhost:8080/",
          "height": 458
        },
        "id": "EjYfvV0qE7gy",
        "outputId": "be0a25f5-54fa-4b1b-ad0a-b91b0913c720"
      },
      "execution_count": null,
      "outputs": [
        {
          "output_type": "execute_result",
          "data": {
            "text/plain": [
              "0       Crime Comedy hotel new year's eve witch bet ho...\n",
              "1       Adventure Action Science Fiction android galax...\n",
              "2       Animation Family father son relationship harbo...\n",
              "3       Comedy Drama Romance vietnam veteran hippie me...\n",
              "4       Drama male nudity female nudity adultery midli...\n",
              "                              ...                        \n",
              "4755    Horror  The hot spot where Satan's waitin'. Li...\n",
              "4756    Comedy Family Drama  It’s better to stand out ...\n",
              "4757    Thriller Drama christian film sex trafficking ...\n",
              "4758                                           Family    \n",
              "4759    Documentary music actors legendary perfomer cl...\n",
              "Length: 4760, dtype: object"
            ],
            "text/html": [
              "<div>\n",
              "<style scoped>\n",
              "    .dataframe tbody tr th:only-of-type {\n",
              "        vertical-align: middle;\n",
              "    }\n",
              "\n",
              "    .dataframe tbody tr th {\n",
              "        vertical-align: top;\n",
              "    }\n",
              "\n",
              "    .dataframe thead th {\n",
              "        text-align: right;\n",
              "    }\n",
              "</style>\n",
              "<table border=\"1\" class=\"dataframe\">\n",
              "  <thead>\n",
              "    <tr style=\"text-align: right;\">\n",
              "      <th></th>\n",
              "      <th>0</th>\n",
              "    </tr>\n",
              "  </thead>\n",
              "  <tbody>\n",
              "    <tr>\n",
              "      <th>0</th>\n",
              "      <td>Crime Comedy hotel new year's eve witch bet ho...</td>\n",
              "    </tr>\n",
              "    <tr>\n",
              "      <th>1</th>\n",
              "      <td>Adventure Action Science Fiction android galax...</td>\n",
              "    </tr>\n",
              "    <tr>\n",
              "      <th>2</th>\n",
              "      <td>Animation Family father son relationship harbo...</td>\n",
              "    </tr>\n",
              "    <tr>\n",
              "      <th>3</th>\n",
              "      <td>Comedy Drama Romance vietnam veteran hippie me...</td>\n",
              "    </tr>\n",
              "    <tr>\n",
              "      <th>4</th>\n",
              "      <td>Drama male nudity female nudity adultery midli...</td>\n",
              "    </tr>\n",
              "    <tr>\n",
              "      <th>...</th>\n",
              "      <td>...</td>\n",
              "    </tr>\n",
              "    <tr>\n",
              "      <th>4755</th>\n",
              "      <td>Horror  The hot spot where Satan's waitin'. Li...</td>\n",
              "    </tr>\n",
              "    <tr>\n",
              "      <th>4756</th>\n",
              "      <td>Comedy Family Drama  It’s better to stand out ...</td>\n",
              "    </tr>\n",
              "    <tr>\n",
              "      <th>4757</th>\n",
              "      <td>Thriller Drama christian film sex trafficking ...</td>\n",
              "    </tr>\n",
              "    <tr>\n",
              "      <th>4758</th>\n",
              "      <td>Family</td>\n",
              "    </tr>\n",
              "    <tr>\n",
              "      <th>4759</th>\n",
              "      <td>Documentary music actors legendary perfomer cl...</td>\n",
              "    </tr>\n",
              "  </tbody>\n",
              "</table>\n",
              "<p>4760 rows × 1 columns</p>\n",
              "</div><br><label><b>dtype:</b> object</label>"
            ]
          },
          "metadata": {},
          "execution_count": 13
        }
      ]
    },
    {
      "cell_type": "code",
      "source": [
        "x.shape"
      ],
      "metadata": {
        "colab": {
          "base_uri": "https://localhost:8080/"
        },
        "id": "KNnTmgJrE_Ee",
        "outputId": "ab707832-548e-4b0e-fd4a-e21fd5038e54"
      },
      "execution_count": null,
      "outputs": [
        {
          "output_type": "execute_result",
          "data": {
            "text/plain": [
              "(4760,)"
            ]
          },
          "metadata": {},
          "execution_count": 14
        }
      ]
    },
    {
      "cell_type": "markdown",
      "source": [
        "**Get Features Text Conversion To Tokens**"
      ],
      "metadata": {
        "id": "O2XwzsDLFFZd"
      }
    },
    {
      "cell_type": "code",
      "source": [
        "from sklearn.feature_extraction.text import TfidfVectorizer"
      ],
      "metadata": {
        "id": "j5S4EGRxFBRn"
      },
      "execution_count": null,
      "outputs": []
    },
    {
      "cell_type": "code",
      "source": [
        "tfidf = TfidfVectorizer()"
      ],
      "metadata": {
        "id": "fzLrXkBwFeg2"
      },
      "execution_count": null,
      "outputs": []
    },
    {
      "cell_type": "code",
      "source": [
        "x = tfidf.fit_transform(x)"
      ],
      "metadata": {
        "id": "sV0TdIBXFkFC"
      },
      "execution_count": null,
      "outputs": []
    },
    {
      "cell_type": "code",
      "source": [
        "x.shape"
      ],
      "metadata": {
        "colab": {
          "base_uri": "https://localhost:8080/"
        },
        "id": "FuQtslCYFpmh",
        "outputId": "e617b7fc-a013-4b47-f1de-7eba04dfa3c7"
      },
      "execution_count": null,
      "outputs": [
        {
          "output_type": "execute_result",
          "data": {
            "text/plain": [
              "(4760, 17258)"
            ]
          },
          "metadata": {},
          "execution_count": 18
        }
      ]
    },
    {
      "cell_type": "code",
      "source": [
        "print(x)"
      ],
      "metadata": {
        "colab": {
          "base_uri": "https://localhost:8080/"
        },
        "id": "ZQPG3h08FuzP",
        "outputId": "aea47816-b0a0-4408-a0d3-839d05189c85"
      },
      "execution_count": null,
      "outputs": [
        {
          "output_type": "stream",
          "name": "stdout",
          "text": [
            "  (0, 617)\t0.1633382144407513\n",
            "  (0, 492)\t0.1432591540388685\n",
            "  (0, 15413)\t0.1465525095337543\n",
            "  (0, 9675)\t0.14226057295252661\n",
            "  (0, 9465)\t0.1659841367820977\n",
            "  (0, 1390)\t0.16898383612799558\n",
            "  (0, 7825)\t0.09799561597509843\n",
            "  (0, 1214)\t0.13865857545144072\n",
            "  (0, 729)\t0.13415063359531618\n",
            "  (0, 13093)\t0.1432591540388685\n",
            "  (0, 15355)\t0.10477815972666779\n",
            "  (0, 9048)\t0.0866842116160778\n",
            "  (0, 11161)\t0.06250380151644369\n",
            "  (0, 16773)\t0.17654247479915475\n",
            "  (0, 5612)\t0.08603537588547631\n",
            "  (0, 16735)\t0.10690083751525419\n",
            "  (0, 7904)\t0.13348000542112332\n",
            "  (0, 15219)\t0.09800472886453934\n",
            "  (0, 11242)\t0.07277788238484746\n",
            "  (0, 3878)\t0.11998399582562203\n",
            "  (0, 5499)\t0.11454057510303811\n",
            "  (0, 7071)\t0.19822417598406614\n",
            "  (0, 7454)\t0.14745635785412262\n",
            "  (0, 1495)\t0.19712637387361423\n",
            "  (0, 9206)\t0.15186283580984414\n",
            "  :\t:\n",
            "  (4757, 5455)\t0.12491480594769522\n",
            "  (4757, 2967)\t0.16273475835631626\n",
            "  (4757, 8464)\t0.23522565554066333\n",
            "  (4757, 6938)\t0.17088173678136628\n",
            "  (4757, 8379)\t0.17480603856721913\n",
            "  (4757, 15303)\t0.07654356007668191\n",
            "  (4757, 15384)\t0.09754322497537371\n",
            "  (4757, 7649)\t0.11479421494340192\n",
            "  (4757, 10896)\t0.14546473055066447\n",
            "  (4757, 4494)\t0.05675298448720501\n",
            "  (4758, 5238)\t1.0\n",
            "  (4759, 11264)\t0.33947721804318337\n",
            "  (4759, 11708)\t0.33947721804318337\n",
            "  (4759, 205)\t0.3237911628497312\n",
            "  (4759, 8902)\t0.3040290704566037\n",
            "  (4759, 14062)\t0.3237911628497312\n",
            "  (4759, 3058)\t0.2812896191863103\n",
            "  (4759, 7130)\t0.26419662449963793\n",
            "  (4759, 10761)\t0.3126617295732147\n",
            "  (4759, 4358)\t0.18306542312175342\n",
            "  (4759, 14051)\t0.20084315377640435\n",
            "  (4759, 5690)\t0.19534291014627303\n",
            "  (4759, 15431)\t0.19628653185946862\n",
            "  (4759, 1490)\t0.21197258705292082\n",
            "  (4759, 10666)\t0.15888268987343043\n"
          ]
        }
      ]
    },
    {
      "cell_type": "markdown",
      "source": [
        "**Get Similarity Score Using Cosine Similarity**"
      ],
      "metadata": {
        "id": "cOk541_8GBTf"
      }
    },
    {
      "cell_type": "markdown",
      "source": [
        "cosine similarity computes the 12-normalized dot product of vectors Euclidean (L2) normalization projects the vectors onto the unit sphere, and their dot product is then the costne of the angle between the points denoted by the vectors."
      ],
      "metadata": {
        "id": "YV_aJiHtGfB3"
      }
    },
    {
      "cell_type": "code",
      "source": [
        "from sklearn.metrics.pairwise import cosine_similarity"
      ],
      "metadata": {
        "id": "byXTff4BGgsy"
      },
      "execution_count": null,
      "outputs": []
    },
    {
      "cell_type": "code",
      "source": [
        "similarity_score = cosine_similarity(x)"
      ],
      "metadata": {
        "id": "IjqWUjRoGoxj"
      },
      "execution_count": null,
      "outputs": []
    },
    {
      "cell_type": "code",
      "source": [
        "similarity_score"
      ],
      "metadata": {
        "colab": {
          "base_uri": "https://localhost:8080/"
        },
        "id": "6DHS73mzG1Qm",
        "outputId": "11b8e6a7-45c6-4b5e-fae7-4c6d01a86c52"
      },
      "execution_count": null,
      "outputs": [
        {
          "output_type": "execute_result",
          "data": {
            "text/plain": [
              "array([[1.        , 0.01351235, 0.03570468, ..., 0.        , 0.        ,\n",
              "        0.        ],\n",
              "       [0.01351235, 1.        , 0.00806674, ..., 0.        , 0.        ,\n",
              "        0.        ],\n",
              "       [0.03570468, 0.00806674, 1.        , ..., 0.        , 0.08014876,\n",
              "        0.        ],\n",
              "       ...,\n",
              "       [0.        , 0.        , 0.        , ..., 1.        , 0.        ,\n",
              "        0.        ],\n",
              "       [0.        , 0.        , 0.08014876, ..., 0.        , 1.        ,\n",
              "        0.        ],\n",
              "       [0.        , 0.        , 0.        , ..., 0.        , 0.        ,\n",
              "        1.        ]])"
            ]
          },
          "metadata": {},
          "execution_count": 24
        }
      ]
    },
    {
      "cell_type": "code",
      "source": [
        "similarity_score.shape"
      ],
      "metadata": {
        "colab": {
          "base_uri": "https://localhost:8080/"
        },
        "id": "Zu5n1EI8HNVM",
        "outputId": "ed266e9f-32a8-4ecd-9c3a-d3b7159b3957"
      },
      "execution_count": null,
      "outputs": [
        {
          "output_type": "execute_result",
          "data": {
            "text/plain": [
              "(4760, 4760)"
            ]
          },
          "metadata": {},
          "execution_count": 25
        }
      ]
    },
    {
      "cell_type": "markdown",
      "source": [
        "**Get Movie Name As Input From User And Validate From Closest Spelling**"
      ],
      "metadata": {
        "id": "hijZIzyjHW_h"
      }
    },
    {
      "cell_type": "code",
      "source": [
        "favourite_movie_name = input('Enter your favourite movie name:')"
      ],
      "metadata": {
        "colab": {
          "base_uri": "https://localhost:8080/"
        },
        "id": "UuSH6tOAHlsr",
        "outputId": "80e48181-fea9-4a09-8b8e-6d7e013ea92c"
      },
      "execution_count": null,
      "outputs": [
        {
          "name": "stdout",
          "output_type": "stream",
          "text": [
            "Enter your favourite movie name:war\n"
          ]
        }
      ]
    },
    {
      "cell_type": "code",
      "source": [
        "all_movie_titles = df['Movie_Title'].tolist()"
      ],
      "metadata": {
        "id": "AwH4vonUH0bS"
      },
      "execution_count": null,
      "outputs": []
    },
    {
      "cell_type": "code",
      "source": [
        "import difflib"
      ],
      "metadata": {
        "id": "oFPuLBCQH-A2"
      },
      "execution_count": null,
      "outputs": []
    },
    {
      "cell_type": "code",
      "source": [
        "movie_recommendation = difflib.get_close_matches(favourite_movie_name,all_movie_titles)\n",
        "print(movie_recommendation)"
      ],
      "metadata": {
        "colab": {
          "base_uri": "https://localhost:8080/"
        },
        "id": "xs87E_wnH992",
        "outputId": "be056cba-7dc2-40c4-b402-82bfc58ab58a"
      },
      "execution_count": null,
      "outputs": [
        {
          "output_type": "stream",
          "name": "stdout",
          "text": [
            "['War']\n"
          ]
        }
      ]
    },
    {
      "cell_type": "code",
      "source": [
        "close_match = movie_recommendation[0]\n",
        "print(close_match)"
      ],
      "metadata": {
        "colab": {
          "base_uri": "https://localhost:8080/"
        },
        "id": "OaPoTX-9INAw",
        "outputId": "898bc12a-6c0b-47ef-b826-c209fc570884"
      },
      "execution_count": null,
      "outputs": [
        {
          "output_type": "stream",
          "name": "stdout",
          "text": [
            "War\n"
          ]
        }
      ]
    },
    {
      "cell_type": "code",
      "source": [
        "index_of_close_match_movie = df[df.Movie_Title == close_match]['Movie_ID'].values[0]\n",
        "print(index_of_close_match_movie)"
      ],
      "metadata": {
        "colab": {
          "base_uri": "https://localhost:8080/"
        },
        "id": "JBWlAW1OIUfU",
        "outputId": "9f462f19-0926-4700-a93d-4dff93236534"
      },
      "execution_count": null,
      "outputs": [
        {
          "output_type": "stream",
          "name": "stdout",
          "text": [
            "1682\n"
          ]
        }
      ]
    },
    {
      "cell_type": "code",
      "source": [
        "# getting a list of similar movies\n",
        "Recommendation_Score = list(enumerate(similarity_score[index_of_close_match_movie]))\n",
        "print(Recommendation_Score)"
      ],
      "metadata": {
        "colab": {
          "base_uri": "https://localhost:8080/"
        },
        "id": "4gdQDkMEM7OQ",
        "outputId": "4de13a60-13f0-42b0-9eee-fd349c1db14e"
      },
      "execution_count": null,
      "outputs": [
        {
          "output_type": "stream",
          "name": "stdout",
          "text": [
            "[(0, 0.08394916115866304), (1, 0.017644624028502573), (2, 0.0345416812534365), (3, 0.044713474918230384), (4, 0.00289183475854179), (5, 0.010869379186006702), (6, 0.0), (7, 0.021653488393170016), (8, 0.010059503296544349), (9, 0.02466849729017782), (10, 0.004649726797941243), (11, 0.015740520117377758), (12, 0.02698526727505787), (13, 0.0), (14, 0.021350154473850518), (15, 0.021638913644487306), (16, 0.002284400247255787), (17, 0.0), (18, 0.006811883007937033), (19, 0.0552796037454851), (20, 0.0028667529667308874), (21, 0.0029309434083009825), (22, 0.014096946155049158), (23, 0.009652583475597585), (24, 0.001790072670343979), (25, 0.07698693673630995), (26, 0.0026817022536870824), (27, 0.031423914534186984), (28, 0.01896163889273835), (29, 0.032706646281204094), (30, 0.0), (31, 0.0025776179004109233), (32, 0.05907395244096255), (33, 0.012041842806397546), (34, 0.025417392293957987), (35, 0.05140689686231961), (36, 0.0), (37, 0.02501492648697477), (38, 0.025746471311807736), (39, 0.04939944722696189), (40, 0.015926039313788602), (41, 0.00304971476078541), (42, 0.008281481151688166), (43, 0.08561339140010785), (44, 0.03587501873770221), (45, 0.01182500362542276), (46, 0.0), (47, 0.0), (48, 0.09121145322657147), (49, 0.014169411705553088), (50, 0.0), (51, 0.09194614588380617), (52, 0.04586816806915284), (53, 0.0), (54, 0.008222230939609733), (55, 0.014745964029709213), (56, 0.023339664309709386), (57, 0.046017415427478815), (58, 0.010447161041940912), (59, 0.016627429815247154), (60, 0.04617765921558821), (61, 0.002705915057417903), (62, 0.10129686963637845), (63, 0.03644905292500274), (64, 0.022422711782066396), (65, 0.00432677351374297), (66, 0.11590446142251193), (67, 0.03761775856629203), (68, 0.0029067305691960013), (69, 0.0), (70, 0.021606533765422424), (71, 0.09011655843889667), (72, 0.017918178233428436), (73, 0.0), (74, 0.02741763591180748), (75, 0.05007230034592921), (76, 0.02272475320148259), (77, 0.0), (78, 0.015601788594574586), (79, 0.02123498106764228), (80, 0.003997838444977743), (81, 0.0), (82, 0.07419693078403014), (83, 0.05346771947440684), (84, 0.022844902538648883), (85, 0.02256900819538138), (86, 0.03856021885929811), (87, 0.021715705127456433), (88, 0.019892017341553974), (89, 0.0), (90, 0.0), (91, 0.03243751770663722), (92, 0.019796667721357564), (93, 0.0), (94, 0.004006800624448349), (95, 0.0), (96, 0.09550818905624783), (97, 0.01879445562684541), (98, 0.0026837441054690884), (99, 0.016405192765406276), (100, 0.02074615126112382), (101, 0.02554495932927109), (102, 0.04198548745897855), (103, 0.008022877251242294), (104, 0.04877246005709218), (105, 0.015075141662273368), (106, 0.09173987046549842), (107, 0.0031084858406612717), (108, 0.10391300516976895), (109, 0.03550140705991908), (110, 0.011124879917687024), (111, 0.010067096954196763), (112, 0.03976713054212499), (113, 0.03553665941551392), (114, 0.009271567356545182), (115, 0.05433270989360464), (116, 0.00874222710772559), (117, 0.0), (118, 0.03509398310490975), (119, 0.03922120577536028), (120, 0.002826633829954351), (121, 0.026669260207276727), (122, 0.02623593499541753), (123, 0.0077722567396334525), (124, 0.0437914272992039), (125, 0.016253415359193904), (126, 0.00258593818657809), (127, 0.0026686680749502885), (128, 0.0), (129, 0.059175837410981924), (130, 0.050654655760458356), (131, 0.027007260444276482), (132, 0.04003376522119903), (133, 0.0), (134, 0.0), (135, 0.023019098639085148), (136, 0.019306476101433), (137, 0.02744481715216575), (138, 0.004189399268249966), (139, 0.0), (140, 0.00256736143250396), (141, 0.021697983071654915), (142, 0.014014002069175453), (143, 0.02072279789271521), (144, 0.02588794195602219), (145, 0.0375527407146784), (146, 0.007035065326320593), (147, 0.014654316723749863), (148, 0.003959418533820262), (149, 0.0022632927043230275), (150, 0.04188575180502395), (151, 0.0), (152, 0.0234211322281079), (153, 0.03138199682161007), (154, 0.020098416679255868), (155, 0.04346028260522743), (156, 0.056266682926894546), (157, 0.0026102911306754807), (158, 0.0024584875782229605), (159, 0.020086379094778326), (160, 0.018106830251441906), (161, 0.05399104951086266), (162, 0.08177478694241974), (163, 0.0), (164, 0.016117411562442313), (165, 0.02561665618675231), (166, 0.006273881557886595), (167, 0.039281102913301995), (168, 0.03011290681621983), (169, 0.02744942110094871), (170, 0.007906572012623977), (171, 0.017727670250330355), (172, 0.02256654798644342), (173, 0.017752143392748592), (174, 0.037112346485744935), (175, 0.017986997198716232), (176, 0.0028162578680277486), (177, 0.035458873300288234), (178, 0.0455812611690208), (179, 0.017951157388087863), (180, 0.0), (181, 0.0), (182, 0.025869219502014054), (183, 0.015534311845634464), (184, 0.03146245525530743), (185, 0.05919444794543956), (186, 0.003648765412509323), (187, 0.0), (188, 0.0), (189, 0.01933950436113907), (190, 0.03152597021473686), (191, 0.03263500730975896), (192, 0.045354556398027664), (193, 0.03336448069938447), (194, 0.02328120586171715), (195, 0.09449880602527122), (196, 0.015903013210957922), (197, 0.022151376889474703), (198, 0.009398164750736787), (199, 0.015444541787784424), (200, 0.002421764180281245), (201, 0.004552229238519101), (202, 0.05172183780619494), (203, 0.03997644060489173), (204, 0.011321841787212475), (205, 0.008573180282724684), (206, 0.002907364957938048), (207, 0.029546554662573034), (208, 0.032965314143979546), (209, 0.021494365150821336), (210, 0.0029538650209698096), (211, 0.014242499212974429), (212, 0.07009007776323677), (213, 0.0025508982448174808), (214, 0.08225465060079039), (215, 0.0327798981478797), (216, 0.06602420694107126), (217, 0.03146002604337122), (218, 0.08251362998655352), (219, 0.03859998081215688), (220, 0.024357273915942647), (221, 0.017103748296729563), (222, 0.05491423367635606), (223, 0.023224049887014916), (224, 0.007086925813689217), (225, 0.035237717528186954), (226, 0.05560671548658623), (227, 0.05510466381715531), (228, 0.09698031466900484), (229, 0.002555204457890743), (230, 0.04475020765064385), (231, 0.050490659657705564), (232, 0.019983770050187585), (233, 0.0), (234, 0.003755155827025498), (235, 0.00309352780833374), (236, 0.0333684766049758), (237, 0.02613450518278502), (238, 0.01718905133267013), (239, 0.0255814894761717), (240, 0.029817319091769608), (241, 0.0), (242, 0.02167504944093257), (243, 0.02376872511995143), (244, 0.0), (245, 0.0), (246, 0.0029147416728870284), (247, 0.02117095228678074), (248, 0.013134234356786645), (249, 0.03518447644325011), (250, 0.004882348754362716), (251, 0.05493172850570367), (252, 0.027579495693784113), (253, 0.040390885647940106), (254, 0.023600233770149158), (255, 0.009699643992377523), (256, 0.002047593463762265), (257, 0.0), (258, 0.01909831068293346), (259, 0.045187624938446976), (260, 0.017713777541951067), (261, 0.036032516208622384), (262, 0.0028792658866936115), (263, 0.04377310111554316), (264, 0.05182826969731734), (265, 0.01617653800720972), (266, 0.06600223035080487), (267, 0.0023226473636391042), (268, 0.002444500238017458), (269, 0.11223531012617116), (270, 0.10992232264914663), (271, 0.03311882877784973), (272, 0.010881898284078973), (273, 0.04696776132169553), (274, 0.00314696059649934), (275, 0.00689695420800745), (276, 0.002584244199674068), (277, 0.02726727058823555), (278, 0.007977674628395447), (279, 0.06326830044620643), (280, 0.0393641841428527), (281, 0.0030940539288805274), (282, 0.03458314053191684), (283, 0.012395437983041149), (284, 0.0230004755248297), (285, 0.020373404675383077), (286, 0.002351909249974571), (287, 0.02817558349283371), (288, 0.03849833450217105), (289, 0.014580007300527706), (290, 0.0), (291, 0.003977062529941299), (292, 0.020666949532612562), (293, 0.005051093344885365), (294, 0.032460083880118694), (295, 0.0), (296, 0.023335539498112973), (297, 0.03217438687149417), (298, 0.047846537821291626), (299, 0.026044628475581984), (300, 0.03418594461220726), (301, 0.07616314293248583), (302, 0.03365363996090588), (303, 0.0), (304, 0.0), (305, 0.004358933267675574), (306, 0.015499702923345678), (307, 0.04663869956967609), (308, 0.003064820546982579), (309, 0.06260250454192055), (310, 0.035582005361423016), (311, 0.03606656884061463), (312, 0.006567112348094148), (313, 0.014713541459344), (314, 0.0305168619737698), (315, 0.008121262493596298), (316, 0.0), (317, 0.05164994884475733), (318, 0.017250079601936426), (319, 0.02333624162070302), (320, 0.0), (321, 0.021638553500070712), (322, 0.021953013457162687), (323, 0.016249560271934024), (324, 0.1214360224943551), (325, 0.09023288572715679), (326, 0.011343652034062988), (327, 0.05440903461965082), (328, 0.07322729315978947), (329, 0.030204043376152123), (330, 0.10603211523179042), (331, 0.0), (332, 0.021261172748950202), (333, 0.0247727522415136), (334, 0.04553279563319141), (335, 0.004033673366253802), (336, 0.016440651463475713), (337, 0.021889604631540573), (338, 0.03337115447976922), (339, 0.01911662326842931), (340, 0.03855413990773738), (341, 0.02468283534865452), (342, 0.10636142479504757), (343, 0.04891095545449238), (344, 0.02739673999658306), (345, 0.11068953148535107), (346, 0.021166458974076343), (347, 0.010922009860737422), (348, 0.035368782997888475), (349, 0.0026582032662367527), (350, 0.0029837711344560688), (351, 0.01716246373470064), (352, 0.02192002813272128), (353, 0.06419456843475226), (354, 0.016985382901102866), (355, 0.044972100996466285), (356, 0.16005587407068353), (357, 0.023868707707729423), (358, 0.05232063316242071), (359, 0.002515223189314872), (360, 0.007682422813883931), (361, 0.004631574392440895), (362, 0.021810594440552774), (363, 0.015513911654563013), (364, 0.018420712992716408), (365, 0.0), (366, 0.006602630969610766), (367, 0.019245850102634715), (368, 0.046532171720990084), (369, 0.029668464778752467), (370, 0.0027363334928762447), (371, 0.023346250050452273), (372, 0.037355741112579714), (373, 0.027500230307210542), (374, 0.05876412925512314), (375, 0.0), (376, 0.0), (377, 0.06143937540887581), (378, 0.002752511261242728), (379, 0.013180836090208896), (380, 0.005012426882275829), (381, 0.019698178681037366), (382, 0.013164230649505853), (383, 0.0), (384, 0.023779548590819762), (385, 0.016182604735632815), (386, 0.014783549445851278), (387, 0.0201983013058951), (388, 0.07079170912194005), (389, 0.0), (390, 0.015532922998929072), (391, 0.0), (392, 0.004634724900038774), (393, 0.025068625235730946), (394, 0.00691916795566192), (395, 0.022972726462029774), (396, 0.03537104066928322), (397, 0.0), (398, 0.0065673369256592515), (399, 0.0025396132230400986), (400, 0.0027156088079240285), (401, 0.019225238731210587), (402, 0.02064873127931603), (403, 0.056155910278045965), (404, 0.019170714604160168), (405, 0.04479381944265447), (406, 0.023935671083160144), (407, 0.13333581420859694), (408, 0.012882677803044047), (409, 0.01700976132878957), (410, 0.03352472969098365), (411, 0.004004811605300479), (412, 0.04233818160165903), (413, 0.015160413666869266), (414, 0.010661550922021023), (415, 0.053171869313637606), (416, 0.006509860335692888), (417, 0.004052817433738666), (418, 0.009230310889360863), (419, 0.019206561653325436), (420, 0.004691725603663671), (421, 0.045392726154214455), (422, 0.0), (423, 0.01882706241134784), (424, 0.004954087576345651), (425, 0.0049497893543751816), (426, 0.004081040623757306), (427, 0.004185074615354119), (428, 0.03609275095596201), (429, 0.002872403969063192), (430, 0.024212221941287502), (431, 0.01092379760180471), (432, 0.016060971921431213), (433, 0.04736439899279257), (434, 0.016133328873751438), (435, 0.027675734844470355), (436, 0.003066454688851269), (437, 0.09325859977215001), (438, 0.0), (439, 0.012386203406905133), (440, 0.043713647292943525), (441, 0.021208295851965674), (442, 0.005890395596718006), (443, 0.0031700738877105485), (444, 0.0030538186273829865), (445, 0.021431356167204742), (446, 0.09273859055155298), (447, 0.046767844497511764), (448, 0.038529186273282334), (449, 0.0641892955442839), (450, 0.0030074183920935933), (451, 0.02250573515666886), (452, 0.04408880658023141), (453, 0.002095779373811084), (454, 0.017147019446588044), (455, 0.04067815011888901), (456, 0.0183917467331976), (457, 0.002515509227603649), (458, 0.04114154227850448), (459, 0.0), (460, 0.04516571409734333), (461, 0.08941906348003745), (462, 0.0), (463, 0.02320133864929834), (464, 0.031192134841084553), (465, 0.05241458556877131), (466, 0.01071408763467636), (467, 0.0), (468, 0.013285468017577537), (469, 0.029578646505875793), (470, 0.017864485515891614), (471, 0.04059028029936966), (472, 0.03697948827139553), (473, 0.0024795997527198516), (474, 0.006852972568182493), (475, 0.025183873821134184), (476, 0.04465310264082319), (477, 0.018285721522725586), (478, 0.0031018546772464423), (479, 0.0530191545073873), (480, 0.002405022656855456), (481, 0.0842682102478534), (482, 0.05082398145248848), (483, 0.007500581180250655), (484, 0.005816513175976609), (485, 0.011613622773549322), (486, 0.011965153057913588), (487, 0.0026236828984260263), (488, 0.008959415504958365), (489, 0.01108057665641582), (490, 0.009172267063861357), (491, 0.02183313633108596), (492, 0.011632707702116274), (493, 0.009834648607104406), (494, 0.03860189674757584), (495, 0.0062831667422653375), (496, 0.054622605270698246), (497, 0.01644121543205371), (498, 0.022992437852329475), (499, 0.0029826935350609706), (500, 0.008508694218465333), (501, 0.13933017833364392), (502, 0.02272759438445185), (503, 0.0), (504, 0.013708272115740314), (505, 0.020340829262524018), (506, 0.027759506671715943), (507, 0.03987579889778844), (508, 0.030882558022107202), (509, 0.0028107169906348532), (510, 0.030263630818197246), (511, 0.037207700387789165), (512, 0.005185867168812171), (513, 0.0), (514, 0.0), (515, 0.026956763232696506), (516, 0.023284012457634833), (517, 0.00841377281111491), (518, 0.06954434962735237), (519, 0.0149555643575623), (520, 0.012772775682505112), (521, 0.017870184116455107), (522, 0.0026604684566043173), (523, 0.024097503429556036), (524, 0.060594100709323945), (525, 0.004339807932609839), (526, 0.0034464767518501156), (527, 0.0359798007842175), (528, 0.008243900892177115), (529, 0.010952430190719691), (530, 0.131044385859893), (531, 0.030247788927439852), (532, 0.018343639746520136), (533, 0.034922176449803985), (534, 0.0027069610362395317), (535, 0.007988718415709972), (536, 0.0), (537, 0.016160788326918456), (538, 0.05229638135844782), (539, 0.0), (540, 0.008053831717582989), (541, 0.002651018062378478), (542, 0.03134849958842448), (543, 0.0028545516272965032), (544, 0.017305586037534296), (545, 0.028298820297928604), (546, 0.031142318850487093), (547, 0.03919990465406543), (548, 0.021126575294470498), (549, 0.022376417991350206), (550, 0.0), (551, 0.036867108579293276), (552, 0.0), (553, 0.08995095830107395), (554, 0.0), (555, 0.06556600950991995), (556, 0.0078263656966002), (557, 0.015726619596885177), (558, 0.002527316025891513), (559, 0.0), (560, 0.03675108890994516), (561, 0.04709364155341164), (562, 0.03261962891665805), (563, 0.017072731350814104), (564, 0.009704118965398351), (565, 0.031945378008456836), (566, 0.05367642496904511), (567, 0.015737678542711696), (568, 0.02126114277544228), (569, 0.0154141021603343), (570, 0.019275551403292655), (571, 0.002113178668409148), (572, 0.04973530113011531), (573, 0.0), (574, 0.022056759207955707), (575, 0.003660300527946869), (576, 0.01044176769629429), (577, 0.01115899008241059), (578, 0.01022803439710743), (579, 0.009389659069326397), (580, 0.002863997266745728), (581, 0.0024698754001476796), (582, 0.02440919239997848), (583, 0.053792763943353986), (584, 0.0028359382895673177), (585, 0.004197316981168887), (586, 0.01975938631331912), (587, 0.05893437503848173), (588, 0.028823641138500798), (589, 0.008584456383296859), (590, 0.04384825525324478), (591, 0.01571798135246452), (592, 0.0), (593, 0.0027955012978816613), (594, 0.01024949787027115), (595, 0.0), (596, 0.04139314220277448), (597, 0.04332238336334905), (598, 0.002553639783646191), (599, 0.004590232306864953), (600, 0.01953024842064418), (601, 0.0), (602, 0.0), (603, 0.004640761528750922), (604, 0.0025206643412289576), (605, 0.025532759643899082), (606, 0.009564941027746774), (607, 0.029195063763682097), (608, 0.008396429856766438), (609, 0.10583733747470486), (610, 0.025899155464361896), (611, 0.00440344745794274), (612, 0.01843063429202967), (613, 0.018408217865823327), (614, 0.008150735426298353), (615, 0.0192266487035416), (616, 0.014115375558216972), (617, 0.01439797839116989), (618, 0.02448688260884599), (619, 0.0), (620, 0.029904742069606253), (621, 0.006850225542513381), (622, 0.02011844914049297), (623, 0.009837783333473597), (624, 0.017268427626971374), (625, 0.0), (626, 0.01814556063224974), (627, 0.0037112342523501042), (628, 0.031304170393695964), (629, 0.09678326400823387), (630, 0.014461607014028356), (631, 0.021901864238478147), (632, 0.0), (633, 0.02188344265205193), (634, 0.021943718515032015), (635, 0.02502769373950891), (636, 0.0027679627268206858), (637, 0.08179229414911826), (638, 0.01599923126264519), (639, 0.021996103218344023), (640, 0.014083195665398745), (641, 0.012129438215995044), (642, 0.048952330192408494), (643, 0.053784773310645025), (644, 0.01294404593006259), (645, 0.008851139843484596), (646, 0.002635671315805775), (647, 0.04759869800201958), (648, 0.050983368749335914), (649, 0.09414379932713732), (650, 0.0), (651, 0.016353040709301676), (652, 0.02565144803227061), (653, 0.013773186213720309), (654, 0.00459863828173753), (655, 0.01621043662159058), (656, 0.02843436211846864), (657, 0.02666524925560031), (658, 0.016443003370213698), (659, 0.04404768357899609), (660, 0.042845731459096856), (661, 0.0040930453338704886), (662, 0.007849959759513603), (663, 0.0), (664, 0.05205298160496191), (665, 0.014650977096209643), (666, 0.004909792962865271), (667, 0.04950105975473767), (668, 0.019080370743983263), (669, 0.04564632692303479), (670, 0.0033776917517749656), (671, 0.09271577339957068), (672, 0.002443950231860643), (673, 0.04031478282951709), (674, 0.013989301987471631), (675, 0.007747103510301666), (676, 0.0026571155570208893), (677, 0.004781680301005436), (678, 0.01759373092096389), (679, 0.00933087029996275), (680, 0.007554919551224131), (681, 0.00493976387145911), (682, 0.0), (683, 0.0239516959089155), (684, 0.06045360897119663), (685, 0.008964194093361867), (686, 0.0), (687, 0.028900236538223455), (688, 0.01200505503476643), (689, 0.05080324757629886), (690, 0.0549397711826908), (691, 0.05866399789166646), (692, 0.04937397118441079), (693, 0.009015373547827122), (694, 0.03243832799062771), (695, 0.0), (696, 0.08154211322266842), (697, 0.05677786871012439), (698, 0.04080600474211478), (699, 0.027349062862523515), (700, 0.09475061213892488), (701, 0.007929963213902257), (702, 0.025043418750733598), (703, 0.008227891083488162), (704, 0.00471779852311252), (705, 0.06637018866929412), (706, 0.08290112575474376), (707, 0.0023052684478258013), (708, 0.0724429442467257), (709, 0.0754465180206604), (710, 0.05595527514671581), (711, 0.04456241914536894), (712, 0.009574536734529189), (713, 0.007708182612001458), (714, 0.0), (715, 0.03426412869403721), (716, 0.0028740756735009137), (717, 0.0477901910932403), (718, 0.0), (719, 0.05810565064248605), (720, 0.0), (721, 0.0031403441391508868), (722, 0.019243614093704058), (723, 0.029438813423266878), (724, 0.014015090230524807), (725, 0.015887069032795846), (726, 0.026289582289495288), (727, 0.011266215883212857), (728, 0.020362594819286407), (729, 0.003056270924018553), (730, 0.08044705964279203), (731, 0.06926639414094732), (732, 0.03275555051355254), (733, 0.022569843041189596), (734, 0.05510886101107291), (735, 0.037453977103173886), (736, 0.01095813863160798), (737, 0.03138181998273004), (738, 0.02052829060910582), (739, 0.0031274699969926737), (740, 0.041040828559337494), (741, 0.07572601036012888), (742, 0.020023265909178866), (743, 0.039050756161305634), (744, 0.06331793881082888), (745, 0.018264541537486616), (746, 0.07629488233915631), (747, 0.020821587181539453), (748, 0.04270628346334883), (749, 0.08767214308369378), (750, 0.019233795338263103), (751, 0.022530593383758426), (752, 0.014857048482206045), (753, 0.04903295597476066), (754, 0.006987319273010249), (755, 0.0026635597532223714), (756, 0.003831359620688819), (757, 0.03532643070364252), (758, 0.020880169524606793), (759, 0.00249539267141086), (760, 0.007481891644429092), (761, 0.0027411801198382844), (762, 0.07383552974116998), (763, 0.04029107412773933), (764, 0.009518462110337876), (765, 0.00461126412474679), (766, 0.04505409472184328), (767, 0.014419062655480527), (768, 0.015555548050367513), (769, 0.007010943018214634), (770, 0.0), (771, 0.02043613786239376), (772, 0.013538596294056753), (773, 0.08373767690468006), (774, 0.043874637178273), (775, 0.04351188991528698), (776, 0.003982302204963793), (777, 0.003294103013351607), (778, 0.019101135765956012), (779, 0.00372967293916995), (780, 0.008302450870576109), (781, 0.02164805399979577), (782, 0.02044043671829954), (783, 0.024834671027980797), (784, 0.006762447844376663), (785, 0.023358514615603634), (786, 0.025760563181036138), (787, 0.08700389066147647), (788, 0.041098497445358345), (789, 0.0070422436928826515), (790, 0.023375566189412694), (791, 0.002944336360579163), (792, 0.1697618646894862), (793, 0.0), (794, 0.0630055570568949), (795, 0.007708584210555505), (796, 0.007690140439732618), (797, 0.008449705427587514), (798, 0.026344100090328983), (799, 0.0026718358212757397), (800, 0.02808925140241073), (801, 0.007416438593719573), (802, 0.09497315422541819), (803, 0.011699031308648983), (804, 0.03310574087910447), (805, 0.07934662688343909), (806, 0.06694683233748265), (807, 0.024315788528199468), (808, 0.02744867363832139), (809, 0.022887549937654343), (810, 0.032510723359708074), (811, 0.0), (812, 0.013424211744962625), (813, 0.02020431039883002), (814, 0.05198218604393824), (815, 0.044071559565781904), (816, 0.03006852437905591), (817, 0.016391423965995678), (818, 0.0025892261172104246), (819, 0.006181667678046822), (820, 0.01676710431547637), (821, 0.06417224467514338), (822, 0.10700325660298751), (823, 0.019656568706047508), (824, 0.05893092174432574), (825, 0.03310234825796047), (826, 0.0029230105046887393), (827, 0.04005975827672645), (828, 0.0025890642715003078), (829, 0.032110436322414476), (830, 0.050760870505498615), (831, 0.0019348692287193576), (832, 0.007223170016375065), (833, 0.013287057407562808), (834, 0.03623772152853329), (835, 0.013423683603392016), (836, 0.03817546295466258), (837, 0.0), (838, 0.054697871477246696), (839, 0.022318863434127496), (840, 0.01267278740986361), (841, 0.0), (842, 0.0), (843, 0.03089856632702888), (844, 0.035270582217492304), (845, 0.03089235304926859), (846, 0.05542392515252696), (847, 0.03190598254840727), (848, 0.043463922882692144), (849, 0.0), (850, 0.021685593507158776), (851, 0.03236365088946114), (852, 0.08884951559147614), (853, 0.08039010729855685), (854, 0.014506459056506531), (855, 0.018427282641327102), (856, 0.0024464565974086755), (857, 0.010228691510581586), (858, 0.0018505636265291744), (859, 0.013818152684380306), (860, 0.0031755670291889527), (861, 0.01625746549571048), (862, 0.007602207082366513), (863, 0.0025052945307853683), (864, 0.021524367543385457), (865, 0.017824318561446877), (866, 0.00660412544485694), (867, 0.08492715207444443), (868, 0.0025447011552714983), (869, 0.0), (870, 0.020828905239456273), (871, 0.02818251157257815), (872, 0.026847968627018704), (873, 0.006984011008010986), (874, 0.022132502613250005), (875, 0.020492367192574634), (876, 0.027880666077243155), (877, 0.01734209687811619), (878, 0.006709763615869146), (879, 0.009663687730332915), (880, 0.04807129908102217), (881, 0.06754275326336145), (882, 0.003867664062010348), (883, 0.01301617554304589), (884, 0.002851518123881056), (885, 0.012221817980677622), (886, 0.0025694919010852413), (887, 0.03916818304734776), (888, 0.003037603419080697), (889, 0.07629269938984386), (890, 0.014210947784541083), (891, 0.050933077535364205), (892, 0.04124139599653637), (893, 0.014552547357189763), (894, 0.015057512058921082), (895, 0.06715026001198897), (896, 0.011838777918478365), (897, 0.028034988491950286), (898, 0.032242483724266476), (899, 0.04993464374355286), (900, 0.01583699110691153), (901, 0.0022701154704065506), (902, 0.0), (903, 0.0025691130669193546), (904, 0.005136106496029556), (905, 0.0), (906, 0.02827629261174034), (907, 0.025692559131697795), (908, 0.035548521669110475), (909, 0.0), (910, 0.06933676232579726), (911, 0.039712656499203726), (912, 0.05832371213450559), (913, 0.004628149724445854), (914, 0.0), (915, 0.022164814145911364), (916, 0.017198225879556384), (917, 0.0024532455788861566), (918, 0.01289402026962887), (919, 0.004433990711953415), (920, 0.007432591618936793), (921, 0.02183404400859257), (922, 0.018908179291589763), (923, 0.002639425560276241), (924, 0.02423547214565192), (925, 0.003151429657108682), (926, 0.02707098740031931), (927, 0.0), (928, 0.06473992173519297), (929, 0.018817125848928175), (930, 0.019093842491177328), (931, 0.02410096296276112), (932, 0.0), (933, 0.0027990872154717824), (934, 0.04937361285393375), (935, 0.014724157174877954), (936, 0.04753589957984824), (937, 0.003202115525557983), (938, 0.019026511804475864), (939, 0.010221728716667869), (940, 0.016418790132829948), (941, 0.0025670063820299135), (942, 0.0022281567489780547), (943, 0.0), (944, 0.021778171955320395), (945, 0.02442058189403049), (946, 0.05026520703064749), (947, 0.0036971123930528587), (948, 0.0137057345729302), (949, 0.057918007393780474), (950, 0.09957046610115577), (951, 0.002313727755409932), (952, 0.07960533964123219), (953, 0.021719632961944048), (954, 0.0), (955, 0.0), (956, 0.008870554451950601), (957, 0.05045282692941827), (958, 0.012976738602593348), (959, 0.008996953021826407), (960, 0.0), (961, 0.0), (962, 0.043067043994889476), (963, 0.07283145194804011), (964, 0.015565053454246441), (965, 0.0), (966, 0.02627019630251301), (967, 0.0030259666903577212), (968, 0.02820432265274121), (969, 0.0027974591097028626), (970, 0.015681659992128952), (971, 0.034063844131335716), (972, 0.0), (973, 0.017723118183865922), (974, 0.017482877606025404), (975, 0.02188273559542503), (976, 0.0), (977, 0.0), (978, 0.011524455101447877), (979, 0.01255422626170339), (980, 0.0028326599765958545), (981, 0.04828229906105325), (982, 0.016773782108048342), (983, 0.0064056036830791585), (984, 0.04284196885999121), (985, 0.04167075293050567), (986, 0.0027386809322894417), (987, 0.026085638382016847), (988, 0.007056042267620538), (989, 0.0026957564722809237), (990, 0.0), (991, 0.020265572801132132), (992, 0.0), (993, 0.007156187511263049), (994, 0.002785287022160034), (995, 0.028632876833847805), (996, 0.0), (997, 0.01776647991359284), (998, 0.010500559695112028), (999, 0.050548428273769035), (1000, 0.024157496990538613), (1001, 0.02631031958581232), (1002, 0.03492963625017606), (1003, 0.01938895850143499), (1004, 0.07071336174562388), (1005, 0.019616646821358975), (1006, 0.022254526876693333), (1007, 0.01774220429737198), (1008, 0.01692733965536521), (1009, 0.07478290966077183), (1010, 0.030990001341993006), (1011, 0.004927527343496458), (1012, 0.028044717290643267), (1013, 0.01919479418485479), (1014, 0.016448676730040156), (1015, 0.018309759817237405), (1016, 0.016317433649552453), (1017, 0.01646362870574259), (1018, 0.03025861426614433), (1019, 0.018674097212676218), (1020, 0.022507474648339618), (1021, 0.03546982599964307), (1022, 0.024007306690709353), (1023, 0.06481686186824175), (1024, 0.0), (1025, 0.0038881568105969357), (1026, 0.03641858611098041), (1027, 0.008857348248497654), (1028, 0.0), (1029, 0.026951495753110462), (1030, 0.002653043626836258), (1031, 0.004639017966195329), (1032, 0.0025886784631145277), (1033, 0.05181741268229767), (1034, 0.01662405991754616), (1035, 0.01476671711431473), (1036, 0.010221026095063432), (1037, 0.02525856306143759), (1038, 0.0188453392151327), (1039, 0.09046590332941244), (1040, 0.018257005482085958), (1041, 0.018363736243020373), (1042, 0.025549596017540106), (1043, 0.023278032481426063), (1044, 0.010498162297104832), (1045, 0.03507132042801734), (1046, 0.06189321431682107), (1047, 0.004545918920585218), (1048, 0.11202265458849821), (1049, 0.010983503448307763), (1050, 0.002334932557084588), (1051, 0.0), (1052, 0.012614585569791182), (1053, 0.048244185994522855), (1054, 0.004119989391065636), (1055, 0.0), (1056, 0.004747180141799046), (1057, 0.08444732807062788), (1058, 0.0), (1059, 0.00703201259482357), (1060, 0.048692723477281485), (1061, 0.04395184002296387), (1062, 0.013539424274021505), (1063, 0.0), (1064, 0.0033205398253001958), (1065, 0.03748952300799609), (1066, 0.021218910000390275), (1067, 0.013650800017279054), (1068, 0.01716486282330837), (1069, 0.015884693327671895), (1070, 0.0), (1071, 0.021549514482832273), (1072, 0.0027146077286110074), (1073, 0.006200560235835854), (1074, 0.014241070863662237), (1075, 0.0650352025105606), (1076, 0.02336105075576011), (1077, 0.028424738224911004), (1078, 0.01741077928194567), (1079, 0.017411120947507942), (1080, 0.008338636380612982), (1081, 0.0), (1082, 0.031700138130072227), (1083, 0.0028516603437693266), (1084, 0.03480995958093028), (1085, 0.027693582713708975), (1086, 0.059483856426287715), (1087, 0.04064285071151753), (1088, 0.00234292157864658), (1089, 0.02052754773866681), (1090, 0.04349760492551431), (1091, 0.0), (1092, 0.0), (1093, 0.01458644474006705), (1094, 0.02027679205792763), (1095, 0.056654326034056235), (1096, 0.01647857822988697), (1097, 0.0), (1098, 0.002234939491785955), (1099, 0.015054629807712095), (1100, 0.0404849778719234), (1101, 0.0), (1102, 0.0027201625618691375), (1103, 0.0), (1104, 0.00459243796984364), (1105, 0.008855905832412083), (1106, 0.07685279753849995), (1107, 0.04037534226107489), (1108, 0.03375410228414977), (1109, 0.04098098402263479), (1110, 0.021339200339460705), (1111, 0.038051297347310636), (1112, 0.0027298142603182046), (1113, 0.008424072235399205), (1114, 0.05089177582632222), (1115, 0.040392448486917226), (1116, 0.023617940673646493), (1117, 0.020569383157644762), (1118, 0.05297792696413453), (1119, 0.011570445105669576), (1120, 0.003719891396149055), (1121, 0.11717090082063485), (1122, 0.01767314512216463), (1123, 0.0026048047730701067), (1124, 0.03219166539720912), (1125, 0.0), (1126, 0.04782009042777533), (1127, 0.015884313780380747), (1128, 0.013911602721280777), (1129, 0.05145325462039406), (1130, 0.04738029910724935), (1131, 0.06435049126495782), (1132, 0.022088851724070692), (1133, 0.01971196620344218), (1134, 0.0), (1135, 0.0), (1136, 0.022499737819552085), (1137, 0.01989763696836112), (1138, 0.03737070689126437), (1139, 0.0), (1140, 0.01627533558361052), (1141, 0.01810141904804027), (1142, 0.019560200465435697), (1143, 0.0), (1144, 0.04517709881309269), (1145, 0.012808625379219814), (1146, 0.017946297118446655), (1147, 0.0), (1148, 0.027579063561137956), (1149, 0.06080407217386124), (1150, 0.04159646788948961), (1151, 0.0), (1152, 0.05417577507695197), (1153, 0.011315372656735679), (1154, 0.0), (1155, 0.03965059964948779), (1156, 0.0), (1157, 0.05641798755564907), (1158, 0.0), (1159, 0.0064544685342514015), (1160, 0.01618645210237246), (1161, 0.0024740731629562442), (1162, 0.030978504244992666), (1163, 0.002735942459352232), (1164, 0.0), (1165, 0.027096420459309028), (1166, 0.0), (1167, 0.0), (1168, 0.035354400707061105), (1169, 0.0032076947953794685), (1170, 0.01364123468166864), (1171, 0.003952311687158329), (1172, 0.03320665220202454), (1173, 0.05040241063916387), (1174, 0.0028018934420645817), (1175, 0.009347973346808964), (1176, 0.0027976943994958993), (1177, 0.039344447967253886), (1178, 0.10917525596050631), (1179, 0.007102955644568344), (1180, 0.04547432163578457), (1181, 0.0), (1182, 0.017281590448208425), (1183, 0.0025439835748218317), (1184, 0.01056722901266417), (1185, 0.004596805134991295), (1186, 0.01334678928915142), (1187, 0.010882855175142876), (1188, 0.0028767206508084025), (1189, 0.01994013481965334), (1190, 0.00620068449163448), (1191, 0.019640625556401396), (1192, 0.026889442071955538), (1193, 0.0), (1194, 0.09606802599957211), (1195, 0.03971639691849791), (1196, 0.0), (1197, 0.0074441306585703556), (1198, 0.021465914723765155), (1199, 0.02062028059330745), (1200, 0.01875536880725324), (1201, 0.007386318415770238), (1202, 0.016013873335930143), (1203, 0.0025733547056273386), (1204, 0.002780785179113544), (1205, 0.015015840657238896), (1206, 0.019912851023272553), (1207, 0.007734819849305962), (1208, 0.017371826656943902), (1209, 0.0022839551068553022), (1210, 0.04789674932166438), (1211, 0.017974048127336006), (1212, 0.017041946892460257), (1213, 0.01735306466569111), (1214, 0.023881666610825594), (1215, 0.054323534263841664), (1216, 0.09763192178963576), (1217, 0.008041581077294852), (1218, 0.004162374438344602), (1219, 0.015572940234298227), (1220, 0.025112439150073763), (1221, 0.017089677794076757), (1222, 0.06846156728467756), (1223, 0.015259094776473733), (1224, 0.0028610074414167617), (1225, 0.01143255680901662), (1226, 0.03616734278923617), (1227, 0.0), (1228, 0.023970708935663523), (1229, 0.0113139126770231), (1230, 0.013545598472137495), (1231, 0.027046482803818675), (1232, 0.021577006328814295), (1233, 0.008483115855858736), (1234, 0.002902292857366422), (1235, 0.0), (1236, 0.01876552507917336), (1237, 0.040990530100834005), (1238, 0.06658149675534733), (1239, 0.03246051329102398), (1240, 0.0), (1241, 0.054463344203653695), (1242, 0.01807154776483233), (1243, 0.002989426722885285), (1244, 0.0), (1245, 0.028127406843817447), (1246, 0.004713537775392766), (1247, 0.09348118741599726), (1248, 0.041630730024401257), (1249, 0.05578217602039008), (1250, 0.041020162720849254), (1251, 0.01670622828892945), (1252, 0.0027154567594324234), (1253, 0.03359160116440227), (1254, 0.04085398424507092), (1255, 0.023786693194197156), (1256, 0.06856026551822432), (1257, 0.04725861876658453), (1258, 0.0), (1259, 0.048075019858495896), (1260, 0.0419870867890073), (1261, 0.008968196517387075), (1262, 0.018511156354814345), (1263, 0.017914097702406828), (1264, 0.0033014666310807856), (1265, 0.0), (1266, 0.01893588674084623), (1267, 0.05863302755904272), (1268, 0.0), (1269, 0.0), (1270, 0.015422419520741389), (1271, 0.0), (1272, 0.0), (1273, 0.08544362221824045), (1274, 0.01754595466536156), (1275, 0.0031624493015552434), (1276, 0.0), (1277, 0.020084837295926358), (1278, 0.07015197028970181), (1279, 0.022443529750397248), (1280, 0.02378622886634623), (1281, 0.0), (1282, 0.021917966950565634), (1283, 0.0), (1284, 0.01054942387052441), (1285, 0.02076161543987591), (1286, 0.009080741147797593), (1287, 0.0), (1288, 0.04811193179202406), (1289, 0.0), (1290, 0.019233242696113175), (1291, 0.03963943518093156), (1292, 0.0), (1293, 0.027292429787038247), (1294, 0.04287655355199567), (1295, 0.01956080151008127), (1296, 0.006654410607359548), (1297, 0.0043668217101592655), (1298, 0.0027255889162264503), (1299, 0.0), (1300, 0.006846069497358737), (1301, 0.02030578730599093), (1302, 0.021014484497201835), (1303, 0.002209770711752675), (1304, 0.01956997053870186), (1305, 0.014871795128398004), (1306, 0.06451603016970064), (1307, 0.021572691400730926), (1308, 0.026971289834379367), (1309, 0.006929289200161539), (1310, 0.06085082922843647), (1311, 0.0), (1312, 0.024808705078613866), (1313, 0.009127583896824294), (1314, 0.0715128059219738), (1315, 0.0), (1316, 0.012775198925485471), (1317, 0.025567963811392917), (1318, 0.009664998588351112), (1319, 0.015531075578577892), (1320, 0.0), (1321, 0.0050215474801222175), (1322, 0.004441579268298798), (1323, 0.0), (1324, 0.00988063341567488), (1325, 0.00297067289348912), (1326, 0.0), (1327, 0.03125553387734044), (1328, 0.0), (1329, 0.02905751383770467), (1330, 0.02379023090339974), (1331, 0.0), (1332, 0.0), (1333, 0.0), (1334, 0.049945752711638695), (1335, 0.010945041484272179), (1336, 0.025323473429905603), (1337, 0.0027969755465223857), (1338, 0.025643817304441235), (1339, 0.0029132188655196195), (1340, 0.002327583354437545), (1341, 0.04230852950750996), (1342, 0.01583997913820445), (1343, 0.005186778357755495), (1344, 0.07783447481641863), (1345, 0.03960034819588705), (1346, 0.010947338258988838), (1347, 0.004214381386342222), (1348, 0.022785410229844746), (1349, 0.008004325682027975), (1350, 0.009022734350414603), (1351, 0.025778149834615606), (1352, 0.006034356829887542), (1353, 0.007527991231580708), (1354, 0.03787525919073073), (1355, 0.002806691572712211), (1356, 0.002319757905327167), (1357, 0.009986930680510344), (1358, 0.0), (1359, 0.07139429589058063), (1360, 0.006465436485422757), (1361, 0.0), (1362, 0.01533388783181438), (1363, 0.006189637454778426), (1364, 0.014148579597797431), (1365, 0.10885260100452873), (1366, 0.026174790942918), (1367, 0.018785562298613338), (1368, 0.023269627302508204), (1369, 0.06839253004156674), (1370, 0.00236322209603358), (1371, 0.02017926526517174), (1372, 0.008689029950207778), (1373, 0.01809303352042875), (1374, 0.05246537689461833), (1375, 0.006751907029567132), (1376, 0.026962547697328455), (1377, 0.01718318925492951), (1378, 0.009254890737121603), (1379, 0.026340833222883532), (1380, 0.02460675120629551), (1381, 0.005006989459188592), (1382, 0.0471388143647319), (1383, 0.0030938627764409287), (1384, 0.011089119397463815), (1385, 0.03932534962421908), (1386, 0.019284880971589816), (1387, 0.0476129992571392), (1388, 0.022434983929456663), (1389, 0.01912932424467357), (1390, 0.02205705891104789), (1391, 0.0), (1392, 0.023879774377885535), (1393, 0.02074236292682968), (1394, 0.07688767926873939), (1395, 0.02149271619087981), (1396, 0.02397321746414403), (1397, 0.0023701240364428305), (1398, 0.02729121004680105), (1399, 0.03758802310913048), (1400, 0.01776511633220606), (1401, 0.08695952888275132), (1402, 0.015939199077090654), (1403, 0.0853739145636306), (1404, 0.025388325374306103), (1405, 0.012851705259829503), (1406, 0.0), (1407, 0.015087698945943102), (1408, 0.027205568812332874), (1409, 0.024065894371894138), (1410, 0.04392977422901367), (1411, 0.03454115878422845), (1412, 0.0806440986701116), (1413, 0.02604644366526048), (1414, 0.0024451074543794795), (1415, 0.007589055158682433), (1416, 0.010356108435939648), (1417, 0.02779643351587244), (1418, 0.05388701738657053), (1419, 0.01977798449333521), (1420, 0.027175892511824007), (1421, 0.0389405675984849), (1422, 0.006916781168391697), (1423, 0.008220615780919215), (1424, 0.007445990996142979), (1425, 0.02711791523415321), (1426, 0.004622624217650475), (1427, 0.007593041717383734), (1428, 0.015349700546815115), (1429, 0.003294891614103468), (1430, 0.004057049732774651), (1431, 0.04743747599742545), (1432, 0.038681561884047866), (1433, 0.0025498523681262574), (1434, 0.0541603878749609), (1435, 0.008277438001974913), (1436, 0.004616533950459489), (1437, 0.0), (1438, 0.02314937543438901), (1439, 0.03250940067126846), (1440, 0.0027830842460184603), (1441, 0.0070308140165984395), (1442, 0.00974640075828538), (1443, 0.0382989261456594), (1444, 0.0), (1445, 0.02155949144074435), (1446, 0.08660335236738716), (1447, 0.037968254837721475), (1448, 0.0025324938204274623), (1449, 0.0), (1450, 0.057992113713313316), (1451, 0.04000834886631742), (1452, 0.05416773018033196), (1453, 0.02369208609409893), (1454, 0.04157132460258252), (1455, 0.02231057563538468), (1456, 0.014108744971811943), (1457, 0.026756244026502445), (1458, 0.016719640606765583), (1459, 0.030450111867250565), (1460, 0.0), (1461, 0.026955260179913444), (1462, 0.019176102599315178), (1463, 0.02094372724940835), (1464, 0.009393194914282792), (1465, 0.058111155868099854), (1466, 0.02176608515596756), (1467, 0.06978465256980625), (1468, 0.003867459058298728), (1469, 0.0), (1470, 0.0), (1471, 0.029560122462444934), (1472, 0.03080262349609343), (1473, 0.0), (1474, 0.07635596818118447), (1475, 0.04339455458394874), (1476, 0.017587121563971613), (1477, 0.02367194890695898), (1478, 0.0026245544907907256), (1479, 0.010159276511649214), (1480, 0.0075254036638162805), (1481, 0.018272602516489177), (1482, 0.04642463814904983), (1483, 0.0027195147242938976), (1484, 0.0028991886210998187), (1485, 0.005884206696144681), (1486, 0.020440581715967063), (1487, 0.040633525574469996), (1488, 0.002747664077448153), (1489, 0.05131463038059037), (1490, 0.0), (1491, 0.0), (1492, 0.04280126683329985), (1493, 0.03158176176140591), (1494, 0.04679025294372002), (1495, 0.008878003688358227), (1496, 0.04532631831832931), (1497, 0.0192340141723316), (1498, 0.0030470545838713783), (1499, 0.0030680910530404087), (1500, 0.029668943650343595), (1501, 0.05921006988961364), (1502, 0.02379108485011824), (1503, 0.028307572009012613), (1504, 0.0), (1505, 0.014238557888559468), (1506, 0.0572997530412785), (1507, 0.02262183042975272), (1508, 0.0), (1509, 0.027307146547563395), (1510, 0.08622383644707193), (1511, 0.020062314010352418), (1512, 0.0), (1513, 0.002855070867534294), (1514, 0.015675790168740288), (1515, 0.01868156817003433), (1516, 0.002822618239391304), (1517, 0.008687970307632397), (1518, 0.018695795289631632), (1519, 0.015663296254033128), (1520, 0.004683777243878903), (1521, 0.0037683186145219213), (1522, 0.023264919258186606), (1523, 0.012488844865294047), (1524, 0.031934427829166605), (1525, 0.004473559698205672), (1526, 0.017736671979657267), (1527, 0.0026823179788827566), (1528, 0.002489395099174786), (1529, 0.01803588849260983), (1530, 0.008914324331595017), (1531, 0.0), (1532, 0.0), (1533, 0.009395977942130882), (1534, 0.008426080907950209), (1535, 0.003668906159533454), (1536, 0.006782072353716906), (1537, 0.01627391338219554), (1538, 0.03330558259315761), (1539, 0.0590733476550018), (1540, 0.0), (1541, 0.03973748364283399), (1542, 0.01670905081971829), (1543, 0.05194845702190009), (1544, 0.04919326392019367), (1545, 0.0), (1546, 0.017683773026220664), (1547, 0.0031921546551711075), (1548, 0.0055229302110806466), (1549, 0.025919527076503794), (1550, 0.01861627168940507), (1551, 0.018242121322022842), (1552, 0.013574194517781494), (1553, 0.022650508271854775), (1554, 0.008914114728941038), (1555, 0.006613249137839596), (1556, 0.0), (1557, 0.03519903278153929), (1558, 0.023612523273921042), (1559, 0.020872824285584957), (1560, 0.0), (1561, 0.04228208392880039), (1562, 0.0), (1563, 0.04174664702728394), (1564, 0.02470047575789286), (1565, 0.017221675733914536), (1566, 0.0406854518847287), (1567, 0.030755338802844343), (1568, 0.018709031519539246), (1569, 0.05430207573043956), (1570, 0.017934538966637846), (1571, 0.0361381006975136), (1572, 0.018023034160847745), (1573, 0.0), (1574, 0.027103676652322464), (1575, 0.0), (1576, 0.011303667733419629), (1577, 0.03295647607420147), (1578, 0.004595395020187429), (1579, 0.012303725915190631), (1580, 0.02482261859225366), (1581, 0.01836762978053689), (1582, 0.0026312562926081515), (1583, 0.020334448387828906), (1584, 0.0299945535876066), (1585, 0.04167353426839628), (1586, 0.05142797983312811), (1587, 0.01268273600000006), (1588, 0.0), (1589, 0.014319587790684627), (1590, 0.024681118469242203), (1591, 0.0), (1592, 0.015704535553169332), (1593, 0.0033214759975871686), (1594, 0.020141010786022415), (1595, 0.006428854384746624), (1596, 0.0), (1597, 0.014642294942200533), (1598, 0.04407231669994735), (1599, 0.02000095466303882), (1600, 0.0), (1601, 0.0), (1602, 0.0), (1603, 0.014809886017537573), (1604, 0.0), (1605, 0.07716621137703931), (1606, 0.00606717303279571), (1607, 0.0), (1608, 0.04995509392171568), (1609, 0.0), (1610, 0.028476493741597282), (1611, 0.034564822813566126), (1612, 0.023361480125070482), (1613, 0.004538375479152859), (1614, 0.0), (1615, 0.0), (1616, 0.0255000474292043), (1617, 0.0069353026497690606), (1618, 0.0063151546545059875), (1619, 0.029651002216274036), (1620, 0.006642590591961664), (1621, 0.002701914559213736), (1622, 0.0), (1623, 0.0), (1624, 0.007537546892578777), (1625, 0.002464537187973996), (1626, 0.020871387532573303), (1627, 0.028372703150663724), (1628, 0.00847537862058596), (1629, 0.024216742713308835), (1630, 0.008279980266119764), (1631, 0.0), (1632, 0.05591656939789786), (1633, 0.0), (1634, 0.017204986834668305), (1635, 0.0), (1636, 0.004495499015570327), (1637, 0.002939921366814924), (1638, 0.04111739534296519), (1639, 0.012375366683144626), (1640, 0.0047125070169573135), (1641, 0.0025415753548735727), (1642, 0.006574796012282963), (1643, 0.007458120739527946), (1644, 0.05316332330100966), (1645, 0.006862828431872489), (1646, 0.022408985844245197), (1647, 0.01342056961852738), (1648, 0.013434044103577247), (1649, 0.04288592174173614), (1650, 0.023798279248858092), (1651, 0.01694288418736683), (1652, 0.031837209913131055), (1653, 0.0069275445115749654), (1654, 0.0710451835338671), (1655, 0.028537462235716668), (1656, 0.04037862471534827), (1657, 0.007312277153703097), (1658, 0.05559997635830592), (1659, 0.0), (1660, 0.007422421443651406), (1661, 0.13545282122768573), (1662, 0.03571030684822679), (1663, 0.002582007737804643), (1664, 0.013446319660202698), (1665, 0.0025662098251993948), (1666, 0.01773978044034131), (1667, 0.002525916770055699), (1668, 0.008401926062870872), (1669, 0.08087169445283679), (1670, 0.0028846910512045475), (1671, 0.016316740314918535), (1672, 0.002509013955021368), (1673, 0.007537374020295949), (1674, 0.0), (1675, 0.03143061598914419), (1676, 0.053803405391762066), (1677, 0.034716057686361566), (1678, 0.08506785813078303), (1679, 0.030859119486884516), (1680, 0.0024891603811384557), (1681, 0.004790206688557729), (1682, 1.0), (1683, 0.002932876170713599), (1684, 0.012436346770750808), (1685, 0.024821273443969546), (1686, 0.020195946530188486), (1687, 0.007532077299539494), (1688, 0.026170439472896698), (1689, 0.009155427780842534), (1690, 0.04656641654982213), (1691, 0.009784406825375843), (1692, 0.018364358353133124), (1693, 0.03851164621896279), (1694, 0.014328825112641304), (1695, 0.02812935667596205), (1696, 0.013922012094487568), (1697, 0.0), (1698, 0.022068473026577367), (1699, 0.013962971803089416), (1700, 0.03907757720204806), (1701, 0.05173519843641852), (1702, 0.004534903344884537), (1703, 0.00283576320757174), (1704, 0.023783820146758654), (1705, 0.0), (1706, 0.02977695047763945), (1707, 0.0382435863536275), (1708, 0.04736915666928612), (1709, 0.012270923779717557), (1710, 0.020177943180642317), (1711, 0.0034369914569669625), (1712, 0.018105260935603978), (1713, 0.016121614558871927), (1714, 0.05469508061962724), (1715, 0.012715492361632762), (1716, 0.04632484756888125), (1717, 0.038047502285779106), (1718, 0.046997571239547425), (1719, 0.012297326864302113), (1720, 0.0), (1721, 0.04167208701415019), (1722, 0.02360478478512063), (1723, 0.03596855000059171), (1724, 0.0), (1725, 0.004823602316471666), (1726, 0.004477329291141402), (1727, 0.0028496542305019752), (1728, 0.0), (1729, 0.0), (1730, 0.028490995025053444), (1731, 0.006992322732744932), (1732, 0.0), (1733, 0.007789182331644542), (1734, 0.0), (1735, 0.0), (1736, 0.0028692039476739084), (1737, 0.03904822708474426), (1738, 0.004142070337921362), (1739, 0.00974420193676218), (1740, 0.0027958665713849946), (1741, 0.0), (1742, 0.00671699251725899), (1743, 0.13631487858075933), (1744, 0.016560255336978573), (1745, 0.0069298550994650425), (1746, 0.027481357129020993), (1747, 0.01825735875727201), (1748, 0.024477500710968336), (1749, 0.01751185323539183), (1750, 0.0), (1751, 0.053499705589925346), (1752, 0.0), (1753, 0.0), (1754, 0.02303067411819096), (1755, 0.008303862316445398), (1756, 0.004114492562574568), (1757, 0.08377609163921916), (1758, 0.026635766303811318), (1759, 0.03259311769956543), (1760, 0.002534021654793999), (1761, 0.014508634908116413), (1762, 0.042444296308397425), (1763, 0.024848762779565402), (1764, 0.03491770732341977), (1765, 0.0028346819762977357), (1766, 0.0), (1767, 0.015555122119936203), (1768, 0.022333563375940346), (1769, 0.018357402589876882), (1770, 0.03479931518240561), (1771, 0.027500672315062032), (1772, 0.00378619930245433), (1773, 0.01391011401456258), (1774, 0.05350652604423404), (1775, 0.0), (1776, 0.0024137486163060278), (1777, 0.036930507305951134), (1778, 0.02853882443924568), (1779, 0.018033551855352093), (1780, 0.017632575927702294), (1781, 0.007424926717403998), (1782, 0.01246242359212335), (1783, 0.020896552830133752), (1784, 0.003961961171528048), (1785, 0.0), (1786, 0.007173084116378454), (1787, 0.07016113448498926), (1788, 0.06981348402376444), (1789, 0.020024836176012934), (1790, 0.016924691087348558), (1791, 0.0), (1792, 0.02004065420144819), (1793, 0.019965067079129886), (1794, 0.0372373236558784), (1795, 0.0), (1796, 0.0025007009489730566), (1797, 0.019866389814078587), (1798, 0.02986940980745315), (1799, 0.025107137997578563), (1800, 0.012807089158395294), (1801, 0.0023017306171751505), (1802, 0.05539866874625725), (1803, 0.027513134088368425), (1804, 0.03073259443265576), (1805, 0.0029861227051802596), (1806, 0.007120254200263582), (1807, 0.03473661384441904), (1808, 0.05463985118187062), (1809, 0.03462718362482292), (1810, 0.0), (1811, 0.0027187324865507265), (1812, 0.02448813926061684), (1813, 0.02078761128657625), (1814, 0.0025235741547104786), (1815, 0.0), (1816, 0.04216724952761556), (1817, 0.007831215835121953), (1818, 0.04295839011352988), (1819, 0.008629551353170627), (1820, 0.0), (1821, 0.009720035227284176), (1822, 0.002893218334038329), (1823, 0.02131616599360532), (1824, 0.02688173112979103), (1825, 0.008347365779982449), (1826, 0.002478377280015159), (1827, 0.015697535162644386), (1828, 0.0061297232239544515), (1829, 0.0), (1830, 0.018972250248652404), (1831, 0.07733699376574042), (1832, 0.0), (1833, 0.03865787296197566), (1834, 0.0), (1835, 0.0), (1836, 0.0), (1837, 0.0), (1838, 0.022543084091504087), (1839, 0.0), (1840, 0.014733015417424881), (1841, 0.01930446810930099), (1842, 0.0), (1843, 0.10491386209215978), (1844, 0.0), (1845, 0.04616450403521149), (1846, 0.007887100948079376), (1847, 0.018755763843173238), (1848, 0.0029504162707504286), (1849, 0.061640878771427994), (1850, 0.039196024080852064), (1851, 0.05481514007487616), (1852, 0.037783667954342404), (1853, 0.0029010712781107053), (1854, 0.0026167981022578697), (1855, 0.06617854993979688), (1856, 0.020172816281902563), (1857, 0.012265922401839586), (1858, 0.015246757098377209), (1859, 0.025430937489416244), (1860, 0.024126829591915935), (1861, 0.012774558002219242), (1862, 0.06643766158038239), (1863, 0.012261535263207706), (1864, 0.01629151909216556), (1865, 0.0679158068434478), (1866, 0.029950062051626043), (1867, 0.028458264103259023), (1868, 0.05403587514903023), (1869, 0.024833969188658347), (1870, 0.042066602819175646), (1871, 0.06387304650462593), (1872, 0.002772073804097543), (1873, 0.01421151329804105), (1874, 0.0029619861841655463), (1875, 0.02555018190192182), (1876, 0.03690346804288878), (1877, 0.006778878153625073), (1878, 0.03523900719795154), (1879, 0.0), (1880, 0.006358797509449481), (1881, 0.03204713743093585), (1882, 0.021270826582797473), (1883, 0.005377013541640182), (1884, 0.002561715121647487), (1885, 0.010853165488474675), (1886, 0.03146102218477407), (1887, 0.008050453168984508), (1888, 0.010692823691215332), (1889, 0.0), (1890, 0.0030411903033150185), (1891, 0.010743104153903837), (1892, 0.0024887473894053026), (1893, 0.014371638957155992), (1894, 0.0), (1895, 0.028849804975057382), (1896, 0.022719821632880485), (1897, 0.025436601257083042), (1898, 0.0), (1899, 0.007547793454862424), (1900, 0.0), (1901, 0.01446325728927747), (1902, 0.01139095266034051), (1903, 0.10184109578593524), (1904, 0.0), (1905, 0.09312218788566258), (1906, 0.0), (1907, 0.007646681521555641), (1908, 0.03304791173696676), (1909, 0.03204393579495229), (1910, 0.037063116302798925), (1911, 0.07978047873016655), (1912, 0.0), (1913, 0.022000511041453757), (1914, 0.01926799741911229), (1915, 0.037309660095421526), (1916, 0.002888212970684584), (1917, 0.0), (1918, 0.047574445712169275), (1919, 0.03659061612550268), (1920, 0.03392654554680807), (1921, 0.019401933622555823), (1922, 0.0027667421366345314), (1923, 0.012035661556074608), (1924, 0.09329096554900781), (1925, 0.07591020974848289), (1926, 0.0), (1927, 0.0), (1928, 0.02547005261557147), (1929, 0.0026128406942635698), (1930, 0.008184606699117436), (1931, 0.0028002952608360957), (1932, 0.023268977574279148), (1933, 0.01573121331786666), (1934, 0.10018474275317586), (1935, 0.02276755633472649), (1936, 0.017311602833670447), (1937, 0.019403962034098304), (1938, 0.015145881748865518), (1939, 0.0), (1940, 0.009462693468343152), (1941, 0.03800621064334574), (1942, 0.023868301294325996), (1943, 0.0023855837010879504), (1944, 0.026807753776458172), (1945, 0.01430523466840314), (1946, 0.03872754736748171), (1947, 0.02911278611175504), (1948, 0.06530540218217604), (1949, 0.0), (1950, 0.029339844624114163), (1951, 0.029519955918846423), (1952, 0.0046983846683394314), (1953, 0.040716846376710976), (1954, 0.009599825547806983), (1955, 0.00685069334918253), (1956, 0.0065968928611408), (1957, 0.031186111621449485), (1958, 0.01652825553726234), (1959, 0.00296474688583842), (1960, 0.02704474256580538), (1961, 0.019239441042957252), (1962, 0.0), (1963, 0.011827347732916998), (1964, 0.0176845355103561), (1965, 0.0189747032126901), (1966, 0.056063652537946575), (1967, 0.021853457537002147), (1968, 0.03918427852083884), (1969, 0.006855665727861077), (1970, 0.0), (1971, 0.01288374809007077), (1972, 0.0), (1973, 0.06845409558325549), (1974, 0.03721723727478206), (1975, 0.0), (1976, 0.0), (1977, 0.025835515363318722), (1978, 0.0414641054409956), (1979, 0.007449658877620401), (1980, 0.002458278969367337), (1981, 0.017166442381541053), (1982, 0.02936376315460848), (1983, 0.0028544678258297595), (1984, 0.010004639426289519), (1985, 0.057258328064592495), (1986, 0.03632165961326718), (1987, 0.01544208693210131), (1988, 0.031042768172562765), (1989, 0.002201352729918723), (1990, 0.003975094424008447), (1991, 0.0), (1992, 0.007563896699142984), (1993, 0.0), (1994, 0.029146806930038544), (1995, 0.002947104567128027), (1996, 0.01898113093976903), (1997, 0.012458620783818307), (1998, 0.0), (1999, 0.0), (2000, 0.051845362428041095), (2001, 0.005616047705057126), (2002, 0.0), (2003, 0.010516101135308282), (2004, 0.03855088564134557), (2005, 0.04065917295828608), (2006, 0.005562074323048529), (2007, 0.0805593078358453), (2008, 0.016472337321391462), (2009, 0.007724555682411002), (2010, 0.0021644281018702942), (2011, 0.060087500375816796), (2012, 0.021477510106500848), (2013, 0.03611866935888826), (2014, 0.026747009057199653), (2015, 0.023524796034592236), (2016, 0.007374782286849889), (2017, 0.008905662948764548), (2018, 0.013163547056353439), (2019, 0.0), (2020, 0.031758393439210095), (2021, 0.0), (2022, 0.040267798069818075), (2023, 0.006689745077473507), (2024, 0.0026245512006307205), (2025, 0.006678803539745935), (2026, 0.022642526420859063), (2027, 0.034242501773848265), (2028, 0.0), (2029, 0.006935538605670852), (2030, 0.0), (2031, 0.014284951782401299), (2032, 0.01275559446869659), (2033, 0.0), (2034, 0.0089284234727821), (2035, 0.050424731831041056), (2036, 0.04470990378177406), (2037, 0.0602148691895944), (2038, 0.0), (2039, 0.002305447181381043), (2040, 0.018712756078885024), (2041, 0.0), (2042, 0.0), (2043, 0.01918490218631476), (2044, 0.0069276872613080005), (2045, 0.02164816726145691), (2046, 0.004357728633610086), (2047, 0.06728594860406473), (2048, 0.024059005601719977), (2049, 0.05581162051141768), (2050, 0.0), (2051, 0.042688544799593636), (2052, 0.026481030170811198), (2053, 0.07633866700462125), (2054, 0.008501417779083016), (2055, 0.04680033643766629), (2056, 0.03148498085331042), (2057, 0.0), (2058, 0.02068683938062299), (2059, 0.0), (2060, 0.05254283005940143), (2061, 0.011614462283889394), (2062, 0.05940376302728978), (2063, 0.0), (2064, 0.022344319321755506), (2065, 0.010302285538698719), (2066, 0.0), (2067, 0.0027572513698142552), (2068, 0.05858342248248098), (2069, 0.002692855631150136), (2070, 0.09470472998498504), (2071, 0.00811817743852915), (2072, 0.08316701078026659), (2073, 0.0027933040366484585), (2074, 0.07394296498400899), (2075, 0.03062847557281616), (2076, 0.0059914575745888135), (2077, 0.0), (2078, 0.03984445852016687), (2079, 0.014223301169713154), (2080, 0.0026480792670395895), (2081, 0.0), (2082, 0.019707458722057185), (2083, 0.01784658473642897), (2084, 0.0), (2085, 0.0), (2086, 0.011593293645474942), (2087, 0.01656678553208764), (2088, 0.002871525947047673), (2089, 0.003220529729612196), (2090, 0.0), (2091, 0.002778920699382692), (2092, 0.0357588383196738), (2093, 0.0074879502964030195), (2094, 0.03523228043647088), (2095, 0.027340893753969333), (2096, 0.018053957862156977), (2097, 0.040201638457665986), (2098, 0.025949027555182948), (2099, 0.01764610818100258), (2100, 0.026780884480561647), (2101, 0.02267358145015609), (2102, 0.017586318864504222), (2103, 0.03997718338409373), (2104, 0.024024187007707136), (2105, 0.009863467814832163), (2106, 0.006742196033458962), (2107, 0.046128655294491144), (2108, 0.010280955822496274), (2109, 0.021472405084404005), (2110, 0.030430548808908178), (2111, 0.05404697479940175), (2112, 0.05249709187297176), (2113, 0.011109991300590035), (2114, 0.0933847202523379), (2115, 0.0), (2116, 0.09154904143555168), (2117, 0.0026289861033729437), (2118, 0.047320475073818695), (2119, 0.013170480938833166), (2120, 0.007544454489574822), (2121, 0.01612546064486127), (2122, 0.050326613660450895), (2123, 0.03823866126317438), (2124, 0.0), (2125, 0.0), (2126, 0.007326202815482191), (2127, 0.00596371459840956), (2128, 0.004290562047968152), (2129, 0.010041756350413045), (2130, 0.008184177450581046), (2131, 0.05372358013875604), (2132, 0.014502365735344455), (2133, 0.0025923736107622344), (2134, 0.019074872999575884), (2135, 0.020435181446598043), (2136, 0.0), (2137, 0.0038845655777553357), (2138, 0.0), (2139, 0.039421406927591635), (2140, 0.03756690491258081), (2141, 0.0026196735901288975), (2142, 0.003196524286917467), (2143, 0.028107015147388264), (2144, 0.023664099979804516), (2145, 0.0329682175010491), (2146, 0.01786678442187569), (2147, 0.013224966790712094), (2148, 0.0028407948890694775), (2149, 0.008654629558554632), (2150, 0.0), (2151, 0.0029221775085745685), (2152, 0.0), (2153, 0.0), (2154, 0.021696110539243446), (2155, 0.07495353686103762), (2156, 0.022334787503627235), (2157, 0.009112534499925077), (2158, 0.023032749293748492), (2159, 0.13210372592702738), (2160, 0.02770811322858959), (2161, 0.017462424342964498), (2162, 0.0029432574543084605), (2163, 0.009669812809181154), (2164, 0.0), (2165, 0.0), (2166, 0.0025812125757317195), (2167, 0.033635064337987367), (2168, 0.0055810480998796435), (2169, 0.01371400398430387), (2170, 0.021191414314567246), (2171, 0.0), (2172, 0.0), (2173, 0.002698877091836574), (2174, 0.03637036198535222), (2175, 0.025197340113123662), (2176, 0.0030255914149873823), (2177, 0.007502060356932302), (2178, 0.012119116822166905), (2179, 0.0), (2180, 0.030521658629456955), (2181, 0.025354959324116733), (2182, 0.0), (2183, 0.0), (2184, 0.0), (2185, 0.012718814628980418), (2186, 0.007392485399966577), (2187, 0.019922896607495588), (2188, 0.03969145067203076), (2189, 0.003847320117779706), (2190, 0.027032282688548518), (2191, 0.0369188180752625), (2192, 0.016972060325332584), (2193, 0.0280764861946649), (2194, 0.0), (2195, 0.01358999721106991), (2196, 0.03235048876359121), (2197, 0.025657660367821886), (2198, 0.05144191890344775), (2199, 0.003567717218425822), (2200, 0.0), (2201, 0.026993141255134776), (2202, 0.043290518219836864), (2203, 0.020399769118437), (2204, 0.08716051524596699), (2205, 0.020867987424641157), (2206, 0.0), (2207, 0.0), (2208, 0.008581158525778424), (2209, 0.049099937532247936), (2210, 0.0072227816554666265), (2211, 0.05601409430230752), (2212, 0.04337103641446684), (2213, 0.00244411509898088), (2214, 0.002979980553871472), (2215, 0.008190798674059842), (2216, 0.01855584256600349), (2217, 0.0), (2218, 0.022792379312074236), (2219, 0.0), (2220, 0.028365507734424342), (2221, 0.04890846616909099), (2222, 0.004506741176516397), (2223, 0.028514439776844005), (2224, 0.010881223733532924), (2225, 0.017101397993288688), (2226, 0.024522348254044122), (2227, 0.016414927147999192), (2228, 0.0), (2229, 0.002995206562864815), (2230, 0.009512716120602414), (2231, 0.0), (2232, 0.018241028116573396), (2233, 0.004788159666297934), (2234, 0.02698759380959536), (2235, 0.020298958942974663), (2236, 0.03977312601766947), (2237, 0.05045357173051515), (2238, 0.0), (2239, 0.053017885173017074), (2240, 0.015233493307303253), (2241, 0.004537142610616218), (2242, 0.026070927118333902), (2243, 0.0), (2244, 0.03559370523698533), (2245, 0.012034254620669815), (2246, 0.004354969168268601), (2247, 0.0), (2248, 0.002464013210063538), (2249, 0.006820567830034556), (2250, 0.015167491416136214), (2251, 0.0038134283242401315), (2252, 0.00940214626241429), (2253, 0.007772344701025708), (2254, 0.002941111811072328), (2255, 0.003536058014055433), (2256, 0.0), (2257, 0.027950802478032593), (2258, 0.007072207677012323), (2259, 0.03829965404594313), (2260, 0.002931922810866853), (2261, 0.0), (2262, 0.021727796254785915), (2263, 0.04103091478136203), (2264, 0.023965485566886588), (2265, 0.028370124020714038), (2266, 0.011405413237461425), (2267, 0.0), (2268, 0.020683631504735962), (2269, 0.06878333418436916), (2270, 0.021104877946562756), (2271, 0.00766219986844943), (2272, 0.0), (2273, 0.009556104868225751), (2274, 0.007449627791711256), (2275, 0.010964208828209582), (2276, 0.014583444962017753), (2277, 0.036101448208653436), (2278, 0.004426430424730941), (2279, 0.010559123556550159), (2280, 0.0), (2281, 0.010741348713543266), (2282, 0.0), (2283, 0.00464971899719728), (2284, 0.002755560831150733), (2285, 0.047537243306121), (2286, 0.00350259425322617), (2287, 0.03395876276066025), (2288, 0.0028990214951860652), (2289, 0.0027217938094868037), (2290, 0.0), (2291, 0.027992154210866087), (2292, 0.01736871592057323), (2293, 0.002987500534055366), (2294, 0.04066435862597194), (2295, 0.0027843485278845215), (2296, 0.003665203806710023), (2297, 0.0), (2298, 0.04646144137260056), (2299, 0.02695005159492303), (2300, 0.056816272072249395), (2301, 0.08446390539132578), (2302, 0.010520864266831454), (2303, 0.020090083420970514), (2304, 0.0), (2305, 0.0), (2306, 0.055799226535610646), (2307, 0.0), (2308, 0.09522181763408019), (2309, 0.01618032447045839), (2310, 0.0036644853221599267), (2311, 0.022687033408891274), (2312, 0.0), (2313, 0.03814460399512964), (2314, 0.0), (2315, 0.02420657000463729), (2316, 0.0), (2317, 0.03234255456098611), (2318, 0.018927525639504957), (2319, 0.009622557721013404), (2320, 0.020912729094312757), (2321, 0.05656685505738693), (2322, 0.05751989090345844), (2323, 0.009779686788406145), (2324, 0.007072463186250313), (2325, 0.0), (2326, 0.025295371393647563), (2327, 0.03003451753807303), (2328, 0.008004870002137563), (2329, 0.05030092299332897), (2330, 0.0131734313391246), (2331, 0.040056833304223737), (2332, 0.0), (2333, 0.007763880367318207), (2334, 0.030170762262183792), (2335, 0.020902516317081673), (2336, 0.0), (2337, 0.0), (2338, 0.0162528252192529), (2339, 0.021080679463698536), (2340, 0.0027475627373816556), (2341, 0.0), (2342, 0.02225702247652612), (2343, 0.0), (2344, 0.00928201094507329), (2345, 0.0), (2346, 0.024345062811531343), (2347, 0.02067915259143939), (2348, 0.002581584143255973), (2349, 0.01282511604962759), (2350, 0.026865066993945703), (2351, 0.005207959772036593), (2352, 0.006919370218378802), (2353, 0.02705379365401647), (2354, 0.002743505598810293), (2355, 0.00228497014721057), (2356, 0.0030638787229092094), (2357, 0.0), (2358, 0.0), (2359, 0.0022876004873922822), (2360, 0.028525710449492404), (2361, 0.002907138813572549), (2362, 0.008490848619213578), (2363, 0.005391975169911849), (2364, 0.0255311859685504), (2365, 0.08342436228586785), (2366, 0.014312207096920085), (2367, 0.01721964941197344), (2368, 0.03131809337337904), (2369, 0.055691502646666474), (2370, 0.0028554152782532673), (2371, 0.0), (2372, 0.0), (2373, 0.0), (2374, 0.002777671732848967), (2375, 0.019070686228799493), (2376, 0.04346196000406721), (2377, 0.01828498841791412), (2378, 0.051994228847407606), (2379, 0.003955451030540746), (2380, 0.0), (2381, 0.0), (2382, 0.014608286318631645), (2383, 0.021091381975087715), (2384, 0.0), (2385, 0.00975601137780331), (2386, 0.009470081737464067), (2387, 0.020861283097673038), (2388, 0.014736861364643073), (2389, 0.0), (2390, 0.010154313903182428), (2391, 0.018540469389296498), (2392, 0.0035785737109730047), (2393, 0.011565138515130951), (2394, 0.0028879613236703775), (2395, 0.0), (2396, 0.010935629416249919), (2397, 0.01765476040083564), (2398, 0.040381325067360474), (2399, 0.026785144160682374), (2400, 0.012257373773758606), (2401, 0.01053224678625042), (2402, 0.03217231305477786), (2403, 0.019522261007715355), (2404, 0.0037278387967050086), (2405, 0.06847454657616718), (2406, 0.0619526170037026), (2407, 0.051934529823726934), (2408, 0.014172617840675781), (2409, 0.042813450011345074), (2410, 0.01904347379512795), (2411, 0.003103479780433586), (2412, 0.01940855563311504), (2413, 0.016928439447884133), (2414, 0.004398135428313241), (2415, 0.011239707059231788), (2416, 0.007001472075658502), (2417, 0.01983216051842897), (2418, 0.022579345596637254), (2419, 0.0028794623196781092), (2420, 0.028552942266293214), (2421, 0.03903850976573291), (2422, 0.01746204476296404), (2423, 0.003454052433912347), (2424, 0.0), (2425, 0.003552141486613679), (2426, 0.012796748075710828), (2427, 0.013319847817548372), (2428, 0.003024677740321167), (2429, 0.0), (2430, 0.06733617490866153), (2431, 0.011203019554893869), (2432, 0.004205643240458876), (2433, 0.01899032372802174), (2434, 0.011073455614684112), (2435, 0.0), (2436, 0.023807869263911284), (2437, 0.07601979335705317), (2438, 0.003394852089370834), (2439, 0.011656310148023668), (2440, 0.005566873246702062), (2441, 0.030356501491458424), (2442, 0.0), (2443, 0.032637747207247006), (2444, 0.004450594239089357), (2445, 0.037159545769904885), (2446, 0.11093089833489954), (2447, 0.02692498263451538), (2448, 0.0035793716908366193), (2449, 0.04250066198486324), (2450, 0.0), (2451, 0.0), (2452, 0.0), (2453, 0.008513286561869386), (2454, 0.003309563651967011), (2455, 0.0), (2456, 0.0), (2457, 0.015615246653605898), (2458, 0.004754855980873652), (2459, 0.02973096311142448), (2460, 0.007055871601928423), (2461, 0.016831141600203665), (2462, 0.0), (2463, 0.059299305009968724), (2464, 0.0030058965282065034), (2465, 0.0), (2466, 0.0028147337659453126), (2467, 0.0089367243613828), (2468, 0.009459846877908256), (2469, 0.013261605843786007), (2470, 0.03689967556262767), (2471, 0.0), (2472, 0.006542680017248945), (2473, 0.016131444519622784), (2474, 0.033930324058822986), (2475, 0.009961276606874805), (2476, 0.0), (2477, 0.002961195441492553), (2478, 0.0031463265098832746), (2479, 0.0), (2480, 0.018401103728243953), (2481, 0.02956224263102721), (2482, 0.006548073028413827), (2483, 0.07187156296044458), (2484, 0.003664600899512122), (2485, 0.014649090943425536), (2486, 0.021322760481187968), (2487, 0.04152076581267239), (2488, 0.02121475255150813), (2489, 0.009439655879665488), (2490, 0.0039503148762072655), (2491, 0.024617800914358758), (2492, 0.018101681158413062), (2493, 0.03286920173885043), (2494, 0.05612612967698448), (2495, 0.0027405307832580644), (2496, 0.017655474751545094), (2497, 0.004029703001612005), (2498, 0.008595575800929029), (2499, 0.0), (2500, 0.00909959009964519), (2501, 0.004384153028335665), (2502, 0.015315788464958699), (2503, 0.01840515434642369), (2504, 0.004259996132855858), (2505, 0.018811079108097456), (2506, 0.0), (2507, 0.024436530688853552), (2508, 0.0), (2509, 0.014783018961111772), (2510, 0.0568857174322243), (2511, 0.04215265983077802), (2512, 0.018797635516018874), (2513, 0.06895908878200382), (2514, 0.0216677038870933), (2515, 0.0), (2516, 0.0), (2517, 0.03227542244344212), (2518, 0.004925592199052886), (2519, 0.006727397009133331), (2520, 0.04765576701725728), (2521, 0.0), (2522, 0.002921040631757863), (2523, 0.015698841526736076), (2524, 0.02288049687563914), (2525, 0.025291031656901188), (2526, 0.005812387446617992), (2527, 0.00796667746476011), (2528, 0.008601889738687564), (2529, 0.013445914328234547), (2530, 0.05132356319986689), (2531, 0.022638528412557868), (2532, 0.004925733953649333), (2533, 0.0027565975626514857), (2534, 0.007061726684450326), (2535, 0.010266358299880367), (2536, 0.0), (2537, 0.0037598058186402274), (2538, 0.013459579172039937), (2539, 0.00702840620698973), (2540, 0.021439683138588385), (2541, 0.02363426902829366), (2542, 0.0), (2543, 0.008183572146711894), (2544, 0.0), (2545, 0.01764701476752673), (2546, 0.02229493872548535), (2547, 0.0057456086034359645), (2548, 0.0), (2549, 0.0), (2550, 0.030593823373687715), (2551, 0.018971082210538726), (2552, 0.09630850487620499), (2553, 0.03679650703636989), (2554, 0.0027649133409690697), (2555, 0.006233412586612975), (2556, 0.0025414071314363083), (2557, 0.003399183581404595), (2558, 0.0027411339872160743), (2559, 0.012176520661939024), (2560, 0.03831116904584574), (2561, 0.00285938589273418), (2562, 0.0065702923462505804), (2563, 0.061068578365221324), (2564, 0.0), (2565, 0.01796819864285003), (2566, 0.006895135848926526), (2567, 0.0), (2568, 0.0260523279441374), (2569, 0.0027082113083895165), (2570, 0.051072898749778634), (2571, 0.014685710645514133), (2572, 0.09059701136674543), (2573, 0.01530485227474985), (2574, 0.021138992209505176), (2575, 0.02969100836298929), (2576, 0.0), (2577, 0.0), (2578, 0.0), (2579, 0.003072130955974403), (2580, 0.05614390115790473), (2581, 0.005452303110115731), (2582, 0.07340503733767355), (2583, 0.038041645293198374), (2584, 0.019534634679790254), (2585, 0.0030510738791739663), (2586, 0.0), (2587, 0.01890345513068322), (2588, 0.024272187680843535), (2589, 0.02039724638744784), (2590, 0.016910729203509348), (2591, 0.0024588948251717457), (2592, 0.023704279565525628), (2593, 0.0025286912128061724), (2594, 0.02122503660766599), (2595, 0.00297272375608208), (2596, 0.0), (2597, 0.0), (2598, 0.0025930704786754446), (2599, 0.0), (2600, 0.0), (2601, 0.03826671011102742), (2602, 0.0022741551626214262), (2603, 0.030168221025644593), (2604, 0.030806847926288992), (2605, 0.0), (2606, 0.037198421522334116), (2607, 0.021028459049025564), (2608, 0.0038215410855057417), (2609, 0.014533707785751075), (2610, 0.014400141492983923), (2611, 0.006094543539591357), (2612, 0.014680275876069931), (2613, 0.0032288598542346628), (2614, 0.050093483611696646), (2615, 0.004053082667639773), (2616, 0.008532197828111196), (2617, 0.009554632815465858), (2618, 0.015370320278202258), (2619, 0.03739058943792523), (2620, 0.0), (2621, 0.07424992465276051), (2622, 0.03419981482540238), (2623, 0.003102758298141261), (2624, 0.002998997896279097), (2625, 0.018187544436609117), (2626, 0.017712119998657766), (2627, 0.0036718452492681924), (2628, 0.003587902921102061), (2629, 0.010514752974446017), (2630, 0.0), (2631, 0.0041434870432454545), (2632, 0.04435141750589129), (2633, 0.029210011566719936), (2634, 0.0025609322307364644), (2635, 0.04007591073403304), (2636, 0.01141182966777324), (2637, 0.045939832611087944), (2638, 0.02420271798078389), (2639, 0.0), (2640, 0.02228788381022523), (2641, 0.0), (2642, 0.03402119520692673), (2643, 0.011979559656316781), (2644, 0.0), (2645, 0.009142433981330004), (2646, 0.04221433260782146), (2647, 0.02354065969979719), (2648, 0.0), (2649, 0.003871451384993562), (2650, 0.018035649591754452), (2651, 0.002593095094815532), (2652, 0.028240104963919842), (2653, 0.016345168459188136), (2654, 0.03339344762539113), (2655, 0.0036321374056855742), (2656, 0.011017818607640109), (2657, 0.0), (2658, 0.0), (2659, 0.0), (2660, 0.05878285547032373), (2661, 0.018635056582561343), (2662, 0.052682269744951264), (2663, 0.04752722208663501), (2664, 0.03368931914942967), (2665, 0.032164674925476595), (2666, 0.017168063814963844), (2667, 0.0295497742862139), (2668, 0.08192464519583664), (2669, 0.0), (2670, 0.0), (2671, 0.02524623034036009), (2672, 0.02093253260369739), (2673, 0.0094501730532145), (2674, 0.0025229505275336612), (2675, 0.013061236654705734), (2676, 0.0), (2677, 0.006354524261337993), (2678, 0.015085401774846807), (2679, 0.002593505609970349), (2680, 0.03569320358155547), (2681, 0.006270213695220114), (2682, 0.022501476309174297), (2683, 0.0), (2684, 0.0), (2685, 0.0), (2686, 0.017070464576122435), (2687, 0.028548340986158983), (2688, 0.0701089084541463), (2689, 0.004625196776009149), (2690, 0.0), (2691, 0.05744052299016218), (2692, 0.014708572688973999), (2693, 0.006304737080819824), (2694, 0.003650861548118066), (2695, 0.0027441540290693736), (2696, 0.010767594943391367), (2697, 0.03320892100941768), (2698, 0.05394564362063489), (2699, 0.013637976978598275), (2700, 0.0), (2701, 0.01055551919661753), (2702, 0.010586674646860026), (2703, 0.05624265301986358), (2704, 0.0), (2705, 0.010029534697249301), (2706, 0.02794835832037756), (2707, 0.0032167302781133415), (2708, 0.014471466982184983), (2709, 0.0), (2710, 0.018145761738439098), (2711, 0.015407672009913477), (2712, 0.1038093051565721), (2713, 0.004274359933496473), (2714, 0.002900657842078026), (2715, 0.0), (2716, 0.002639968317087283), (2717, 0.0), (2718, 0.0), (2719, 0.004630320556450432), (2720, 0.03672987477008828), (2721, 0.034648523892929675), (2722, 0.0038475761958475818), (2723, 0.002939417894355429), (2724, 0.022729894853893394), (2725, 0.04403093678624997), (2726, 0.03772552670619953), (2727, 0.02184943758691361), (2728, 0.00986425091288548), (2729, 0.009309776858050973), (2730, 0.03764590303637311), (2731, 0.003678964474858658), (2732, 0.03668191930066166), (2733, 0.0), (2734, 0.0099028816284411), (2735, 0.0025305537886314965), (2736, 0.0), (2737, 0.010904612570839339), (2738, 0.008383398615874314), (2739, 0.03159405253034991), (2740, 0.05574399676828112), (2741, 0.03430871335247475), (2742, 0.01318169401056076), (2743, 0.0023498378423177763), (2744, 0.024314017688909256), (2745, 0.009349463075060406), (2746, 0.03601529054108028), (2747, 0.03599391039582029), (2748, 0.010072471950393621), (2749, 0.01133940348452955), (2750, 0.023304059858530183), (2751, 0.06463060617073375), (2752, 0.0026214154373542116), (2753, 0.030849446572213488), (2754, 0.0), (2755, 0.031473337872521), (2756, 0.009746625802963906), (2757, 0.03322825178325535), (2758, 0.0023277151390562884), (2759, 0.03308325947172991), (2760, 0.014532215488532414), (2761, 0.011725666871264095), (2762, 0.0), (2763, 0.008522129552725025), (2764, 0.100620926807828), (2765, 0.010899942271278988), (2766, 0.029948704791216925), (2767, 0.01330455741583339), (2768, 0.00389598681188629), (2769, 0.059754451258383065), (2770, 0.0), (2771, 0.002325626474043258), (2772, 0.003246653075193754), (2773, 0.0), (2774, 0.014831435349017735), (2775, 0.012574764926674344), (2776, 0.03125219681017925), (2777, 0.04726718288013224), (2778, 0.0033140728574776934), (2779, 0.008842381372339697), (2780, 0.0), (2781, 0.00975718379844053), (2782, 0.024166417232870767), (2783, 0.002758235405506863), (2784, 0.0072610425751250054), (2785, 0.004995587205975248), (2786, 0.002935061628865594), (2787, 0.0), (2788, 0.004441976399637034), (2789, 0.015427894787107935), (2790, 0.01310017845866652), (2791, 0.00800296363331331), (2792, 0.007526241856361809), (2793, 0.008752113073107479), (2794, 0.02555881736179728), (2795, 0.003461239662074269), (2796, 0.0031365581229911223), (2797, 0.011337514800191946), (2798, 0.04090605355755812), (2799, 0.0), (2800, 0.002589431439334042), (2801, 0.020688695030214182), (2802, 0.009057335566601703), (2803, 0.01541448978952132), (2804, 0.0), (2805, 0.046163041792333034), (2806, 0.028230566573387194), (2807, 0.044099700366431294), (2808, 0.028485889957046484), (2809, 0.0740215727778902), (2810, 0.0), (2811, 0.0), (2812, 0.03337471878417345), (2813, 0.040342019379914384), (2814, 0.012486074031434228), (2815, 0.0), (2816, 0.02595295634181741), (2817, 0.04130442003650106), (2818, 0.006110010546920802), (2819, 0.0), (2820, 0.04828705016049357), (2821, 0.009833415747295297), (2822, 0.01933949786131033), (2823, 0.0), (2824, 0.03685009989827744), (2825, 0.07459395417364294), (2826, 0.03700433891338471), (2827, 0.0), (2828, 0.0), (2829, 0.023106599780136298), (2830, 0.010308883661866356), (2831, 0.016957695009863313), (2832, 0.012155983085409564), (2833, 0.0), (2834, 0.0169047418768174), (2835, 0.029496578184139453), (2836, 0.006471282428356113), (2837, 0.0), (2838, 0.01183759292545479), (2839, 0.0), (2840, 0.00792314537728256), (2841, 0.03145349587239786), (2842, 0.01077233977567282), (2843, 0.01576578612309803), (2844, 0.061926652457088616), (2845, 0.0281568465380781), (2846, 0.0032069882207499414), (2847, 0.0), (2848, 0.03857239153135921), (2849, 0.002897521938931622), (2850, 0.03399336215638722), (2851, 0.036642069812848815), (2852, 0.022060420428207675), (2853, 0.0027270410124525944), (2854, 0.03480481756282246), (2855, 0.009230851559565366), (2856, 0.0), (2857, 0.041349096237932564), (2858, 0.030771352040814902), (2859, 0.09558894210406821), (2860, 0.015311395682395822), (2861, 0.0036328366737110648), (2862, 0.027616470332555404), (2863, 0.009550614817596264), (2864, 0.0), (2865, 0.0), (2866, 0.006068955890446561), (2867, 0.0770494899755409), (2868, 0.03629691716428106), (2869, 0.0), (2870, 0.012556791145682034), (2871, 0.0), (2872, 0.010662312431236862), (2873, 0.021080748263944526), (2874, 0.0172263286748067), (2875, 0.0), (2876, 0.0212147745965719), (2877, 0.01906998698838385), (2878, 0.02816161365544791), (2879, 0.003337835905678051), (2880, 0.007029277997753051), (2881, 0.003104102860263967), (2882, 0.002978294146403457), (2883, 0.012534737732814678), (2884, 0.05692654865067831), (2885, 0.0), (2886, 0.008837188130358005), (2887, 0.002777118861140799), (2888, 0.0029689016866527767), (2889, 0.00377295728198585), (2890, 0.01022103157886481), (2891, 0.009238307870609955), (2892, 0.020619709028220926), (2893, 0.01050416161825387), (2894, 0.02814734719287632), (2895, 0.0032806247553930773), (2896, 0.042554803774576815), (2897, 0.010397159156722117), (2898, 0.0), (2899, 0.07544839123660396), (2900, 0.0070813503107747654), (2901, 0.03986394597617304), (2902, 0.0020157644216925786), (2903, 0.02739258837237113), (2904, 0.06844227873499929), (2905, 0.0), (2906, 0.00384128649041594), (2907, 0.00859061622307468), (2908, 0.04098808633389714), (2909, 0.002673028750163887), (2910, 0.006950623852426976), (2911, 0.014181158033433252), (2912, 0.039371926467013305), (2913, 0.015558737181620498), (2914, 0.003099632061898865), (2915, 0.05505357457939851), (2916, 0.003069970372978061), (2917, 0.02452425903015175), (2918, 0.0), (2919, 0.002831362387073555), (2920, 0.032507631087832826), (2921, 0.030284666781420916), (2922, 0.0), (2923, 0.058469422898649884), (2924, 0.010742401618308004), (2925, 0.002200555915536664), (2926, 0.0028663413189281757), (2927, 0.0), (2928, 0.008421830466325126), (2929, 0.023774757707075975), (2930, 0.0), (2931, 0.043763003689736735), (2932, 0.0036237431221111923), (2933, 0.04265898099762243), (2934, 0.0027607415972626228), (2935, 0.042865087424670566), (2936, 0.019174215876343034), (2937, 0.003935636655515803), (2938, 0.004084600017650005), (2939, 0.0), (2940, 0.007592977059606423), (2941, 0.0), (2942, 0.03552654036408269), (2943, 0.009229467031614895), (2944, 0.07129091224307754), (2945, 0.009067063621759382), (2946, 0.0026972732476940454), (2947, 0.0), (2948, 0.02470235735628903), (2949, 0.022338385139039678), (2950, 0.0), (2951, 0.00961364483552287), (2952, 0.009265928757382356), (2953, 0.02654502049616658), (2954, 0.006486501040285794), (2955, 0.0), (2956, 0.0), (2957, 0.0033530547637882968), (2958, 0.0), (2959, 0.02282901841155814), (2960, 0.0), (2961, 0.0026977943748871538), (2962, 0.027102411253248186), (2963, 0.013303349919025896), (2964, 0.02276261667766848), (2965, 0.02562493784693972), (2966, 0.01126027649138471), (2967, 0.0073568422515424385), (2968, 0.0), (2969, 0.029442352230812884), (2970, 0.0029213676745254618), (2971, 0.0), (2972, 0.015885771245271425), (2973, 0.00639674642289615), (2974, 0.01039958319136273), (2975, 0.03539010667262965), (2976, 0.002455198866484861), (2977, 0.02181063368098792), (2978, 0.046597100245325096), (2979, 0.015332280101819576), (2980, 0.016612093236613983), (2981, 0.03575639820265388), (2982, 0.016636215306068774), (2983, 0.031158070829945157), (2984, 0.0), (2985, 0.028160385058317562), (2986, 0.010956400096123382), (2987, 0.003164115739669706), (2988, 0.03417079006554106), (2989, 0.003819029083836805), (2990, 0.0), (2991, 0.020357636352829514), (2992, 0.02338722130208847), (2993, 0.0033058063987757187), (2994, 0.0), (2995, 0.026474290166069524), (2996, 0.05435075614304859), (2997, 0.002590537167609192), (2998, 0.004114614670830718), (2999, 0.009210233460163834), (3000, 0.04590303077662132), (3001, 0.00897218791802204), (3002, 0.019169502638305073), (3003, 0.0030446493857800424), (3004, 0.011408876847883855), (3005, 0.0), (3006, 0.0), (3007, 0.0029279952290905717), (3008, 0.015871982991340666), (3009, 0.0091324027964672), (3010, 0.03010695064199541), (3011, 0.012031473362101266), (3012, 0.02738572469854184), (3013, 0.03094181629944992), (3014, 0.027393050648113586), (3015, 0.011737693125702464), (3016, 0.002813655207762138), (3017, 0.007748903481078941), (3018, 0.01301181925799414), (3019, 0.0031906031576667726), (3020, 0.00332727164145667), (3021, 0.0), (3022, 0.07857347795702477), (3023, 0.013432492898156088), (3024, 0.022315113308086575), (3025, 0.0), (3026, 0.01884116297546179), (3027, 0.06553756469246269), (3028, 0.04165168374455128), (3029, 0.0), (3030, 0.012548250146124701), (3031, 0.0033480000979271836), (3032, 0.003067817328355136), (3033, 0.032654517710836876), (3034, 0.006564423891623167), (3035, 0.0026091943965138565), (3036, 0.002605768312047232), (3037, 0.0028930390240951447), (3038, 0.0), (3039, 0.02838331418399029), (3040, 0.0038275401924398964), (3041, 0.020022216620144532), (3042, 0.0037135751088239284), (3043, 0.0031026670296328746), (3044, 0.018588920058259774), (3045, 0.0163133751116831), (3046, 0.020892350913721228), (3047, 0.014655146138911229), (3048, 0.0), (3049, 0.0), (3050, 0.05290124273556887), (3051, 0.003909538867121539), (3052, 0.0037436110599930886), (3053, 0.004187079008852493), (3054, 0.0), (3055, 0.0037294940082509497), (3056, 0.03277901786900531), (3057, 0.006664224958283676), (3058, 0.0), (3059, 0.0), (3060, 0.01645980608965374), (3061, 0.006818999940987743), (3062, 0.003038588636021116), (3063, 0.03109466875385536), (3064, 0.0029822904312308343), (3065, 0.014387252665343644), (3066, 0.04467482812820694), (3067, 0.02317615284938076), (3068, 0.016590995984730888), (3069, 0.002676502158142798), (3070, 0.030552277114556756), (3071, 0.12189672876290773), (3072, 0.010765800919338365), (3073, 0.008609701357941413), (3074, 0.0033626318850341168), (3075, 0.008996033455901407), (3076, 0.0035869069505440622), (3077, 0.024072666496808327), (3078, 0.008380759509993842), (3079, 0.016741837199802885), (3080, 0.0), (3081, 0.00322551570233076), (3082, 0.02335781460165226), (3083, 0.01011884256811332), (3084, 0.0029068923150579956), (3085, 0.013563020813675077), (3086, 0.011707001268811896), (3087, 0.0), (3088, 0.0), (3089, 0.058858373362388305), (3090, 0.015923165688259328), (3091, 0.03080865640461257), (3092, 0.017434828888581676), (3093, 0.0026973048816526066), (3094, 0.06460568949614906), (3095, 0.01818482999610047), (3096, 0.03189584475975195), (3097, 0.023610317138357262), (3098, 0.04181645633202551), (3099, 0.007201513139161716), (3100, 0.0), (3101, 0.0030280084400058672), (3102, 0.019332885458703875), (3103, 0.01839155939017613), (3104, 0.0), (3105, 0.0), (3106, 0.01608745227865275), (3107, 0.0), (3108, 0.035876197326765946), (3109, 0.05264177526486616), (3110, 0.0), (3111, 0.042506925362473115), (3112, 0.002947183007030314), (3113, 0.022943968488166506), (3114, 0.01312491906453426), (3115, 0.0), (3116, 0.010178656513114615), (3117, 0.03192792179167621), (3118, 0.0), (3119, 0.0037574457846952), (3120, 0.02082662358176461), (3121, 0.030084592506895432), (3122, 0.010939274917458334), (3123, 0.0033430702650207172), (3124, 0.04137484923498787), (3125, 0.007139029984901908), (3126, 0.0), (3127, 0.004226350481884432), (3128, 0.003454908122690541), (3129, 0.019622042893608027), (3130, 0.0), (3131, 0.004668014209733859), (3132, 0.0), (3133, 0.011711162733594164), (3134, 0.0), (3135, 0.0), (3136, 0.0), (3137, 0.011140906145573767), (3138, 0.0), (3139, 0.029600017215238774), (3140, 0.011657147419727473), (3141, 0.008407227605359835), (3142, 0.03701496290244631), (3143, 0.0), (3144, 0.0337537519763931), (3145, 0.00566854086519113), (3146, 0.0030656893449995215), (3147, 0.016160414508037794), (3148, 0.01048743237653134), (3149, 0.012018035794578384), (3150, 0.007432639652135335), (3151, 0.03807660656190068), (3152, 0.03544275484889988), (3153, 0.05134602317197287), (3154, 0.003354554749488654), (3155, 0.0027595216478784666), (3156, 0.0), (3157, 0.034783811539334034), (3158, 0.0), (3159, 0.003392118484324234), (3160, 0.0), (3161, 0.012868094953813422), (3162, 0.020599125304151557), (3163, 0.023603434652224014), (3164, 0.01571789378629866), (3165, 0.010638985676292538), (3166, 0.012848542477540172), (3167, 0.009705223120671097), (3168, 0.007343972792734823), (3169, 0.0), (3170, 0.008812027293529406), (3171, 0.0026071396318134202), (3172, 0.005080484087501595), (3173, 0.0026991535354541304), (3174, 0.007084975171621049), (3175, 0.028157004616290573), (3176, 0.0), (3177, 0.006195420816200039), (3178, 0.014644913832407045), (3179, 0.0), (3180, 0.007255957519473598), (3181, 0.025105440813026226), (3182, 0.03608303948935031), (3183, 0.031775203350661835), (3184, 0.0332407927783943), (3185, 0.0), (3186, 0.0031076660235883433), (3187, 0.046352338822435085), (3188, 0.01460168448548748), (3189, 0.015358532873548183), (3190, 0.0), (3191, 0.0), (3192, 0.020068522494010334), (3193, 0.021637781549306505), (3194, 0.00874284127604294), (3195, 0.04347818512919335), (3196, 0.024344145769148846), (3197, 0.0), (3198, 0.009568791132279734), (3199, 0.01804076963093623), (3200, 0.011577516792403503), (3201, 0.04299426432756529), (3202, 0.007091081993550551), (3203, 0.0), (3204, 0.0), (3205, 0.03488493631646852), (3206, 0.003316056600646585), (3207, 0.0), (3208, 0.04031105225089053), (3209, 0.008280323668183803), (3210, 0.002764587064445239), (3211, 0.009928442035792823), (3212, 0.0), (3213, 0.05078556638657725), (3214, 0.008843068013306409), (3215, 0.041936683632099944), (3216, 0.002727403986244551), (3217, 0.062406232062075837), (3218, 0.029662564170219275), (3219, 0.014162491081453874), (3220, 0.03560221092044972), (3221, 0.004880021634372562), (3222, 0.04762999667818497), (3223, 0.0), (3224, 0.023420296308620275), (3225, 0.0028086002835238225), (3226, 0.0601547666296313), (3227, 0.002763486207082804), (3228, 0.02585082024544367), (3229, 0.027289983582990958), (3230, 0.008201417361233032), (3231, 0.02159710925434171), (3232, 0.007078806991354513), (3233, 0.022032440439071675), (3234, 0.012534192538767327), (3235, 0.009874449718468044), (3236, 0.0), (3237, 0.10478948714328432), (3238, 0.023756957536009742), (3239, 0.003455479554277727), (3240, 0.0232329000237498), (3241, 0.00966345067355941), (3242, 0.011377853278162427), (3243, 0.002566996505342339), (3244, 0.03851856809603712), (3245, 0.0), (3246, 0.03443497534900984), (3247, 0.02375221372086763), (3248, 0.010330359961522685), (3249, 0.04620542482658471), (3250, 0.0), (3251, 0.0), (3252, 0.051665252106170255), (3253, 0.05294819109401133), (3254, 0.01419359140004171), (3255, 0.0), (3256, 0.039577713005645), (3257, 0.011161162459194254), (3258, 0.010072261629733922), (3259, 0.013140046497560114), (3260, 0.014913551266696277), (3261, 0.0), (3262, 0.003526574477694137), (3263, 0.0), (3264, 0.04607878476371332), (3265, 0.023623993745766632), (3266, 0.0), (3267, 0.0024869079551939396), (3268, 0.008840680198744653), (3269, 0.011722639005660195), (3270, 0.058839958851955296), (3271, 0.04530967633580365), (3272, 0.008240271520293194), (3273, 0.010312237719204182), (3274, 0.010436567582668366), (3275, 0.003203407002804717), (3276, 0.01398250400664916), (3277, 0.004594184490804666), (3278, 0.04059612615241983), (3279, 0.01692733334970726), (3280, 0.004062174363066738), (3281, 0.06926918915359173), (3282, 0.057182057485729146), (3283, 0.040112515366908075), (3284, 0.06371302048311742), (3285, 0.012820279412821014), (3286, 0.0), (3287, 0.0), (3288, 0.02027243143477503), (3289, 0.011106185655559283), (3290, 0.054940538537907764), (3291, 0.012447542902632476), (3292, 0.0035778549453916756), (3293, 0.0202706351484961), (3294, 0.04641717110281672), (3295, 0.009905887222209036), (3296, 0.010535154198301597), (3297, 0.00754845309500774), (3298, 0.024537047819083467), (3299, 0.03527453289012597), (3300, 0.01631318491843487), (3301, 0.016371730941884266), (3302, 0.035354785699254127), (3303, 0.030344582737689994), (3304, 0.008387307966007524), (3305, 0.022851798608134407), (3306, 0.021308290934841087), (3307, 0.0031836790556474545), (3308, 0.010966033296835292), (3309, 0.013557193790155714), (3310, 0.0), (3311, 0.024295651102372796), (3312, 0.005067728286366779), (3313, 0.01748115261347088), (3314, 0.009823846729363348), (3315, 0.016582852428561713), (3316, 0.02739535858259467), (3317, 0.021114948030681476), (3318, 0.015645194491959717), (3319, 0.0), (3320, 0.07785957806984292), (3321, 0.01152824009175559), (3322, 0.003527409394962389), (3323, 0.0), (3324, 0.0), (3325, 0.004896811671225501), (3326, 0.029585614507540943), (3327, 0.023397748221140144), (3328, 0.007537172380580259), (3329, 0.05837915886698179), (3330, 0.015148536718478541), (3331, 0.029190583193320317), (3332, 0.0), (3333, 0.0), (3334, 0.022816331960005227), (3335, 0.009358875811305997), (3336, 0.006394104569284107), (3337, 0.0031624281332910975), (3338, 0.03579921934513933), (3339, 0.0), (3340, 0.022142849429366906), (3341, 0.002748448190599999), (3342, 0.014114742491900601), (3343, 0.02048098678796154), (3344, 0.10541099370611792), (3345, 0.026897102497191377), (3346, 0.016893207882246866), (3347, 0.0023003688920942397), (3348, 0.010487740526409101), (3349, 0.0028434999920002486), (3350, 0.0), (3351, 0.084999951915722), (3352, 0.008907592907020881), (3353, 0.002849403556262555), (3354, 0.0034506678319156524), (3355, 0.0031531682619164846), (3356, 0.00939737907714766), (3357, 0.003406807875046961), (3358, 0.044850538712548696), (3359, 0.01077972133274386), (3360, 0.09837682107017116), (3361, 0.004130268699391901), (3362, 0.0393522596762046), (3363, 0.01155213514683285), (3364, 0.08062860526565109), (3365, 0.018940635154506044), (3366, 0.019078473287220312), (3367, 0.03798006517202028), (3368, 0.01823348104355794), (3369, 0.0025280958490406505), (3370, 0.047817698071259004), (3371, 0.02734819556339331), (3372, 0.0028784606636593447), (3373, 0.0030847971661285742), (3374, 0.0070501020769058766), (3375, 0.024422715973948617), (3376, 0.006066253823192758), (3377, 0.0), (3378, 0.004552942212478243), (3379, 0.002687076738885872), (3380, 0.008222525070611796), (3381, 0.0027080461693319833), (3382, 0.0028599001251583254), (3383, 0.0), (3384, 0.047947954773980686), (3385, 0.025035614935141625), (3386, 0.02158352325099307), (3387, 0.015678038599272175), (3388, 0.018289743796534527), (3389, 0.01959106582466231), (3390, 0.010325497650244228), (3391, 0.013380518275217267), (3392, 0.01795999403277874), (3393, 0.08563110395030123), (3394, 0.0), (3395, 0.039127282965246334), (3396, 0.0031613402685129596), (3397, 0.020676033084185974), (3398, 0.0), (3399, 0.03835699204647819), (3400, 0.025697006840886764), (3401, 0.04136556737366804), (3402, 0.002670826302245261), (3403, 0.01576046290421391), (3404, 0.0), (3405, 0.0), (3406, 0.033349701921296604), (3407, 0.026120461182852685), (3408, 0.010711679772612375), (3409, 0.021896011769689586), (3410, 0.03992118457281114), (3411, 0.021159577427228033), (3412, 0.026194586886655203), (3413, 0.03294518580343007), (3414, 0.012836210995046591), (3415, 0.03378018385797246), (3416, 0.01418417479391239), (3417, 0.010201849996856669), (3418, 0.019701798096619632), (3419, 0.0031629391627080033), (3420, 0.05669927850663749), (3421, 0.012009624481597632), (3422, 0.019693747951232295), (3423, 0.019381139861178818), (3424, 0.021486842691408353), (3425, 0.010732709364477318), (3426, 0.013207052491826226), (3427, 0.024326458239542624), (3428, 0.0), (3429, 0.0), (3430, 0.00591309381789921), (3431, 0.00220092197148623), (3432, 0.0), (3433, 0.002580692032967178), (3434, 0.03292499264044083), (3435, 0.0070348935564502856), (3436, 0.0027583947362543964), (3437, 0.03750098126362693), (3438, 0.027808715735574335), (3439, 0.0), (3440, 0.022039505544719985), (3441, 0.0027182619889465566), (3442, 0.036203210103539565), (3443, 0.01870986361850485), (3444, 0.0048095142582630845), (3445, 0.002806903159791277), (3446, 0.004480941198414559), (3447, 0.04649112886973704), (3448, 0.005292931068918146), (3449, 0.046968371911832556), (3450, 0.00825050294450891), (3451, 0.0), (3452, 0.02097633217222732), (3453, 0.0), (3454, 0.026305878489583927), (3455, 0.002516564161205816), (3456, 0.054128985814910865), (3457, 0.019787463147557846), (3458, 0.026119005622318375), (3459, 0.034919956895840445), (3460, 0.0196892991429842), (3461, 0.048863336043256246), (3462, 0.0), (3463, 0.019265171435864398), (3464, 0.01320489470334002), (3465, 0.03663121566344095), (3466, 0.049775592447623224), (3467, 0.054509455892565964), (3468, 0.0), (3469, 0.020914498521004722), (3470, 0.0), (3471, 0.017261428301951078), (3472, 0.0), (3473, 0.02063296041218449), (3474, 0.002490450885561345), (3475, 0.0), (3476, 0.0), (3477, 0.02153974465391904), (3478, 0.0027407794591423843), (3479, 0.012370183183886593), (3480, 0.0), (3481, 0.003672105914836097), (3482, 0.0), (3483, 0.017933994671882593), (3484, 0.010361691828558114), (3485, 0.0), (3486, 0.0), (3487, 0.03909439871160193), (3488, 0.0), (3489, 0.006722782247594986), (3490, 0.00626310036457664), (3491, 0.007131830055291185), (3492, 0.020123118110571478), (3493, 0.00969493953074702), (3494, 0.0), (3495, 0.028701268120240035), (3496, 0.05396168985120903), (3497, 0.01184070899983486), (3498, 0.0026186953937648388), (3499, 0.002692501406361944), (3500, 0.008593612994559532), (3501, 0.0027859742077657457), (3502, 0.005281121239860341), (3503, 0.021570700030924483), (3504, 0.020402960837601132), (3505, 0.0), (3506, 0.057249135946181424), (3507, 0.0045230586689876465), (3508, 0.05368728629463092), (3509, 0.029456692748369755), (3510, 0.0), (3511, 0.009750318117932966), (3512, 0.004202736870914607), (3513, 0.006833253358556616), (3514, 0.0028612741435765617), (3515, 0.046400686055085766), (3516, 0.01653138938942299), (3517, 0.002837817491636041), (3518, 0.06298622934477936), (3519, 0.041440203159079564), (3520, 0.034284268688411765), (3521, 0.003376502669568388), (3522, 0.0), (3523, 0.003928962276018095), (3524, 0.027602241113580596), (3525, 0.007038781502767618), (3526, 0.013944640613504086), (3527, 0.002833118386227257), (3528, 0.0), (3529, 0.028873789000664497), (3530, 0.0), (3531, 0.02735938334807475), (3532, 0.0), (3533, 0.018019656960658777), (3534, 0.004526260131283241), (3535, 0.0), (3536, 0.022102163829756796), (3537, 0.02341693015947078), (3538, 0.005664446617808568), (3539, 0.0), (3540, 0.0031966791436601394), (3541, 0.03788041100841624), (3542, 0.002804219749874513), (3543, 0.0), (3544, 0.0033362231164666446), (3545, 0.04159398073500452), (3546, 0.010165984951053992), (3547, 0.0), (3548, 0.002253869709192999), (3549, 0.011257404264957721), (3550, 0.0), (3551, 0.013752419686694564), (3552, 0.015064925686712496), (3553, 0.016787337101317457), (3554, 0.0), (3555, 0.0), (3556, 0.0194112766981826), (3557, 0.0069663129945682165), (3558, 0.05300362256489406), (3559, 0.038954139941701355), (3560, 0.03979917315474629), (3561, 0.0037153974096487898), (3562, 0.004202675493062377), (3563, 0.053463486875279534), (3564, 0.037683660318681284), (3565, 0.0027124675108279577), (3566, 0.03449852702807779), (3567, 0.00418031413687607), (3568, 0.0041844327910994265), (3569, 0.014621100552208437), (3570, 0.021549988149300026), (3571, 0.0028026010138708342), (3572, 0.0), (3573, 0.0), (3574, 0.0), (3575, 0.06081140705056495), (3576, 0.0), (3577, 0.016839389137449916), (3578, 0.005507144350915462), (3579, 0.04752236724083331), (3580, 0.0), (3581, 0.0), (3582, 0.02089088393614248), (3583, 0.0), (3584, 0.00700436806013374), (3585, 0.019253702117804482), (3586, 0.004695627930956402), (3587, 0.008002377247266523), (3588, 0.0), (3589, 0.1032143117821468), (3590, 0.002911386041052002), (3591, 0.019486783912813332), (3592, 0.008108685847280311), (3593, 0.0030595273486347546), (3594, 0.05194184161249025), (3595, 0.0), (3596, 0.02477592886677056), (3597, 0.0), (3598, 0.022203736708329817), (3599, 0.029051041219635976), (3600, 0.0), (3601, 0.00987858337237227), (3602, 0.021322659937799127), (3603, 0.006646456935036156), (3604, 0.017725859810125328), (3605, 0.0), (3606, 0.0027944980801457363), (3607, 0.023735965238636487), (3608, 0.02481924609844683), (3609, 0.013269756892970413), (3610, 0.01471565008083715), (3611, 0.003114133527152013), (3612, 0.08806911306262286), (3613, 0.0033805618526149108), (3614, 0.008384082226059887), (3615, 0.0025809588287544357), (3616, 0.008834035814893223), (3617, 0.0), (3618, 0.007530083611577255), (3619, 0.0), (3620, 0.0033374192234090112), (3621, 0.003225089953365471), (3622, 0.02653393589252983), (3623, 0.002827338277836438), (3624, 0.0027153758503139654), (3625, 0.0), (3626, 0.022877096807573858), (3627, 0.002535912751400691), (3628, 0.0), (3629, 0.025683559172420368), (3630, 0.034100186500091674), (3631, 0.0), (3632, 0.07723400979427077), (3633, 0.040354490029348516), (3634, 0.01432118887954426), (3635, 0.0037055475460257346), (3636, 0.002824478305834778), (3637, 0.023488141337639473), (3638, 0.00885700134174984), (3639, 0.003136733592062695), (3640, 0.0030565968370798464), (3641, 0.02440515388539158), (3642, 0.011751674942939109), (3643, 0.05936521468961773), (3644, 0.02456007089459183), (3645, 0.0020658399530230917), (3646, 0.020539848091079668), (3647, 0.002696568269286305), (3648, 0.04474845007215135), (3649, 0.0), (3650, 0.02077360755588086), (3651, 0.03072492758876144), (3652, 0.0), (3653, 0.0027938520898176554), (3654, 0.014330362876300368), (3655, 0.03125998690980919), (3656, 0.039717875345099615), (3657, 0.002312897295563961), (3658, 0.03759252585223585), (3659, 0.0215300803863583), (3660, 0.0026430226675436624), (3661, 0.04061758605303099), (3662, 0.0), (3663, 0.0), (3664, 0.0), (3665, 0.02679446894677521), (3666, 0.08264034040925919), (3667, 0.029557564696186124), (3668, 0.022733499312706754), (3669, 0.007849756611577753), (3670, 0.024635261532071226), (3671, 0.0), (3672, 0.003894579652003131), (3673, 0.0027296730962957957), (3674, 0.020358297847780815), (3675, 0.0032671196846079937), (3676, 0.0), (3677, 0.012587242637078954), (3678, 0.05073772256685077), (3679, 0.0), (3680, 0.0030992789954689503), (3681, 0.012083762272996745), (3682, 0.0), (3683, 0.0), (3684, 0.010813114394249729), (3685, 0.046228885584621744), (3686, 0.007753435744209935), (3687, 0.003423253262198281), (3688, 0.0), (3689, 0.02203303565993082), (3690, 0.008917883347960575), (3691, 0.0026079727332656857), (3692, 0.041027157590669855), (3693, 0.02922693097662088), (3694, 0.0029661465760696917), (3695, 0.046040293087422454), (3696, 0.011058612294763402), (3697, 0.0), (3698, 0.009859701201810555), (3699, 0.09759922777068661), (3700, 0.020598230041183087), (3701, 0.007282862147781106), (3702, 0.0), (3703, 0.0), (3704, 0.0029618251475980488), (3705, 0.06364906806989615), (3706, 0.0026748004243855616), (3707, 0.0027894841541293625), (3708, 0.0), (3709, 0.023506851911597675), (3710, 0.017157145699680958), (3711, 0.008040023110018946), (3712, 0.00413299674225729), (3713, 0.04195004542879046), (3714, 0.0029957556993650963), (3715, 0.0), (3716, 0.02361645217312737), (3717, 0.0), (3718, 0.011553445600564493), (3719, 0.0026751480412187667), (3720, 0.004210565542840325), (3721, 0.008651962202439483), (3722, 0.0044860573738401775), (3723, 0.0), (3724, 0.028311697429544876), (3725, 0.0025519824569883174), (3726, 0.0), (3727, 0.0027174519860130608), (3728, 0.018112694314946498), (3729, 0.003176311574440716), (3730, 0.004769627291340147), (3731, 0.032675249626901874), (3732, 0.007543064174778777), (3733, 0.02957280977062162), (3734, 0.002585026083300056), (3735, 0.0), (3736, 0.012292551480480259), (3737, 0.023344963659824403), (3738, 0.0), (3739, 0.015367412808239334), (3740, 0.0), (3741, 0.010136466396430215), (3742, 0.015576910373751519), (3743, 0.009029162867353174), (3744, 0.0), (3745, 0.010896170690545593), (3746, 0.04241457565871981), (3747, 0.021883582192701107), (3748, 0.02170201144205254), (3749, 0.002988353823751613), (3750, 0.018101002945611604), (3751, 0.09699501485885274), (3752, 0.08117594080384026), (3753, 0.0060081718203817466), (3754, 0.026087952584789943), (3755, 0.002422278017745972), (3756, 0.0022418994881531627), (3757, 0.0029565079198848533), (3758, 0.04165729386682636), (3759, 0.020798284110167396), (3760, 0.0), (3761, 0.007293422953954138), (3762, 0.003570658197073817), (3763, 0.0032300792732289007), (3764, 0.0), (3765, 0.029565016140447313), (3766, 0.003268458381797131), (3767, 0.021550610104801183), (3768, 0.0), (3769, 0.0), (3770, 0.0028660764146612415), (3771, 0.03130163149915193), (3772, 0.003118991338892655), (3773, 0.0), (3774, 0.008669731464542661), (3775, 0.0), (3776, 0.026140050003893925), (3777, 0.007505790596528054), (3778, 0.007379005539441676), (3779, 0.030283117164580004), (3780, 0.01622971191866273), (3781, 0.039583029453437946), (3782, 0.021159946335793312), (3783, 0.013499104448217116), (3784, 0.020275387910664487), (3785, 0.01676537421785724), (3786, 0.00418642367705873), (3787, 0.028638118496540212), (3788, 0.0), (3789, 0.0), (3790, 0.008415112433523173), (3791, 0.0), (3792, 0.017653369878447508), (3793, 0.0), (3794, 0.018710584516914867), (3795, 0.008285796061290596), (3796, 0.0), (3797, 0.018743766355856024), (3798, 0.006765073896819796), (3799, 0.002598034341918363), (3800, 0.04311626566796177), (3801, 0.04235444582545439), (3802, 0.021630736021920085), (3803, 0.003817454468609268), (3804, 0.010332704887597166), (3805, 0.0), (3806, 0.0), (3807, 0.010780312645512444), (3808, 0.007241335521960594), (3809, 0.00949033673043799), (3810, 0.004445997674381542), (3811, 0.027243812820472113), (3812, 0.00824066492141676), (3813, 0.011824431816269087), (3814, 0.0), (3815, 0.0), (3816, 0.0), (3817, 0.02682863133909999), (3818, 0.004326936926559028), (3819, 0.014351948500091102), (3820, 0.0), (3821, 0.033522706276293286), (3822, 0.06421925429336223), (3823, 0.05247351818987761), (3824, 0.0), (3825, 0.02069735917083118), (3826, 0.026748703112327896), (3827, 0.0026872640368915115), (3828, 0.003466250850064717), (3829, 0.05328892571668738), (3830, 0.007132994216494069), (3831, 0.004784620725890028), (3832, 0.0033459106661025465), (3833, 0.0), (3834, 0.006978283543952036), (3835, 0.014129423014559942), (3836, 0.0), (3837, 0.0), (3838, 0.0), (3839, 0.04669516755786081), (3840, 0.0), (3841, 0.006370701000150202), (3842, 0.0), (3843, 0.029689532110341574), (3844, 0.0), (3845, 0.009661507584642896), (3846, 0.0), (3847, 0.0), (3848, 0.003477189043974269), (3849, 0.008409240367006344), (3850, 0.0), (3851, 0.007467300195796586), (3852, 0.0038017354011436887), (3853, 0.0), (3854, 0.024837224411711097), (3855, 0.012897646422632095), (3856, 0.0056443845167442755), (3857, 0.03197647688615936), (3858, 0.005003360495618466), (3859, 0.012337756762199583), (3860, 0.029264751774880034), (3861, 0.0), (3862, 0.00286245040858473), (3863, 0.0024628545558227416), (3864, 0.013398030864211485), (3865, 0.016552555931502424), (3866, 0.015706492628856466), (3867, 0.01052253635732897), (3868, 0.02853138432973456), (3869, 0.04158772525117239), (3870, 0.004561435815645016), (3871, 0.0), (3872, 0.0), (3873, 0.002930659870774128), (3874, 0.003351518741030712), (3875, 0.06071153840463734), (3876, 0.009947779652835909), (3877, 0.00790947771236203), (3878, 0.003602221726261746), (3879, 0.006323063928384972), (3880, 0.014777625169165746), (3881, 0.0), (3882, 0.030539401375397936), (3883, 0.003124163353947126), (3884, 0.0031888399594426245), (3885, 0.0), (3886, 0.004190249633395352), (3887, 0.0), (3888, 0.021185905347244197), (3889, 0.010045606757862145), (3890, 0.01740371885292729), (3891, 0.0041318859453355755), (3892, 0.03175351255729907), (3893, 0.010006550418607742), (3894, 0.040191507160669854), (3895, 0.020637684363548528), (3896, 0.018003882020580116), (3897, 0.004626034692279336), (3898, 0.008790026288412963), (3899, 0.05116884843606205), (3900, 0.0026355050144775275), (3901, 0.053843403360030156), (3902, 0.038438545998927834), (3903, 0.05078816976416449), (3904, 0.009907496214176435), (3905, 0.0362866985526909), (3906, 0.018574916641037418), (3907, 0.023902752321169465), (3908, 0.0), (3909, 0.017316932777185184), (3910, 0.0024062232599216275), (3911, 0.00327499459272057), (3912, 0.008271610818534959), (3913, 0.00855136870353352), (3914, 0.007638559959851598), (3915, 0.01006093670788201), (3916, 0.0), (3917, 0.006833634266325374), (3918, 0.0), (3919, 0.044047315630275356), (3920, 0.007358285560503868), (3921, 0.049384399665164835), (3922, 0.0033834125981656816), (3923, 0.013151003468683564), (3924, 0.0500538267931374), (3925, 0.013787367945157288), (3926, 0.02669982468759164), (3927, 0.01773019583787698), (3928, 0.01788949936936611), (3929, 0.0), (3930, 0.004517095395643922), (3931, 0.0), (3932, 0.011071231404141235), (3933, 0.00581348738984191), (3934, 0.0), (3935, 0.0032295904288286654), (3936, 0.03224721508628501), (3937, 0.0), (3938, 0.0), (3939, 0.027845389153561193), (3940, 0.027992364233809963), (3941, 0.002568388916834033), (3942, 0.0), (3943, 0.021233692808267368), (3944, 0.003517108438438802), (3945, 0.007980850879810188), (3946, 0.011009984534289044), (3947, 0.0), (3948, 0.0), (3949, 0.0), (3950, 0.007249926124420784), (3951, 0.024855059852035184), (3952, 0.010622384481173221), (3953, 0.035247040239207036), (3954, 0.039762640748321074), (3955, 0.004354150722176535), (3956, 0.0024428448554539256), (3957, 0.017557656269452725), (3958, 0.0), (3959, 0.0073578086332326854), (3960, 0.03044906455285735), (3961, 0.0030251410693824406), (3962, 0.0030781686312331504), (3963, 0.0043305072076968735), (3964, 0.007283964239510814), (3965, 0.0), (3966, 0.030043958506322806), (3967, 0.003029812451466068), (3968, 0.04334665777403664), (3969, 0.004583660420188904), (3970, 0.04509717271041419), (3971, 0.015297318822843431), (3972, 0.022626149933635528), (3973, 0.08337178471360306), (3974, 0.009754057059076943), (3975, 0.0), (3976, 0.0), (3977, 0.0), (3978, 0.03523726625390839), (3979, 0.0), (3980, 0.008732368750261739), (3981, 0.0), (3982, 0.0), (3983, 0.036823172361995934), (3984, 0.019854883256879542), (3985, 0.007739805435521178), (3986, 0.006391828658998293), (3987, 0.00291911657712547), (3988, 0.0), (3989, 0.017470062703663476), (3990, 0.0037830560176598453), (3991, 0.0), (3992, 0.0030981071165955055), (3993, 0.02811894054622247), (3994, 0.004240083975780644), (3995, 0.0), (3996, 0.0), (3997, 0.0), (3998, 0.049171443428737846), (3999, 0.011405378311455265), (4000, 0.04142827957222428), (4001, 0.03729906006340611), (4002, 0.024871817558834972), (4003, 0.035654714305890435), (4004, 0.0027795206772114867), (4005, 0.0029285992310566908), (4006, 0.004360597632365243), (4007, 0.026391740109912926), (4008, 0.014734281272644778), (4009, 0.01714973635738471), (4010, 0.0), (4011, 0.016302843642167587), (4012, 0.01027326636139056), (4013, 0.007734286868417057), (4014, 0.0027731130869683186), (4015, 0.029353977139608203), (4016, 0.002733227277991867), (4017, 0.0037192635599038112), (4018, 0.005558846210466063), (4019, 0.0035529318852685968), (4020, 0.0026888228119056235), (4021, 0.0), (4022, 0.0061819474786334065), (4023, 0.003236705922019153), (4024, 0.002959756149151483), (4025, 0.03339178349299517), (4026, 0.0), (4027, 0.006886848852267862), (4028, 0.0), (4029, 0.0), (4030, 0.0032079772560222666), (4031, 0.005100470410761969), (4032, 0.03503813746507068), (4033, 0.04129706050304102), (4034, 0.0158786522838919), (4035, 0.031677482683768896), (4036, 0.0026779820213995833), (4037, 0.0), (4038, 0.0355604518786283), (4039, 0.0), (4040, 0.0), (4041, 0.0), (4042, 0.0030271362082559083), (4043, 0.021143010611605343), (4044, 0.0), (4045, 0.01710697857413195), (4046, 0.0030046283064306713), (4047, 0.0), (4048, 0.0030004296913248387), (4049, 0.002781588535562865), (4050, 0.00720457718524359), (4051, 0.03149658788837436), (4052, 0.04661192606732492), (4053, 0.002486957282605224), (4054, 0.023852811262542413), (4055, 0.037061316152787696), (4056, 0.009212705189150454), (4057, 0.030842475639584043), (4058, 0.0), (4059, 0.08262866226778479), (4060, 0.023223632375778545), (4061, 0.03216347309993187), (4062, 0.025800398878276676), (4063, 0.014893774712445702), (4064, 0.012075321300157156), (4065, 0.0), (4066, 0.0024069228108940634), (4067, 0.0), (4068, 0.02175761923042417), (4069, 0.01647171000241404), (4070, 0.03296731936573774), (4071, 0.03964997715965358), (4072, 0.0), (4073, 0.014248129149534293), (4074, 0.024170661870467763), (4075, 0.003198036070532161), (4076, 0.025982102282410546), (4077, 0.020451231766103237), (4078, 0.024062951424668043), (4079, 0.03008050855315383), (4080, 0.008305246481345818), (4081, 0.02182981551940201), (4082, 0.0130852709335608), (4083, 0.0028613989399539665), (4084, 0.008386361786303503), (4085, 0.002608598009786548), (4086, 0.008761157280001056), (4087, 0.0029794211619798686), (4088, 0.0), (4089, 0.01128386736434525), (4090, 0.0), (4091, 0.00479415972197001), (4092, 0.0031016275457662413), (4093, 0.0), (4094, 0.0), (4095, 0.002325976619322541), (4096, 0.0), (4097, 0.008866352522406027), (4098, 0.002809414026724501), (4099, 0.01855572686798322), (4100, 0.0), (4101, 0.010109823629134543), (4102, 0.0034799455664651213), (4103, 0.04256631583759437), (4104, 0.008210404673467208), (4105, 0.0), (4106, 0.020523385316444695), (4107, 0.0033842761026526107), (4108, 0.004882188849223608), (4109, 0.029148082197336056), (4110, 0.027530821429185802), (4111, 0.026148972772590644), (4112, 0.004258860434838252), (4113, 0.0030442009936040328), (4114, 0.007026730189729698), (4115, 0.024511290103397376), (4116, 0.0029880652743625143), (4117, 0.03312376424509897), (4118, 0.024844635792599407), (4119, 0.00969884913655043), (4120, 0.004863479491971094), (4121, 0.004962524487982769), (4122, 0.024533599548643675), (4123, 0.002893903206036829), (4124, 0.0067219087502375235), (4125, 0.0), (4126, 0.0031892763165660793), (4127, 0.0), (4128, 0.00806679596566968), (4129, 0.0026528762129706587), (4130, 0.0029956476760250503), (4131, 0.0), (4132, 0.002950135300953626), (4133, 0.018376516297490687), (4134, 0.019483856890111378), (4135, 0.05515226150071515), (4136, 0.014194586780864969), (4137, 0.029783775552979008), (4138, 0.04817813656818207), (4139, 0.008944637562090817), (4140, 0.0029946145979248113), (4141, 0.03357584212188144), (4142, 0.0035040883230583737), (4143, 0.049873758985695224), (4144, 0.005483799065524758), (4145, 0.03712028272126375), (4146, 0.0), (4147, 0.027390844612975848), (4148, 0.0), (4149, 0.0), (4150, 0.0), (4151, 0.004709024465340644), (4152, 0.028157678085985856), (4153, 0.0), (4154, 0.0024765977927617435), (4155, 0.05838419746283068), (4156, 0.07309205654508401), (4157, 0.004275679121955252), (4158, 0.015936701957850855), (4159, 0.007587865577490628), (4160, 0.0030729241205109353), (4161, 0.002948529883979294), (4162, 0.024959954978797837), (4163, 0.029075580058172044), (4164, 0.0), (4165, 0.0), (4166, 0.00841996280082255), (4167, 0.0), (4168, 0.014638004699493761), (4169, 0.04121092079627042), (4170, 0.0), (4171, 0.03866516211780812), (4172, 0.0036233462198954607), (4173, 0.025929486322513157), (4174, 0.06032551432914772), (4175, 0.00986311968171823), (4176, 0.03963303622469928), (4177, 0.0), (4178, 0.002877865471104354), (4179, 0.0), (4180, 0.0), (4181, 0.0), (4182, 0.027242131348858344), (4183, 0.00898397761233735), (4184, 0.0), (4185, 0.02504936239010054), (4186, 0.04357761754164499), (4187, 0.012296490252204473), (4188, 0.022194692791769072), (4189, 0.05677429204627188), (4190, 0.0), (4191, 0.0), (4192, 0.017419882543530295), (4193, 0.0), (4194, 0.0053440630419766336), (4195, 0.0), (4196, 0.015458981010888412), (4197, 0.017696664849059483), (4198, 0.008611801799627594), (4199, 0.010044079930075962), (4200, 0.002266040828194768), (4201, 0.015629024525537816), (4202, 0.0038323834689412174), (4203, 0.024691441244510524), (4204, 0.0), (4205, 0.026820773767142765), (4206, 0.0026034178489221125), (4207, 0.008786702673306682), (4208, 0.0), (4209, 0.003358490929647237), (4210, 0.040822021188197666), (4211, 0.0), (4212, 0.0), (4213, 0.002606177856154984), (4214, 0.016346971236446513), (4215, 0.0), (4216, 0.020957074561116326), (4217, 0.050961365296747066), (4218, 0.037774750980281206), (4219, 0.0), (4220, 0.0024178440145832102), (4221, 0.0036644114648787737), (4222, 0.012422686272960538), (4223, 0.009996953445908204), (4224, 0.0), (4225, 0.002877069115612097), (4226, 0.020291208299140995), (4227, 0.0), (4228, 0.0027077366713444454), (4229, 0.0063049362175557535), (4230, 0.0035117704213701332), (4231, 0.0029236734364390176), (4232, 0.002382719485460398), (4233, 0.017093275733523813), (4234, 0.0), (4235, 0.0), (4236, 0.013130103042640461), (4237, 0.04310346511666619), (4238, 0.0), (4239, 0.0), (4240, 0.01360153638172943), (4241, 0.023852147103112138), (4242, 0.03336689221813987), (4243, 0.032139512336251494), (4244, 0.0031398837015197563), (4245, 0.0029447173943450635), (4246, 0.002595047061836054), (4247, 0.025935450985407893), (4248, 0.0), (4249, 0.03203595980197082), (4250, 0.0), (4251, 0.0), (4252, 0.01826272931911433), (4253, 0.0), (4254, 0.0025734580153905446), (4255, 0.017170662554079397), (4256, 0.0), (4257, 0.052286269467739496), (4258, 0.0), (4259, 0.003044366654502976), (4260, 0.0), (4261, 0.0), (4262, 0.02418645150436922), (4263, 0.010202090672952113), (4264, 0.0), (4265, 0.009235189326396083), (4266, 0.002765629722246746), (4267, 0.013167341977720761), (4268, 0.02240436698431713), (4269, 0.0076199296418537074), (4270, 0.0), (4271, 0.015417160654133871), (4272, 0.03118642000844321), (4273, 0.0174509389209594), (4274, 0.0795889791724924), (4275, 0.0), (4276, 0.0), (4277, 0.009926330529841458), (4278, 0.0), (4279, 0.0041724081929195795), (4280, 0.04949933371912423), (4281, 0.0377604238818131), (4282, 0.027746730444401943), (4283, 0.0072413600430592286), (4284, 0.006970288243463337), (4285, 0.021318124159691223), (4286, 0.03151303947811729), (4287, 0.017934134127748167), (4288, 0.005576899730984743), (4289, 0.02308103595825186), (4290, 0.007875974582883243), (4291, 0.0), (4292, 0.022723118352467132), (4293, 0.0030583684448752275), (4294, 0.0), (4295, 0.01802199682092448), (4296, 0.0023873299750388276), (4297, 0.007996576899871696), (4298, 0.003362419818524323), (4299, 0.002675573379788856), (4300, 0.0), (4301, 0.0020334391186784735), (4302, 0.0), (4303, 0.02913063494369754), (4304, 0.02192292365028431), (4305, 0.0), (4306, 0.011451747557927622), (4307, 0.0), (4308, 0.0030056460002401385), (4309, 0.009040725908493741), (4310, 0.008104563881291816), (4311, 0.007525490572443926), (4312, 0.02889270819987956), (4313, 0.0), (4314, 0.05044619198538854), (4315, 0.006945422013115105), (4316, 0.0), (4317, 0.0), (4318, 0.0028961425572486175), (4319, 0.006703537566495374), (4320, 0.009239234106918041), (4321, 0.016526642735863566), (4322, 0.005971584509130826), (4323, 0.0), (4324, 0.0), (4325, 0.018322913403517754), (4326, 0.0025127987703617715), (4327, 0.006356052806938284), (4328, 0.029019702263929234), (4329, 0.024884122867652247), (4330, 0.00710790246222829), (4331, 0.0), (4332, 0.00946723153049914), (4333, 0.07402629476635922), (4334, 0.002832733350166274), (4335, 0.045869877810641446), (4336, 0.030185596690526055), (4337, 0.01576411211111682), (4338, 0.020179877444926695), (4339, 0.003985602904921079), (4340, 0.041241573717350585), (4341, 0.0), (4342, 0.03430874931140239), (4343, 0.01989739099547849), (4344, 0.04047569014348097), (4345, 0.01617586084199626), (4346, 0.021075536226306254), (4347, 0.015315850815054684), (4348, 0.006532945683359816), (4349, 0.0026950334727105616), (4350, 0.008348924667310357), (4351, 0.054950915629928515), (4352, 0.0), (4353, 0.01082020372244561), (4354, 0.002867140948304849), (4355, 0.0029198467102422854), (4356, 0.027442883176471103), (4357, 0.030093801762825705), (4358, 0.0), (4359, 0.002502243896877784), (4360, 0.0), (4361, 0.0028514900140661774), (4362, 0.020965483927539646), (4363, 0.007440343317949127), (4364, 0.0), (4365, 0.0196751699009883), (4366, 0.007279826295840795), (4367, 0.013758247566373262), (4368, 0.007995127005334082), (4369, 0.03635568709259178), (4370, 0.0), (4371, 0.018163771850453227), (4372, 0.022553921832356685), (4373, 0.013972226144276003), (4374, 0.03732208105738262), (4375, 0.018957863226880867), (4376, 0.004473334026745075), (4377, 0.0), (4378, 0.02075412506350116), (4379, 0.0073603584922456574), (4380, 0.02010366037028144), (4381, 0.008979881435082201), (4382, 0.0026502308967869233), (4383, 0.0), (4384, 0.0), (4385, 0.028867255433939355), (4386, 0.0023637984711081116), (4387, 0.006926869583678512), (4388, 0.027413022107114625), (4389, 0.0), (4390, 0.0), (4391, 0.002769819416844643), (4392, 0.0), (4393, 0.0), (4394, 0.007049331683245819), (4395, 0.006911029668918395), (4396, 0.041332430194626124), (4397, 0.0030502799505420803), (4398, 0.003167026176898643), (4399, 0.058464369832984676), (4400, 0.0034938695210453338), (4401, 0.003062180143815839), (4402, 0.028978065703847776), (4403, 0.003493325007991677), (4404, 0.01937980509596947), (4405, 0.01795345776955103), (4406, 0.004615102915118541), (4407, 0.03528489490267191), (4408, 0.007830428428243922), (4409, 0.0027245595517064996), (4410, 0.02078917171634905), (4411, 0.007935419540660228), (4412, 0.0032105867611283505), (4413, 0.0), (4414, 0.003306746573651449), (4415, 0.0), (4416, 0.051813804028803145), (4417, 0.0), (4418, 0.02073100885206555), (4419, 0.002857259175027064), (4420, 0.05236439437401568), (4421, 0.0), (4422, 0.009572110703422176), (4423, 0.0035540286479763166), (4424, 0.0), (4425, 0.0), (4426, 0.017044983867962927), (4427, 0.010824971390361123), (4428, 0.0067455590475217365), (4429, 0.002379701241430595), (4430, 0.002869567625452936), (4431, 0.035454885555050754), (4432, 0.018741207410625065), (4433, 0.0), (4434, 0.0), (4435, 0.0027538484456011846), (4436, 0.02001421476325965), (4437, 0.013149399779356625), (4438, 0.018197963887439706), (4439, 0.0), (4440, 0.042415122727462666), (4441, 0.02291010598620254), (4442, 0.03161562602003074), (4443, 0.00335750752226783), (4444, 0.009305771484373917), (4445, 0.045866014202848186), (4446, 0.03280624475140132), (4447, 0.012803480523349035), (4448, 0.022366029769765455), (4449, 0.005119500382728551), (4450, 0.003867748399235856), (4451, 0.04533678331937034), (4452, 0.0), (4453, 0.024940964633781166), (4454, 0.005033708668382226), (4455, 0.0), (4456, 0.0), (4457, 0.0), (4458, 0.011047276717137216), (4459, 0.022053564783998426), (4460, 0.06028563127971548), (4461, 0.0026385100678418386), (4462, 0.004930703993856318), (4463, 0.007239353637110264), (4464, 0.0), (4465, 0.0031411310495135236), (4466, 0.0), (4467, 0.07426838601363256), (4468, 0.02337112463865846), (4469, 0.003424420023385864), (4470, 0.0028257084301634462), (4471, 0.0029064074640414847), (4472, 0.014693407491514342), (4473, 0.013238470726018067), (4474, 0.0028858133609432363), (4475, 0.002464636094538578), (4476, 0.0023452843832083505), (4477, 0.008299434421425384), (4478, 0.0), (4479, 0.021713194643507516), (4480, 0.026708336327065648), (4481, 0.017843673183440344), (4482, 0.018522990206414427), (4483, 0.007780093728814672), (4484, 0.028945118339139056), (4485, 0.0), (4486, 0.019238376507972228), (4487, 0.002700241127312603), (4488, 0.018800672382182974), (4489, 0.0029068458252731917), (4490, 0.012852015215844304), (4491, 0.0), (4492, 0.004687049406644626), (4493, 0.0), (4494, 0.02361851699119012), (4495, 0.039493608304093854), (4496, 0.0), (4497, 0.019822469403978478), (4498, 0.005344923092410259), (4499, 0.0), (4500, 0.0), (4501, 0.0027690327896463004), (4502, 0.0025032249038899118), (4503, 0.015329945161589816), (4504, 0.03820305140094675), (4505, 0.002901100544971678), (4506, 0.0), (4507, 0.003148085375703746), (4508, 0.0), (4509, 0.03385572724496571), (4510, 0.0), (4511, 0.02118661221054262), (4512, 0.0), (4513, 0.0), (4514, 0.007888797942869806), (4515, 0.013864552282601347), (4516, 0.003142844668918033), (4517, 0.002757351538756229), (4518, 0.019591264116937828), (4519, 0.0), (4520, 0.0027131890786645297), (4521, 0.0034209933922264026), (4522, 0.0029868256701849126), (4523, 0.006795683273070823), (4524, 0.022149001607391), (4525, 0.01985824012703866), (4526, 0.0), (4527, 0.0), (4528, 0.022704742779855732), (4529, 0.003674816855249413), (4530, 0.0026804570249594007), (4531, 0.02976543929298034), (4532, 0.0), (4533, 0.0028050311391268337), (4534, 0.01921301980764004), (4535, 0.0030676644299338827), (4536, 0.026972311373230008), (4537, 0.0), (4538, 0.0), (4539, 0.0), (4540, 0.002944959369969924), (4541, 0.03050413466090629), (4542, 0.008004696043529096), (4543, 0.0), (4544, 0.003419068581991225), (4545, 0.0029659446740846174), (4546, 0.003542734436695781), (4547, 0.0), (4548, 0.022607955183495666), (4549, 0.004840211637501558), (4550, 0.006886842334649118), (4551, 0.05554541408856347), (4552, 0.03932360938334858), (4553, 0.0), (4554, 0.0423287296579085), (4555, 0.01396031917201922), (4556, 0.0), (4557, 0.0), (4558, 0.0), (4559, 0.03550276696191273), (4560, 0.02375526119022916), (4561, 0.0), (4562, 0.0), (4563, 0.002810464043228387), (4564, 0.017871305953198753), (4565, 0.0), (4566, 0.009764478761679383), (4567, 0.021499588816402463), (4568, 0.008156419774527933), (4569, 0.00760021612650481), (4570, 0.02267524586240166), (4571, 0.004355150987906113), (4572, 0.0033637316824638662), (4573, 0.002656949301129919), (4574, 0.011603551621618096), (4575, 0.009800640140779943), (4576, 0.05801615324828679), (4577, 0.0), (4578, 0.0), (4579, 0.0029542111424925616), (4580, 0.0072778706423584786), (4581, 0.01914556628820252), (4582, 0.0), (4583, 0.0), (4584, 0.028716832025663917), (4585, 0.0), (4586, 0.0), (4587, 0.034260414213054736), (4588, 0.0), (4589, 0.0388039460458397), (4590, 0.013610993382270942), (4591, 0.0025490677513527373), (4592, 0.004349656665350265), (4593, 0.00304765365725635), (4594, 0.03290785125579368), (4595, 0.0), (4596, 0.03271761095861839), (4597, 0.0), (4598, 0.008502048554402324), (4599, 0.00748118116981664), (4600, 0.024500251694906584), (4601, 0.0029998981271648325), (4602, 0.00300707627648131), (4603, 0.041139547862393155), (4604, 0.02336804070681131), (4605, 0.041735008942663576), (4606, 0.02847888975241174), (4607, 0.03266558162095478), (4608, 0.0024321737484825617), (4609, 0.0), (4610, 0.03701448056590893), (4611, 0.003653217233600756), (4612, 0.008843735316792185), (4613, 0.00461889829094835), (4614, 0.0026179254753223545), (4615, 0.013747234986738872), (4616, 0.0025318016635709067), (4617, 0.0037485157448449717), (4618, 0.0), (4619, 0.0030239897068396263), (4620, 0.0025042045016487285), (4621, 0.0045593727095408045), (4622, 0.0), (4623, 0.019683113226502708), (4624, 0.09387117365928659), (4625, 0.009617643479491848), (4626, 0.002215892510254735), (4627, 0.00235176209339629), (4628, 0.006731697891231487), (4629, 0.007410764714243905), (4630, 0.0), (4631, 0.0), (4632, 0.010920270904090352), (4633, 0.003221011591662684), (4634, 0.006628761212601492), (4635, 0.043413360030776615), (4636, 0.002311291879643613), (4637, 0.0032522022830440197), (4638, 0.002500137390468413), (4639, 0.008471930941313554), (4640, 0.0027458418354701685), (4641, 0.021207725082149884), (4642, 0.0), (4643, 0.0028192460111486333), (4644, 0.0), (4645, 0.0), (4646, 0.0055630392848314255), (4647, 0.057534912384608165), (4648, 0.0), (4649, 0.01956236437276673), (4650, 0.025924350688997202), (4651, 0.0), (4652, 0.045365601489323296), (4653, 0.0), (4654, 0.03387501173456382), (4655, 0.014937687132570373), (4656, 0.0), (4657, 0.009962119357624316), (4658, 0.06451326141449616), (4659, 0.01344530012495471), (4660, 0.032150970033798444), (4661, 0.0024294620412272246), (4662, 0.04475352977062809), (4663, 0.02896647844416431), (4664, 0.0), (4665, 0.0), (4666, 0.0), (4667, 0.0), (4668, 0.0027005817734241547), (4669, 0.0029850688631445662), (4670, 0.002625394119424224), (4671, 0.0), (4672, 0.0), (4673, 0.002654566771936913), (4674, 0.040942337016370324), (4675, 0.018097674488288307), (4676, 0.0), (4677, 0.022736608221603137), (4678, 0.014423771321790568), (4679, 0.017199390765133413), (4680, 0.002930419601359641), (4681, 0.0), (4682, 0.022243695285748745), (4683, 0.019820973552627116), (4684, 0.008262228680919543), (4685, 0.02091321651718394), (4686, 0.02542397501304361), (4687, 0.006946212293234024), (4688, 0.04211536258621265), (4689, 0.0039813129383990675), (4690, 0.0), (4691, 0.0), (4692, 0.003421230781330748), (4693, 0.0026623089717065325), (4694, 0.003220329089963291), (4695, 0.019560776885439807), (4696, 0.003590637792097435), (4697, 0.0), (4698, 0.0), (4699, 0.05950854574747373), (4700, 0.0), (4701, 0.0032665506598645597), (4702, 0.0066227338115037275), (4703, 0.0), (4704, 0.0037442319846790473), (4705, 0.003918594966619196), (4706, 0.0030449703340610394), (4707, 0.0), (4708, 0.008034520715997456), (4709, 0.0), (4710, 0.0034644010983317726), (4711, 0.0), (4712, 0.008344248499041263), (4713, 0.010722704028419686), (4714, 0.025573749401461714), (4715, 0.0027478438898078184), (4716, 0.0), (4717, 0.0032362590772511603), (4718, 0.010388480204963075), (4719, 0.017939906382652544), (4720, 0.0), (4721, 0.0), (4722, 0.04005042422146676), (4723, 0.003351053867812226), (4724, 0.0033785678025163354), (4725, 0.009883495261420652), (4726, 0.011579290801512885), (4727, 0.0), (4728, 0.0), (4729, 0.0026326574637796055), (4730, 0.0), (4731, 0.0031031326988199184), (4732, 0.0077483163984194), (4733, 0.0022868664643542667), (4734, 0.002961930347181952), (4735, 0.003243243784934028), (4736, 0.019742407804969567), (4737, 0.021507995157122692), (4738, 0.020710043136935863), (4739, 0.05105077935725727), (4740, 0.0), (4741, 0.0074319755888500845), (4742, 0.0), (4743, 0.035718794951846974), (4744, 0.0022218192783323085), (4745, 0.012626580022339578), (4746, 0.0), (4747, 0.02273480235428513), (4748, 0.018448446485398458), (4749, 0.0036782151110431763), (4750, 0.0), (4751, 0.0), (4752, 0.022448234178350925), (4753, 0.0031252400716491294), (4754, 0.0), (4755, 0.004389638345505782), (4756, 0.04015663248861231), (4757, 0.01138057534713443), (4758, 0.0), (4759, 0.0)]\n"
          ]
        }
      ]
    },
    {
      "cell_type": "code",
      "source": [
        "len(Recommendation_Score)"
      ],
      "metadata": {
        "colab": {
          "base_uri": "https://localhost:8080/"
        },
        "id": "0UWNDeBsNsau",
        "outputId": "0294ee75-bacc-4699-c4c2-b8b87ea35c4e"
      },
      "execution_count": null,
      "outputs": [
        {
          "output_type": "execute_result",
          "data": {
            "text/plain": [
              "4760"
            ]
          },
          "metadata": {},
          "execution_count": 48
        }
      ]
    },
    {
      "cell_type": "markdown",
      "source": [
        "**Get All Movie Sort Based On Recommendation Score wrt Favourite Movie**"
      ],
      "metadata": {
        "id": "dLQhnIqkN5Fe"
      }
    },
    {
      "cell_type": "code",
      "source": [
        "# sorting the movies based on their similarity score\n",
        "Sorted_Similar_Movies = sorted(Recommendation_Score,key = lambda x:x[1],reverse = True)\n",
        "print(Sorted_Similar_Movies)\n"
      ],
      "metadata": {
        "colab": {
          "base_uri": "https://localhost:8080/"
        },
        "id": "IDST3_czOQ7S",
        "outputId": "3b1b4d24-6e36-4bc8-ecd9-81e741014862"
      },
      "execution_count": null,
      "outputs": [
        {
          "output_type": "stream",
          "name": "stdout",
          "text": [
            "[(1682, 1.0), (792, 0.1697618646894862), (356, 0.16005587407068353), (501, 0.13933017833364392), (1743, 0.13631487858075933), (1661, 0.13545282122768573), (407, 0.13333581420859694), (2159, 0.13210372592702738), (530, 0.131044385859893), (3071, 0.12189672876290773), (324, 0.1214360224943551), (1121, 0.11717090082063485), (66, 0.11590446142251193), (269, 0.11223531012617116), (1048, 0.11202265458849821), (2446, 0.11093089833489954), (345, 0.11068953148535107), (270, 0.10992232264914663), (1178, 0.10917525596050631), (1365, 0.10885260100452873), (822, 0.10700325660298751), (342, 0.10636142479504757), (330, 0.10603211523179042), (609, 0.10583733747470486), (3344, 0.10541099370611792), (1843, 0.10491386209215978), (3237, 0.10478948714328432), (108, 0.10391300516976895), (2712, 0.1038093051565721), (3589, 0.1032143117821468), (1903, 0.10184109578593524), (62, 0.10129686963637845), (2764, 0.100620926807828), (1934, 0.10018474275317586), (950, 0.09957046610115577), (3360, 0.09837682107017116), (1216, 0.09763192178963576), (3699, 0.09759922777068661), (3751, 0.09699501485885274), (228, 0.09698031466900484), (629, 0.09678326400823387), (2552, 0.09630850487620499), (1194, 0.09606802599957211), (2859, 0.09558894210406821), (96, 0.09550818905624783), (2308, 0.09522181763408019), (802, 0.09497315422541819), (700, 0.09475061213892488), (2070, 0.09470472998498504), (195, 0.09449880602527122), (649, 0.09414379932713732), (4624, 0.09387117365928659), (1247, 0.09348118741599726), (2114, 0.0933847202523379), (1924, 0.09329096554900781), (437, 0.09325859977215001), (1905, 0.09312218788566258), (446, 0.09273859055155298), (671, 0.09271577339957068), (51, 0.09194614588380617), (106, 0.09173987046549842), (2116, 0.09154904143555168), (48, 0.09121145322657147), (2572, 0.09059701136674543), (1039, 0.09046590332941244), (325, 0.09023288572715679), (71, 0.09011655843889667), (553, 0.08995095830107395), (461, 0.08941906348003745), (852, 0.08884951559147614), (3612, 0.08806911306262286), (749, 0.08767214308369378), (2204, 0.08716051524596699), (787, 0.08700389066147647), (1401, 0.08695952888275132), (1446, 0.08660335236738716), (1510, 0.08622383644707193), (3393, 0.08563110395030123), (43, 0.08561339140010785), (1273, 0.08544362221824045), (1403, 0.0853739145636306), (1678, 0.08506785813078303), (3351, 0.084999951915722), (867, 0.08492715207444443), (2301, 0.08446390539132578), (1057, 0.08444732807062788), (481, 0.0842682102478534), (0, 0.08394916115866304), (1757, 0.08377609163921916), (773, 0.08373767690468006), (2365, 0.08342436228586785), (3973, 0.08337178471360306), (2072, 0.08316701078026659), (706, 0.08290112575474376), (3666, 0.08264034040925919), (4059, 0.08262866226778479), (218, 0.08251362998655352), (214, 0.08225465060079039), (2668, 0.08192464519583664), (637, 0.08179229414911826), (162, 0.08177478694241974), (696, 0.08154211322266842), (3752, 0.08117594080384026), (1669, 0.08087169445283679), (1412, 0.0806440986701116), (3364, 0.08062860526565109), (2007, 0.0805593078358453), (730, 0.08044705964279203), (853, 0.08039010729855685), (1911, 0.07978047873016655), (952, 0.07960533964123219), (4274, 0.0795889791724924), (805, 0.07934662688343909), (3022, 0.07857347795702477), (3320, 0.07785957806984292), (1344, 0.07783447481641863), (1831, 0.07733699376574042), (3632, 0.07723400979427077), (1605, 0.07716621137703931), (2867, 0.0770494899755409), (25, 0.07698693673630995), (1394, 0.07688767926873939), (1106, 0.07685279753849995), (1474, 0.07635596818118447), (2053, 0.07633866700462125), (746, 0.07629488233915631), (889, 0.07629269938984386), (301, 0.07616314293248583), (2437, 0.07601979335705317), (1925, 0.07591020974848289), (741, 0.07572601036012888), (2899, 0.07544839123660396), (709, 0.0754465180206604), (2155, 0.07495353686103762), (1009, 0.07478290966077183), (2825, 0.07459395417364294), (4467, 0.07426838601363256), (2621, 0.07424992465276051), (82, 0.07419693078403014), (4333, 0.07402629476635922), (2809, 0.0740215727778902), (2074, 0.07394296498400899), (762, 0.07383552974116998), (2582, 0.07340503733767355), (328, 0.07322729315978947), (4156, 0.07309205654508401), (963, 0.07283145194804011), (708, 0.0724429442467257), (2483, 0.07187156296044458), (1314, 0.0715128059219738), (1359, 0.07139429589058063), (2944, 0.07129091224307754), (1654, 0.0710451835338671), (388, 0.07079170912194005), (1004, 0.07071336174562388), (1787, 0.07016113448498926), (1278, 0.07015197028970181), (2688, 0.0701089084541463), (212, 0.07009007776323677), (1788, 0.06981348402376444), (1467, 0.06978465256980625), (518, 0.06954434962735237), (910, 0.06933676232579726), (3281, 0.06926918915359173), (731, 0.06926639414094732), (2513, 0.06895908878200382), (2269, 0.06878333418436916), (1256, 0.06856026551822432), (2405, 0.06847454657616718), (1222, 0.06846156728467756), (1973, 0.06845409558325549), (2904, 0.06844227873499929), (1369, 0.06839253004156674), (1865, 0.0679158068434478), (881, 0.06754275326336145), (2430, 0.06733617490866153), (2047, 0.06728594860406473), (895, 0.06715026001198897), (806, 0.06694683233748265), (1238, 0.06658149675534733), (1862, 0.06643766158038239), (705, 0.06637018866929412), (1855, 0.06617854993979688), (216, 0.06602420694107126), (266, 0.06600223035080487), (555, 0.06556600950991995), (3027, 0.06553756469246269), (1948, 0.06530540218217604), (1075, 0.0650352025105606), (1023, 0.06481686186824175), (928, 0.06473992173519297), (2751, 0.06463060617073375), (3094, 0.06460568949614906), (1306, 0.06451603016970064), (4658, 0.06451326141449616), (1131, 0.06435049126495782), (3822, 0.06421925429336223), (353, 0.06419456843475226), (449, 0.0641892955442839), (821, 0.06417224467514338), (1871, 0.06387304650462593), (3284, 0.06371302048311742), (3705, 0.06364906806989615), (744, 0.06331793881082888), (279, 0.06326830044620643), (794, 0.0630055570568949), (3518, 0.06298622934477936), (309, 0.06260250454192055), (3217, 0.062406232062075837), (2406, 0.0619526170037026), (2844, 0.061926652457088616), (1046, 0.06189321431682107), (1849, 0.061640878771427994), (377, 0.06143937540887581), (2563, 0.061068578365221324), (1310, 0.06085082922843647), (3575, 0.06081140705056495), (1149, 0.06080407217386124), (3875, 0.06071153840463734), (524, 0.060594100709323945), (684, 0.06045360897119663), (4174, 0.06032551432914772), (4460, 0.06028563127971548), (2037, 0.0602148691895944), (3226, 0.0601547666296313), (2011, 0.060087500375816796), (2769, 0.059754451258383065), (4699, 0.05950854574747373), (1086, 0.059483856426287715), (2062, 0.05940376302728978), (3643, 0.05936521468961773), (2463, 0.059299305009968724), (1501, 0.05921006988961364), (185, 0.05919444794543956), (129, 0.059175837410981924), (32, 0.05907395244096255), (1539, 0.0590733476550018), (587, 0.05893437503848173), (824, 0.05893092174432574), (3089, 0.058858373362388305), (3270, 0.058839958851955296), (2660, 0.05878285547032373), (374, 0.05876412925512314), (691, 0.05866399789166646), (1267, 0.05863302755904272), (2068, 0.05858342248248098), (2923, 0.058469422898649884), (4399, 0.058464369832984676), (4155, 0.05838419746283068), (3329, 0.05837915886698179), (912, 0.05832371213450559), (1465, 0.058111155868099854), (719, 0.05810565064248605), (4576, 0.05801615324828679), (1450, 0.057992113713313316), (949, 0.057918007393780474), (4647, 0.057534912384608165), (2322, 0.05751989090345844), (2691, 0.05744052299016218), (1506, 0.0572997530412785), (1985, 0.057258328064592495), (3506, 0.057249135946181424), (3282, 0.057182057485729146), (2884, 0.05692654865067831), (2510, 0.0568857174322243), (2300, 0.056816272072249395), (697, 0.05677786871012439), (4189, 0.05677429204627188), (3420, 0.05669927850663749), (1095, 0.056654326034056235), (2321, 0.05656685505738693), (1157, 0.05641798755564907), (156, 0.056266682926894546), (2703, 0.05624265301986358), (403, 0.056155910278045965), (2580, 0.05614390115790473), (2494, 0.05612612967698448), (1966, 0.056063652537946575), (2211, 0.05601409430230752), (710, 0.05595527514671581), (1632, 0.05591656939789786), (2049, 0.05581162051141768), (2306, 0.055799226535610646), (1249, 0.05578217602039008), (2740, 0.05574399676828112), (2369, 0.055691502646666474), (226, 0.05560671548658623), (1658, 0.05559997635830592), (4551, 0.05554541408856347), (846, 0.05542392515252696), (1802, 0.05539866874625725), (19, 0.0552796037454851), (4135, 0.05515226150071515), (734, 0.05510886101107291), (227, 0.05510466381715531), (2915, 0.05505357457939851), (4351, 0.054950915629928515), (3290, 0.054940538537907764), (690, 0.0549397711826908), (251, 0.05493172850570367), (222, 0.05491423367635606), (1851, 0.05481514007487616), (838, 0.054697871477246696), (1714, 0.05469508061962724), (1808, 0.05463985118187062), (496, 0.054622605270698246), (3467, 0.054509455892565964), (1241, 0.054463344203653695), (327, 0.05440903461965082), (2996, 0.05435075614304859), (115, 0.05433270989360464), (1215, 0.054323534263841664), (1569, 0.05430207573043956), (1152, 0.05417577507695197), (1452, 0.05416773018033196), (1434, 0.0541603878749609), (3456, 0.054128985814910865), (2111, 0.05404697479940175), (1868, 0.05403587514903023), (161, 0.05399104951086266), (3496, 0.05396168985120903), (2698, 0.05394564362063489), (1418, 0.05388701738657053), (3901, 0.053843403360030156), (1676, 0.053803405391762066), (583, 0.053792763943353986), (643, 0.053784773310645025), (2131, 0.05372358013875604), (3508, 0.05368728629463092), (566, 0.05367642496904511), (1774, 0.05350652604423404), (1751, 0.053499705589925346), (83, 0.05346771947440684), (3563, 0.053463486875279534), (3829, 0.05328892571668738), (415, 0.053171869313637606), (1644, 0.05316332330100966), (479, 0.0530191545073873), (2239, 0.053017885173017074), (3558, 0.05300362256489406), (1118, 0.05297792696413453), (3253, 0.05294819109401133), (3050, 0.05290124273556887), (2662, 0.052682269744951264), (3109, 0.05264177526486616), (2060, 0.05254283005940143), (2112, 0.05249709187297176), (3823, 0.05247351818987761), (1374, 0.05246537689461833), (465, 0.05241458556877131), (4420, 0.05236439437401568), (358, 0.05232063316242071), (538, 0.05229638135844782), (4257, 0.052286269467739496), (664, 0.05205298160496191), (2378, 0.051994228847407606), (814, 0.05198218604393824), (1543, 0.05194845702190009), (3594, 0.05194184161249025), (2407, 0.051934529823726934), (2000, 0.051845362428041095), (264, 0.05182826969731734), (1033, 0.05181741268229767), (4416, 0.051813804028803145), (1701, 0.05173519843641852), (202, 0.05172183780619494), (3252, 0.051665252106170255), (317, 0.05164994884475733), (1129, 0.05145325462039406), (2198, 0.05144191890344775), (1586, 0.05142797983312811), (35, 0.05140689686231961), (3153, 0.05134602317197287), (2530, 0.05132356319986689), (1489, 0.05131463038059037), (3899, 0.05116884843606205), (2570, 0.051072898749778634), (4739, 0.05105077935725727), (648, 0.050983368749335914), (4217, 0.050961365296747066), (891, 0.050933077535364205), (1114, 0.05089177582632222), (482, 0.05082398145248848), (689, 0.05080324757629886), (3903, 0.05078816976416449), (3213, 0.05078556638657725), (830, 0.050760870505498615), (3678, 0.05073772256685077), (130, 0.050654655760458356), (999, 0.050548428273769035), (231, 0.050490659657705564), (2237, 0.05045357173051515), (957, 0.05045282692941827), (4314, 0.05044619198538854), (2035, 0.050424731831041056), (1173, 0.05040241063916387), (2122, 0.050326613660450895), (2329, 0.05030092299332897), (946, 0.05026520703064749), (2614, 0.050093483611696646), (75, 0.05007230034592921), (3924, 0.0500538267931374), (1608, 0.04995509392171568), (1334, 0.049945752711638695), (899, 0.04993464374355286), (4143, 0.049873758985695224), (3466, 0.049775592447623224), (572, 0.04973530113011531), (667, 0.04950105975473767), (4280, 0.04949933371912423), (39, 0.04939944722696189), (3921, 0.049384399665164835), (692, 0.04937397118441079), (934, 0.04937361285393375), (1544, 0.04919326392019367), (3998, 0.049171443428737846), (2209, 0.049099937532247936), (753, 0.04903295597476066), (642, 0.048952330192408494), (343, 0.04891095545449238), (2221, 0.04890846616909099), (3461, 0.048863336043256246), (104, 0.04877246005709218), (1060, 0.048692723477281485), (2820, 0.04828705016049357), (981, 0.04828229906105325), (1053, 0.048244185994522855), (4138, 0.04817813656818207), (1288, 0.04811193179202406), (1259, 0.048075019858495896), (880, 0.04807129908102217), (3384, 0.047947954773980686), (1210, 0.04789674932166438), (298, 0.047846537821291626), (1126, 0.04782009042777533), (3370, 0.047817698071259004), (717, 0.0477901910932403), (2520, 0.04765576701725728), (3222, 0.04762999667818497), (1387, 0.0476129992571392), (647, 0.04759869800201958), (1918, 0.047574445712169275), (2285, 0.047537243306121), (936, 0.04753589957984824), (2663, 0.04752722208663501), (3579, 0.04752236724083331), (1431, 0.04743747599742545), (1130, 0.04738029910724935), (1708, 0.04736915666928612), (433, 0.04736439899279257), (2118, 0.047320475073818695), (2777, 0.04726718288013224), (1257, 0.04725861876658453), (1382, 0.0471388143647319), (561, 0.04709364155341164), (1718, 0.046997571239547425), (3449, 0.046968371911832556), (273, 0.04696776132169553), (2055, 0.04680033643766629), (1494, 0.04679025294372002), (447, 0.046767844497511764), (3839, 0.04669516755786081), (307, 0.04663869956967609), (4052, 0.04661192606732492), (2978, 0.046597100245325096), (1690, 0.04656641654982213), (368, 0.046532171720990084), (3447, 0.04649112886973704), (2298, 0.04646144137260056), (1482, 0.04642463814904983), (3294, 0.04641717110281672), (3515, 0.046400686055085766), (3187, 0.046352338822435085), (1716, 0.04632484756888125), (3685, 0.046228885584621744), (3249, 0.04620542482658471), (60, 0.04617765921558821), (1845, 0.04616450403521149), (2805, 0.046163041792333034), (2107, 0.046128655294491144), (3264, 0.04607878476371332), (3695, 0.046040293087422454), (57, 0.046017415427478815), (2637, 0.045939832611087944), (3000, 0.04590303077662132), (4335, 0.045869877810641446), (52, 0.04586816806915284), (4445, 0.045866014202848186), (669, 0.04564632692303479), (178, 0.0455812611690208), (334, 0.04553279563319141), (1180, 0.04547432163578457), (421, 0.045392726154214455), (4652, 0.045365601489323296), (192, 0.045354556398027664), (4451, 0.04533678331937034), (1496, 0.04532631831832931), (3271, 0.04530967633580365), (259, 0.045187624938446976), (1144, 0.04517709881309269), (460, 0.04516571409734333), (3970, 0.04509717271041419), (766, 0.04505409472184328), (355, 0.044972100996466285), (3358, 0.044850538712548696), (405, 0.04479381944265447), (4662, 0.04475352977062809), (230, 0.04475020765064385), (3648, 0.04474845007215135), (3, 0.044713474918230384), (2036, 0.04470990378177406), (3066, 0.04467482812820694), (476, 0.04465310264082319), (711, 0.04456241914536894), (2632, 0.04435141750589129), (2807, 0.044099700366431294), (452, 0.04408880658023141), (1598, 0.04407231669994735), (815, 0.044071559565781904), (659, 0.04404768357899609), (3919, 0.044047315630275356), (2725, 0.04403093678624997), (1061, 0.04395184002296387), (1410, 0.04392977422901367), (774, 0.043874637178273), (590, 0.04384825525324478), (124, 0.0437914272992039), (263, 0.04377310111554316), (2931, 0.043763003689736735), (440, 0.043713647292943525), (4186, 0.04357761754164499), (775, 0.04351188991528698), (1090, 0.04349760492551431), (3195, 0.04347818512919335), (848, 0.043463922882692144), (2376, 0.04346196000406721), (155, 0.04346028260522743), (4635, 0.043413360030776615), (1475, 0.04339455458394874), (2212, 0.04337103641446684), (3968, 0.04334665777403664), (597, 0.04332238336334905), (2202, 0.043290518219836864), (3800, 0.04311626566796177), (4237, 0.04310346511666619), (962, 0.043067043994889476), (3201, 0.04299426432756529), (1818, 0.04295839011352988), (1649, 0.04288592174173614), (1294, 0.04287655355199567), (2935, 0.042865087424670566), (660, 0.042845731459096856), (984, 0.04284196885999121), (2409, 0.042813450011345074), (1492, 0.04280126683329985), (748, 0.04270628346334883), (2051, 0.042688544799593636), (2933, 0.04265898099762243), (4103, 0.04256631583759437), (2896, 0.042554803774576815), (3111, 0.042506925362473115), (2449, 0.04250066198486324), (1762, 0.042444296308397425), (4440, 0.042415122727462666), (3746, 0.04241457565871981), (3801, 0.04235444582545439), (412, 0.04233818160165903), (4554, 0.0423287296579085), (1341, 0.04230852950750996), (1561, 0.04228208392880039), (2646, 0.04221433260782146), (1816, 0.04216724952761556), (2511, 0.04215265983077802), (4688, 0.04211536258621265), (1870, 0.042066602819175646), (1260, 0.0419870867890073), (102, 0.04198548745897855), (3713, 0.04195004542879046), (3215, 0.041936683632099944), (150, 0.04188575180502395), (3098, 0.04181645633202551), (1563, 0.04174664702728394), (4605, 0.041735008942663576), (1585, 0.04167353426839628), (1721, 0.04167208701415019), (985, 0.04167075293050567), (3758, 0.04165729386682636), (3028, 0.04165168374455128), (1248, 0.041630730024401257), (1150, 0.04159646788948961), (3545, 0.04159398073500452), (3869, 0.04158772525117239), (1454, 0.04157132460258252), (2487, 0.04152076581267239), (1978, 0.0414641054409956), (3519, 0.041440203159079564), (4000, 0.04142827957222428), (596, 0.04139314220277448), (3124, 0.04137484923498787), (3401, 0.04136556737366804), (2857, 0.041349096237932564), (4396, 0.041332430194626124), (2817, 0.04130442003650106), (4033, 0.04129706050304102), (4340, 0.041241573717350585), (892, 0.04124139599653637), (4169, 0.04121092079627042), (458, 0.04114154227850448), (4603, 0.041139547862393155), (1638, 0.04111739534296519), (788, 0.041098497445358345), (740, 0.041040828559337494), (2263, 0.04103091478136203), (3692, 0.041027157590669855), (1250, 0.041020162720849254), (1237, 0.040990530100834005), (2908, 0.04098808633389714), (1109, 0.04098098402263479), (4674, 0.040942337016370324), (2798, 0.04090605355755812), (1254, 0.04085398424507092), (4210, 0.040822021188197666), (698, 0.04080600474211478), (1953, 0.040716846376710976), (1566, 0.0406854518847287), (455, 0.04067815011888901), (2294, 0.04066435862597194), (2005, 0.04065917295828608), (1087, 0.04064285071151753), (1487, 0.040633525574469996), (3661, 0.04061758605303099), (3278, 0.04059612615241983), (471, 0.04059028029936966), (1100, 0.0404849778719234), (4344, 0.04047569014348097), (1115, 0.040392448486917226), (253, 0.040390885647940106), (2398, 0.040381325067360474), (1656, 0.04037862471534827), (1107, 0.04037534226107489), (3633, 0.040354490029348516), (2813, 0.040342019379914384), (673, 0.04031478282951709), (3208, 0.04031105225089053), (763, 0.04029107412773933), (2022, 0.040267798069818075), (2097, 0.040201638457665986), (3894, 0.040191507160669854), (4756, 0.04015663248861231), (3283, 0.040112515366908075), (2635, 0.04007591073403304), (827, 0.04005975827672645), (2331, 0.040056833304223737), (4722, 0.04005042422146676), (132, 0.04003376522119903), (1451, 0.04000834886631742), (2103, 0.03997718338409373), (203, 0.03997644060489173), (3410, 0.03992118457281114), (507, 0.03987579889778844), (2901, 0.03986394597617304), (2078, 0.03984445852016687), (3560, 0.03979917315474629), (2236, 0.03977312601766947), (112, 0.03976713054212499), (3954, 0.039762640748321074), (1541, 0.03973748364283399), (3656, 0.039717875345099615), (1195, 0.03971639691849791), (911, 0.039712656499203726), (2188, 0.03969145067203076), (1155, 0.03965059964948779), (4071, 0.03964997715965358), (1291, 0.03963943518093156), (4176, 0.03963303622469928), (1345, 0.03960034819588705), (3781, 0.039583029453437946), (3256, 0.039577713005645), (4495, 0.039493608304093854), (2139, 0.039421406927591635), (2912, 0.039371926467013305), (280, 0.0393641841428527), (3362, 0.0393522596762046), (1177, 0.039344447967253886), (1385, 0.03932534962421908), (4552, 0.03932360938334858), (167, 0.039281102913301995), (119, 0.03922120577536028), (547, 0.03919990465406543), (1850, 0.039196024080852064), (1968, 0.03918427852083884), (887, 0.03916818304734776), (3395, 0.039127282965246334), (3487, 0.03909439871160193), (1700, 0.03907757720204806), (743, 0.039050756161305634), (1737, 0.03904822708474426), (2421, 0.03903850976573291), (3559, 0.038954139941701355), (1421, 0.0389405675984849), (4589, 0.0388039460458397), (1946, 0.03872754736748171), (1432, 0.038681561884047866), (4171, 0.03866516211780812), (1833, 0.03865787296197566), (494, 0.03860189674757584), (219, 0.03859998081215688), (2848, 0.03857239153135921), (86, 0.03856021885929811), (340, 0.03855413990773738), (2004, 0.03855088564134557), (448, 0.038529186273282334), (3244, 0.03851856809603712), (1693, 0.03851164621896279), (288, 0.03849833450217105), (3902, 0.038438545998927834), (3399, 0.03835699204647819), (2560, 0.03831116904584574), (2259, 0.03829965404594313), (1443, 0.0382989261456594), (2601, 0.03826671011102742), (1707, 0.0382435863536275), (2123, 0.03823866126317438), (4504, 0.03820305140094675), (836, 0.03817546295466258), (2313, 0.03814460399512964), (3151, 0.03807660656190068), (1111, 0.038051297347310636), (1717, 0.038047502285779106), (2583, 0.038041645293198374), (1941, 0.03800621064334574), (3367, 0.03798006517202028), (1447, 0.037968254837721475), (3541, 0.03788041100841624), (1354, 0.03787525919073073), (1852, 0.037783667954342404), (4218, 0.037774750980281206), (4281, 0.0377604238818131), (2726, 0.03772552670619953), (3564, 0.037683660318681284), (2730, 0.03764590303637311), (67, 0.03761775856629203), (3658, 0.03759252585223585), (1399, 0.03758802310913048), (2140, 0.03756690491258081), (145, 0.0375527407146784), (3437, 0.03750098126362693), (1065, 0.03748952300799609), (735, 0.037453977103173886), (2619, 0.03739058943792523), (1138, 0.03737070689126437), (372, 0.037355741112579714), (4374, 0.03732208105738262), (1915, 0.037309660095421526), (4001, 0.03729906006340611), (1794, 0.0372373236558784), (1974, 0.03721723727478206), (511, 0.037207700387789165), (2606, 0.037198421522334116), (2445, 0.037159545769904885), (4145, 0.03712028272126375), (174, 0.037112346485744935), (1910, 0.037063116302798925), (4055, 0.037061316152787696), (3142, 0.03701496290244631), (4610, 0.03701448056590893), (2826, 0.03700433891338471), (472, 0.03697948827139553), (1777, 0.036930507305951134), (2191, 0.0369188180752625), (1876, 0.03690346804288878), (2470, 0.03689967556262767), (551, 0.036867108579293276), (2824, 0.03685009989827744), (3983, 0.036823172361995934), (2553, 0.03679650703636989), (560, 0.03675108890994516), (2720, 0.03672987477008828), (2732, 0.03668191930066166), (2851, 0.036642069812848815), (3465, 0.03663121566344095), (1919, 0.03659061612550268), (63, 0.03644905292500274), (1026, 0.03641858611098041), (2174, 0.03637036198535222), (4369, 0.03635568709259178), (1986, 0.03632165961326718), (2868, 0.03629691716428106), (3905, 0.0362866985526909), (834, 0.03623772152853329), (3442, 0.036203210103539565), (1226, 0.03616734278923617), (1571, 0.0361381006975136), (2013, 0.03611866935888826), (2277, 0.036101448208653436), (428, 0.03609275095596201), (3182, 0.03608303948935031), (311, 0.03606656884061463), (261, 0.036032516208622384), (2746, 0.03601529054108028), (2747, 0.03599391039582029), (527, 0.0359798007842175), (1723, 0.03596855000059171), (3108, 0.035876197326765946), (44, 0.03587501873770221), (3338, 0.03579921934513933), (2092, 0.0357588383196738), (2981, 0.03575639820265388), (4743, 0.035718794951846974), (1662, 0.03571030684822679), (2680, 0.03569320358155547), (4003, 0.035654714305890435), (3220, 0.03560221092044972), (2244, 0.03559370523698533), (310, 0.035582005361423016), (4038, 0.0355604518786283), (908, 0.035548521669110475), (113, 0.03553665941551392), (2942, 0.03552654036408269), (4559, 0.03550276696191273), (109, 0.03550140705991908), (1021, 0.03546982599964307), (177, 0.035458873300288234), (4431, 0.035454885555050754), (3152, 0.03544275484889988), (2975, 0.03539010667262965), (396, 0.03537104066928322), (348, 0.035368782997888475), (3302, 0.035354785699254127), (1168, 0.035354400707061105), (757, 0.03532643070364252), (4407, 0.03528489490267191), (3299, 0.03527453289012597), (844, 0.035270582217492304), (3953, 0.035247040239207036), (1878, 0.03523900719795154), (225, 0.035237717528186954), (3978, 0.03523726625390839), (2094, 0.03523228043647088), (1557, 0.03519903278153929), (249, 0.03518447644325011), (118, 0.03509398310490975), (1045, 0.03507132042801734), (4032, 0.03503813746507068), (1002, 0.03492963625017606), (533, 0.034922176449803985), (3459, 0.034919956895840445), (1764, 0.03491770732341977), (3205, 0.03488493631646852), (1084, 0.03480995958093028), (2854, 0.03480481756282246), (1770, 0.03479931518240561), (3157, 0.034783811539334034), (1807, 0.03473661384441904), (1677, 0.034716057686361566), (2721, 0.034648523892929675), (1809, 0.03462718362482292), (282, 0.03458314053191684), (1611, 0.034564822813566126), (2, 0.0345416812534365), (1411, 0.03454115878422845), (3566, 0.03449852702807779), (3246, 0.03443497534900984), (4342, 0.03430874931140239), (2741, 0.03430871335247475), (3520, 0.034284268688411765), (715, 0.03426412869403721), (4587, 0.034260414213054736), (2027, 0.034242501773848265), (2622, 0.03419981482540238), (300, 0.03418594461220726), (2988, 0.03417079006554106), (3630, 0.034100186500091674), (971, 0.034063844131335716), (2642, 0.03402119520692673), (2850, 0.03399336215638722), (2287, 0.03395876276066025), (2474, 0.033930324058822986), (1920, 0.03392654554680807), (4654, 0.03387501173456382), (4509, 0.03385572724496571), (3415, 0.03378018385797246), (1108, 0.03375410228414977), (3144, 0.0337537519763931), (2664, 0.03368931914942967), (302, 0.03365363996090588), (2167, 0.033635064337987367), (1253, 0.03359160116440227), (4141, 0.03357584212188144), (410, 0.03352472969098365), (3821, 0.033522706276293286), (2654, 0.03339344762539113), (4025, 0.03339178349299517), (2812, 0.03337471878417345), (338, 0.03337115447976922), (236, 0.0333684766049758), (4242, 0.03336689221813987), (193, 0.03336448069938447), (3406, 0.033349701921296604), (1538, 0.03330558259315761), (3184, 0.0332407927783943), (2757, 0.03322825178325535), (2697, 0.03320892100941768), (1172, 0.03320665220202454), (4117, 0.03312376424509897), (271, 0.03311882877784973), (804, 0.03310574087910447), (825, 0.03310234825796047), (2759, 0.03308325947172991), (1908, 0.03304791173696676), (2145, 0.0329682175010491), (4070, 0.03296731936573774), (208, 0.032965314143979546), (1577, 0.03295647607420147), (3413, 0.03294518580343007), (3434, 0.03292499264044083), (4594, 0.03290785125579368), (2493, 0.03286920173885043), (4446, 0.03280624475140132), (215, 0.0327798981478797), (3056, 0.03277901786900531), (732, 0.03275555051355254), (4596, 0.03271761095861839), (29, 0.032706646281204094), (3731, 0.032675249626901874), (4607, 0.03266558162095478), (3033, 0.032654517710836876), (2443, 0.032637747207247006), (191, 0.03263500730975896), (562, 0.03261962891665805), (1759, 0.03259311769956543), (810, 0.032510723359708074), (1439, 0.03250940067126846), (2920, 0.032507631087832826), (1239, 0.03246051329102398), (294, 0.032460083880118694), (694, 0.03243832799062771), (91, 0.03243751770663722), (851, 0.03236365088946114), (2196, 0.03235048876359121), (2317, 0.03234255456098611), (2517, 0.03227542244344212), (3936, 0.03224721508628501), (898, 0.032242483724266476), (1124, 0.03219166539720912), (297, 0.03217438687149417), (2402, 0.03217231305477786), (2665, 0.032164674925476595), (4061, 0.03216347309993187), (4660, 0.032150970033798444), (4243, 0.032139512336251494), (829, 0.032110436322414476), (1881, 0.03204713743093585), (1909, 0.03204393579495229), (4249, 0.03203595980197082), (3857, 0.03197647688615936), (565, 0.031945378008456836), (1524, 0.031934427829166605), (3117, 0.03192792179167621), (847, 0.03190598254840727), (3096, 0.03189584475975195), (1652, 0.031837209913131055), (3183, 0.031775203350661835), (2020, 0.031758393439210095), (3892, 0.03175351255729907), (1082, 0.031700138130072227), (4035, 0.031677482683768896), (4442, 0.03161562602003074), (2739, 0.03159405253034991), (1493, 0.03158176176140591), (190, 0.03152597021473686), (4286, 0.03151303947811729), (4051, 0.03149658788837436), (2056, 0.03148498085331042), (2755, 0.031473337872521), (184, 0.03146245525530743), (1886, 0.03146102218477407), (217, 0.03146002604337122), (2841, 0.03145349587239786), (1675, 0.03143061598914419), (27, 0.031423914534186984), (153, 0.03138199682161007), (737, 0.03138181998273004), (542, 0.03134849958842448), (2368, 0.03131809337337904), (628, 0.031304170393695964), (3771, 0.03130163149915193), (3655, 0.03125998690980919), (1327, 0.03125553387734044), (2776, 0.03125219681017925), (464, 0.031192134841084553), (4272, 0.03118642000844321), (1957, 0.031186111621449485), (2983, 0.031158070829945157), (546, 0.031142318850487093), (3063, 0.03109466875385536), (1988, 0.031042768172562765), (1010, 0.030990001341993006), (1162, 0.030978504244992666), (3013, 0.03094181629944992), (843, 0.03089856632702888), (845, 0.03089235304926859), (508, 0.030882558022107202), (1679, 0.030859119486884516), (2753, 0.030849446572213488), (4057, 0.030842475639584043), (3091, 0.03080865640461257), (2604, 0.030806847926288992), (1472, 0.03080262349609343), (2858, 0.030771352040814902), (1567, 0.030755338802844343), (1804, 0.03073259443265576), (3651, 0.03072492758876144), (2075, 0.03062847557281616), (2550, 0.030593823373687715), (3070, 0.030552277114556756), (3882, 0.030539401375397936), (2180, 0.030521658629456955), (314, 0.0305168619737698), (4541, 0.03050413466090629), (1459, 0.030450111867250565), (3960, 0.03044906455285735), (2110, 0.030430548808908178), (2441, 0.030356501491458424), (3303, 0.030344582737689994), (2921, 0.030284666781420916), (3779, 0.030283117164580004), (510, 0.030263630818197246), (1018, 0.03025861426614433), (531, 0.030247788927439852), (329, 0.030204043376152123), (4336, 0.030185596690526055), (2334, 0.030170762262183792), (2603, 0.030168221025644593), (168, 0.03011290681621983), (3010, 0.03010695064199541), (4357, 0.030093801762825705), (3121, 0.030084592506895432), (4079, 0.03008050855315383), (816, 0.03006852437905591), (3966, 0.030043958506322806), (2327, 0.03003451753807303), (1584, 0.0299945535876066), (1866, 0.029950062051626043), (2766, 0.029948704791216925), (620, 0.029904742069606253), (1798, 0.02986940980745315), (240, 0.029817319091769608), (4137, 0.029783775552979008), (1706, 0.02977695047763945), (4531, 0.02976543929298034), (2459, 0.02973096311142448), (2575, 0.02969100836298929), (3843, 0.029689532110341574), (1500, 0.029668943650343595), (369, 0.029668464778752467), (3218, 0.029662564170219275), (1619, 0.029651002216274036), (3139, 0.029600017215238774), (3326, 0.029585614507540943), (469, 0.029578646505875793), (3733, 0.02957280977062162), (3765, 0.029565016140447313), (2481, 0.02956224263102721), (1471, 0.029560122462444934), (3667, 0.029557564696186124), (2667, 0.0295497742862139), (207, 0.029546554662573034), (1951, 0.029519955918846423), (2835, 0.029496578184139453), (3509, 0.029456692748369755), (2969, 0.029442352230812884), (723, 0.029438813423266878), (1982, 0.02936376315460848), (4015, 0.029353977139608203), (1950, 0.029339844624114163), (3860, 0.029264751774880034), (3693, 0.02922693097662088), (2633, 0.029210011566719936), (607, 0.029195063763682097), (3331, 0.029190583193320317), (4109, 0.029148082197336056), (1994, 0.029146806930038544), (4303, 0.02913063494369754), (1947, 0.02911278611175504), (4163, 0.029075580058172044), (1329, 0.02905751383770467), (3599, 0.029051041219635976), (4328, 0.029019702263929234), (4402, 0.028978065703847776), (4663, 0.02896647844416431), (4484, 0.028945118339139056), (687, 0.028900236538223455), (4312, 0.02889270819987956), (3529, 0.028873789000664497), (4385, 0.028867255433939355), (1895, 0.028849804975057382), (588, 0.028823641138500798), (4584, 0.028716832025663917), (3495, 0.028701268120240035), (3787, 0.028638118496540212), (995, 0.028632876833847805), (2420, 0.028552942266293214), (2687, 0.028548340986158983), (1778, 0.02853882443924568), (1655, 0.028537462235716668), (3868, 0.02853138432973456), (2360, 0.028525710449492404), (2223, 0.028514439776844005), (1730, 0.028490995025053444), (2808, 0.028485889957046484), (4606, 0.02847888975241174), (1610, 0.028476493741597282), (1867, 0.028458264103259023), (656, 0.02843436211846864), (1077, 0.028424738224911004), (3039, 0.02838331418399029), (1627, 0.028372703150663724), (2265, 0.028370124020714038), (2220, 0.028365507734424342), (3724, 0.028311697429544876), (1503, 0.028307572009012613), (545, 0.028298820297928604), (906, 0.02827629261174034), (2652, 0.028240104963919842), (2806, 0.028230566573387194), (968, 0.02820432265274121), (871, 0.02818251157257815), (287, 0.02817558349283371), (2878, 0.02816161365544791), (2985, 0.028160385058317562), (4152, 0.028157678085985856), (3175, 0.028157004616290573), (2845, 0.0281568465380781), (2894, 0.02814734719287632), (1695, 0.02812935667596205), (1245, 0.028127406843817447), (3993, 0.02811894054622247), (2143, 0.028107015147388264), (800, 0.02808925140241073), (2193, 0.0280764861946649), (1012, 0.028044717290643267), (897, 0.028034988491950286), (3940, 0.027992364233809963), (2291, 0.027992154210866087), (2257, 0.027950802478032593), (2706, 0.02794835832037756), (876, 0.027880666077243155), (3939, 0.027845389153561193), (3438, 0.027808715735574335), (1417, 0.02779643351587244), (506, 0.027759506671715943), (4282, 0.027746730444401943), (2160, 0.02770811322858959), (1085, 0.027693582713708975), (435, 0.027675734844470355), (2862, 0.027616470332555404), (3524, 0.027602241113580596), (252, 0.027579495693784113), (1148, 0.027579063561137956), (4110, 0.027530821429185802), (1803, 0.027513134088368425), (1771, 0.027500672315062032), (373, 0.027500230307210542), (1746, 0.027481357129020993), (169, 0.02744942110094871), (808, 0.02744867363832139), (137, 0.02744481715216575), (4356, 0.027442883176471103), (74, 0.02741763591180748), (4388, 0.027413022107114625), (344, 0.02739673999658306), (3316, 0.02739535858259467), (3014, 0.027393050648113586), (2903, 0.02739258837237113), (4147, 0.027390844612975848), (3012, 0.02738572469854184), (3531, 0.02735938334807475), (699, 0.027349062862523515), (3371, 0.02734819556339331), (2095, 0.027340893753969333), (1509, 0.027307146547563395), (1293, 0.027292429787038247), (1398, 0.02729121004680105), (3229, 0.027289983582990958), (277, 0.02726727058823555), (3811, 0.027243812820472113), (4182, 0.027242131348858344), (1408, 0.027205568812332874), (1420, 0.027175892511824007), (1425, 0.02711791523415321), (1574, 0.027103676652322464), (2962, 0.027102411253248186), (1165, 0.027096420459309028), (926, 0.02707098740031931), (2353, 0.02705379365401647), (1231, 0.027046482803818675), (1960, 0.02704474256580538), (2190, 0.027032282688548518), (131, 0.027007260444276482), (2201, 0.026993141255134776), (2234, 0.02698759380959536), (12, 0.02698526727505787), (4536, 0.026972311373230008), (1308, 0.026971289834379367), (1376, 0.026962547697328455), (515, 0.026956763232696506), (1461, 0.026955260179913444), (1029, 0.026951495753110462), (2299, 0.02695005159492303), (2447, 0.02692498263451538), (3345, 0.026897102497191377), (1192, 0.026889442071955538), (1824, 0.02688173112979103), (2350, 0.026865066993945703), (872, 0.026847968627018704), (3817, 0.02682863133909999), (4205, 0.026820773767142765), (1944, 0.026807753776458172), (3665, 0.02679446894677521), (2399, 0.026785144160682374), (2100, 0.026780884480561647), (1457, 0.026756244026502445), (3826, 0.026748703112327896), (2014, 0.026747009057199653), (4480, 0.026708336327065648), (3926, 0.02669982468759164), (121, 0.026669260207276727), (657, 0.02666524925560031), (1758, 0.026635766303811318), (2953, 0.02654502049616658), (3622, 0.02653393589252983), (2052, 0.026481030170811198), (2995, 0.026474290166069524), (4007, 0.026391740109912926), (798, 0.026344100090328983), (1379, 0.026340833222883532), (1001, 0.02631031958581232), (3454, 0.026305878489583927), (726, 0.026289582289495288), (966, 0.02627019630251301), (122, 0.02623593499541753), (3412, 0.026194586886655203), (1366, 0.026174790942918), (1688, 0.026170439472896698), (4111, 0.026148972772590644), (3776, 0.026140050003893925), (237, 0.02613450518278502), (3407, 0.026120461182852685), (3458, 0.026119005622318375), (3754, 0.026087952584789943), (987, 0.026085638382016847), (2242, 0.026070927118333902), (2568, 0.0260523279441374), (1413, 0.02604644366526048), (299, 0.026044628475581984), (4076, 0.025982102282410546), (2816, 0.02595295634181741), (2098, 0.025949027555182948), (4247, 0.025935450985407893), (4173, 0.025929486322513157), (4650, 0.025924350688997202), (1549, 0.025919527076503794), (610, 0.025899155464361896), (144, 0.02588794195602219), (182, 0.025869219502014054), (3228, 0.02585082024544367), (1977, 0.025835515363318722), (4062, 0.025800398878276676), (1351, 0.025778149834615606), (786, 0.025760563181036138), (38, 0.025746471311807736), (3400, 0.025697006840886764), (907, 0.025692559131697795), (3629, 0.025683559172420368), (2197, 0.025657660367821886), (652, 0.02565144803227061), (1338, 0.025643817304441235), (2965, 0.02562493784693972), (165, 0.02561665618675231), (239, 0.0255814894761717), (4714, 0.025573749401461714), (1317, 0.025567963811392917), (2794, 0.02555881736179728), (1875, 0.02555018190192182), (1042, 0.025549596017540106), (101, 0.02554495932927109), (605, 0.025532759643899082), (2364, 0.0255311859685504), (1616, 0.0255000474292043), (1928, 0.02547005261557147), (1897, 0.025436601257083042), (1859, 0.025430937489416244), (4686, 0.02542397501304361), (34, 0.025417392293957987), (1404, 0.025388325374306103), (2181, 0.025354959324116733), (1336, 0.025323473429905603), (2326, 0.025295371393647563), (2525, 0.025291031656901188), (1037, 0.02525856306143759), (2671, 0.02524623034036009), (2175, 0.025197340113123662), (475, 0.025183873821134184), (1220, 0.025112439150073763), (1799, 0.025107137997578563), (3181, 0.025105440813026226), (393, 0.025068625235730946), (4185, 0.02504936239010054), (702, 0.025043418750733598), (3385, 0.025035614935141625), (635, 0.02502769373950891), (37, 0.02501492648697477), (4162, 0.024959954978797837), (4453, 0.024940964633781166), (4329, 0.024884122867652247), (4002, 0.024871817558834972), (3951, 0.024855059852035184), (1763, 0.024848762779565402), (4118, 0.024844635792599407), (3854, 0.024837224411711097), (783, 0.024834671027980797), (1869, 0.024833969188658347), (1580, 0.02482261859225366), (1685, 0.024821273443969546), (3608, 0.02481924609844683), (1312, 0.024808705078613866), (3596, 0.02477592886677056), (333, 0.0247727522415136), (2948, 0.02470235735628903), (1564, 0.02470047575789286), (4203, 0.024691441244510524), (341, 0.02468283534865452), (1590, 0.024681118469242203), (9, 0.02466849729017782), (3670, 0.024635261532071226), (2491, 0.024617800914358758), (1380, 0.02460675120629551), (3644, 0.02456007089459183), (3298, 0.024537047819083467), (4122, 0.024533599548643675), (2917, 0.02452425903015175), (2226, 0.024522348254044122), (4115, 0.024511290103397376), (4600, 0.024500251694906584), (1812, 0.02448813926061684), (618, 0.02448688260884599), (1748, 0.024477500710968336), (2507, 0.024436530688853552), (3375, 0.024422715973948617), (945, 0.02442058189403049), (582, 0.02440919239997848), (3641, 0.02440515388539158), (220, 0.024357273915942647), (2346, 0.024345062811531343), (3196, 0.024344145769148846), (3427, 0.024326458239542624), (807, 0.024315788528199468), (2744, 0.024314017688909256), (3311, 0.024295651102372796), (2588, 0.024272187680843535), (924, 0.02423547214565192), (1629, 0.024216742713308835), (430, 0.024212221941287502), (2315, 0.02420657000463729), (2638, 0.02420271798078389), (4262, 0.02418645150436922), (4074, 0.024170661870467763), (2782, 0.024166417232870767), (1000, 0.024157496990538613), (1860, 0.024126829591915935), (931, 0.02410096296276112), (523, 0.024097503429556036), (3077, 0.024072666496808327), (1409, 0.024065894371894138), (4078, 0.024062951424668043), (2048, 0.024059005601719977), (2104, 0.024024187007707136), (1022, 0.024007306690709353), (1396, 0.02397321746414403), (1228, 0.023970708935663523), (2264, 0.023965485566886588), (683, 0.0239516959089155), (406, 0.023935671083160144), (3907, 0.023902752321169465), (1214, 0.023881666610825594), (1392, 0.023879774377885535), (357, 0.023868707707729423), (1942, 0.023868301294325996), (4054, 0.023852811262542413), (4241, 0.023852147103112138), (2436, 0.023807869263911284), (1650, 0.023798279248858092), (1502, 0.02379108485011824), (1330, 0.02379023090339974), (1255, 0.023786693194197156), (1280, 0.02378622886634623), (1704, 0.023783820146758654), (384, 0.023779548590819762), (2929, 0.023774757707075975), (243, 0.02376872511995143), (3238, 0.023756957536009742), (4560, 0.02375526119022916), (3247, 0.02375221372086763), (3607, 0.023735965238636487), (2592, 0.023704279565525628), (1453, 0.02369208609409893), (1477, 0.02367194890695898), (2144, 0.023664099979804516), (2541, 0.02363426902829366), (3265, 0.023623993745766632), (4494, 0.02361851699119012), (1116, 0.023617940673646493), (3716, 0.02361645217312737), (1558, 0.023612523273921042), (3097, 0.023610317138357262), (1722, 0.02360478478512063), (3163, 0.023603434652224014), (254, 0.023600233770149158), (2647, 0.02354065969979719), (2015, 0.023524796034592236), (3709, 0.023506851911597675), (3637, 0.023488141337639473), (152, 0.0234211322281079), (3224, 0.023420296308620275), (3537, 0.02341693015947078), (3327, 0.023397748221140144), (2992, 0.02338722130208847), (790, 0.023375566189412694), (4468, 0.02337112463865846), (4604, 0.02336804070681131), (1612, 0.023361480125070482), (1076, 0.02336105075576011), (785, 0.023358514615603634), (3082, 0.02335781460165226), (371, 0.023346250050452273), (3737, 0.023344963659824403), (56, 0.023339664309709386), (319, 0.02333624162070302), (296, 0.023335539498112973), (2750, 0.023304059858530183), (516, 0.023284012457634833), (194, 0.02328120586171715), (1043, 0.023278032481426063), (1368, 0.023269627302508204), (1932, 0.023268977574279148), (1522, 0.023264919258186606), (3240, 0.0232329000237498), (223, 0.023224049887014916), (4060, 0.023223632375778545), (463, 0.02320133864929834), (3067, 0.02317615284938076), (1438, 0.02314937543438901), (2829, 0.023106599780136298), (4289, 0.02308103595825186), (2158, 0.023032749293748492), (1754, 0.02303067411819096), (135, 0.023019098639085148), (284, 0.0230004755248297), (498, 0.022992437852329475), (395, 0.022972726462029774), (3113, 0.022943968488166506), (4441, 0.02291010598620254), (809, 0.022887549937654343), (2524, 0.02288049687563914), (3626, 0.022877096807573858), (3305, 0.022851798608134407), (84, 0.022844902538648883), (2959, 0.02282901841155814), (3334, 0.022816331960005227), (2218, 0.022792379312074236), (1348, 0.022785410229844746), (1935, 0.02276755633472649), (2964, 0.02276261667766848), (4677, 0.022736608221603137), (4747, 0.02273480235428513), (3668, 0.022733499312706754), (2724, 0.022729894853893394), (502, 0.02272759438445185), (76, 0.02272475320148259), (4292, 0.022723118352467132), (1896, 0.022719821632880485), (4528, 0.022704742779855732), (2311, 0.022687033408891274), (4570, 0.02267524586240166), (2101, 0.02267358145015609), (1553, 0.022650508271854775), (2026, 0.022642526420859063), (2531, 0.022638528412557868), (3972, 0.022626149933635528), (1507, 0.02262183042975272), (4548, 0.022607955183495666), (2418, 0.022579345596637254), (733, 0.022569843041189596), (85, 0.02256900819538138), (172, 0.02256654798644342), (4372, 0.022553921832356685), (1838, 0.022543084091504087), (751, 0.022530593383758426), (1020, 0.022507474648339618), (451, 0.02250573515666886), (2682, 0.022501476309174297), (1136, 0.022499737819552085), (4752, 0.022448234178350925), (1279, 0.022443529750397248), (1388, 0.022434983929456663), (64, 0.022422711782066396), (1646, 0.022408985844245197), (4268, 0.02240436698431713), (549, 0.022376417991350206), (4448, 0.022366029769765455), (2064, 0.022344319321755506), (2949, 0.022338385139039678), (2156, 0.022334787503627235), (1768, 0.022333563375940346), (839, 0.022318863434127496), (3024, 0.022315113308086575), (1455, 0.02231057563538468), (2546, 0.02229493872548535), (2640, 0.02228788381022523), (2342, 0.02225702247652612), (1006, 0.022254526876693333), (4682, 0.022243695285748745), (3598, 0.022203736708329817), (4188, 0.022194692791769072), (915, 0.022164814145911364), (197, 0.022151376889474703), (4524, 0.022149001607391), (3340, 0.022142849429366906), (874, 0.022132502613250005), (3536, 0.022102163829756796), (1132, 0.022088851724070692), (1698, 0.022068473026577367), (2852, 0.022060420428207675), (1390, 0.02205705891104789), (574, 0.022056759207955707), (4459, 0.022053564783998426), (3440, 0.022039505544719985), (3689, 0.02203303565993082), (3233, 0.022032440439071675), (1913, 0.022000511041453757), (639, 0.021996103218344023), (322, 0.021953013457162687), (634, 0.021943718515032015), (4304, 0.02192292365028431), (352, 0.02192002813272128), (1282, 0.021917966950565634), (631, 0.021901864238478147), (3409, 0.021896011769689586), (337, 0.021889604631540573), (3747, 0.021883582192701107), (633, 0.02188344265205193), (975, 0.02188273559542503), (1967, 0.021853457537002147), (2727, 0.02184943758691361), (921, 0.02183404400859257), (491, 0.02183313633108596), (4081, 0.02182981551940201), (2977, 0.02181063368098792), (362, 0.021810594440552774), (944, 0.021778171955320395), (1466, 0.02176608515596756), (4068, 0.02175761923042417), (2262, 0.021727796254785915), (953, 0.021719632961944048), (87, 0.021715705127456433), (4479, 0.021713194643507516), (3748, 0.02170201144205254), (141, 0.021697983071654915), (2154, 0.021696110539243446), (850, 0.021685593507158776), (242, 0.02167504944093257), (2514, 0.0216677038870933), (7, 0.021653488393170016), (2045, 0.02164816726145691), (781, 0.02164805399979577), (15, 0.021638913644487306), (321, 0.021638553500070712), (3193, 0.021637781549306505), (3802, 0.021630736021920085), (70, 0.021606533765422424), (3231, 0.02159710925434171), (3386, 0.02158352325099307), (1232, 0.021577006328814295), (1307, 0.021572691400730926), (3503, 0.021570700030924483), (1445, 0.02155949144074435), (3767, 0.021550610104801183), (3570, 0.021549988149300026), (1071, 0.021549514482832273), (3477, 0.02153974465391904), (3659, 0.0215300803863583), (864, 0.021524367543385457), (4737, 0.021507995157122692), (4567, 0.021499588816402463), (209, 0.021494365150821336), (1395, 0.02149271619087981), (3424, 0.021486842691408353), (2012, 0.021477510106500848), (2109, 0.021472405084404005), (1198, 0.021465914723765155), (2540, 0.021439683138588385), (445, 0.021431356167204742), (14, 0.021350154473850518), (1110, 0.021339200339460705), (2486, 0.021322760481187968), (3602, 0.021322659937799127), (4285, 0.021318124159691223), (1823, 0.02131616599360532), (3306, 0.021308290934841087), (1882, 0.021270826582797473), (332, 0.021261172748950202), (568, 0.02126114277544228), (79, 0.02123498106764228), (3943, 0.021233692808267368), (2594, 0.02122503660766599), (1066, 0.021218910000390275), (2876, 0.0212147745965719), (2488, 0.02121475255150813), (441, 0.021208295851965674), (4641, 0.021207725082149884), (2170, 0.021191414314567246), (4511, 0.02118661221054262), (3888, 0.021185905347244197), (247, 0.02117095228678074), (346, 0.021166458974076343), (3782, 0.021159946335793312), (3411, 0.021159577427228033), (4043, 0.021143010611605343), (2574, 0.021138992209505176), (548, 0.021126575294470498), (3317, 0.021114948030681476), (2270, 0.021104877946562756), (2383, 0.021091381975087715), (2873, 0.021080748263944526), (2339, 0.021080679463698536), (4346, 0.021075536226306254), (2607, 0.021028459049025564), (1302, 0.021014484497201835), (3452, 0.02097633217222732), (4362, 0.020965483927539646), (4216, 0.020957074561116326), (1463, 0.02094372724940835), (2672, 0.02093253260369739), (3469, 0.020914498521004722), (4685, 0.02091321651718394), (2320, 0.020912729094312757), (2335, 0.020902516317081673), (1783, 0.020896552830133752), (3046, 0.020892350913721228), (3582, 0.02089088393614248), (758, 0.020880169524606793), (1559, 0.020872824285584957), (1626, 0.020871387532573303), (2205, 0.020867987424641157), (2387, 0.020861283097673038), (870, 0.020828905239456273), (3120, 0.02082662358176461), (747, 0.020821587181539453), (3759, 0.020798284110167396), (4410, 0.02078917171634905), (1813, 0.02078761128657625), (3650, 0.02077360755588086), (1285, 0.02076161543987591), (4378, 0.02075412506350116), (100, 0.02074615126112382), (1393, 0.02074236292682968), (4418, 0.02073100885206555), (143, 0.02072279789271521), (4738, 0.020710043136935863), (3825, 0.02069735917083118), (2801, 0.020688695030214182), (2058, 0.02068683938062299), (2268, 0.020683631504735962), (2347, 0.02067915259143939), (3397, 0.020676033084185974), (292, 0.020666949532612562), (402, 0.02064873127931603), (3895, 0.020637684363548528), (3473, 0.02063296041218449), (1199, 0.02062028059330745), (2892, 0.020619709028220926), (3162, 0.020599125304151557), (3700, 0.020598230041183087), (1117, 0.020569383157644762), (3646, 0.020539848091079668), (738, 0.02052829060910582), (1089, 0.02052754773866681), (4106, 0.020523385316444695), (875, 0.020492367192574634), (3343, 0.02048098678796154), (4077, 0.020451231766103237), (1486, 0.020440581715967063), (782, 0.02044043671829954), (771, 0.02043613786239376), (2135, 0.020435181446598043), (3504, 0.020402960837601132), (2203, 0.020399769118437), (2589, 0.02039724638744784), (285, 0.020373404675383077), (728, 0.020362594819286407), (3674, 0.020358297847780815), (2991, 0.020357636352829514), (505, 0.020340829262524018), (1583, 0.020334448387828906), (1301, 0.02030578730599093), (2235, 0.020298958942974663), (4226, 0.020291208299140995), (1094, 0.02027679205792763), (3784, 0.020275387910664487), (3288, 0.02027243143477503), (3293, 0.0202706351484961), (991, 0.020265572801132132), (813, 0.02020431039883002), (387, 0.0201983013058951), (1686, 0.020195946530188486), (4338, 0.020179877444926695), (1371, 0.02017926526517174), (1710, 0.020177943180642317), (1856, 0.020172816281902563), (1594, 0.020141010786022415), (3492, 0.020123118110571478), (622, 0.02011844914049297), (4380, 0.02010366037028144), (154, 0.020098416679255868), (2303, 0.020090083420970514), (159, 0.020086379094778326), (1277, 0.020084837295926358), (3192, 0.020068522494010334), (1511, 0.020062314010352418), (1792, 0.02004065420144819), (1789, 0.020024836176012934), (742, 0.020023265909178866), (3041, 0.020022216620144532), (4436, 0.02001421476325965), (1599, 0.02000095466303882), (232, 0.019983770050187585), (1793, 0.019965067079129886), (1189, 0.01994013481965334), (2187, 0.019922896607495588), (1206, 0.019912851023272553), (1137, 0.01989763696836112), (4343, 0.01989739099547849), (88, 0.019892017341553974), (1797, 0.019866389814078587), (4525, 0.01985824012703866), (3984, 0.019854883256879542), (2417, 0.01983216051842897), (4497, 0.019822469403978478), (4683, 0.019820973552627116), (92, 0.019796667721357564), (3457, 0.019787463147557846), (1419, 0.01977798449333521), (586, 0.01975938631331912), (4736, 0.019742407804969567), (1133, 0.01971196620344218), (2082, 0.019707458722057185), (3418, 0.019701798096619632), (381, 0.019698178681037366), (3422, 0.019693747951232295), (3460, 0.0196892991429842), (4623, 0.019683113226502708), (4365, 0.0196751699009883), (823, 0.019656568706047508), (1191, 0.019640625556401396), (3129, 0.019622042893608027), (1005, 0.019616646821358975), (4518, 0.019591264116937828), (3389, 0.01959106582466231), (1304, 0.01956997053870186), (4649, 0.01956236437276673), (1295, 0.01956080151008127), (4695, 0.019560776885439807), (1142, 0.019560200465435697), (2584, 0.019534634679790254), (600, 0.01953024842064418), (2403, 0.019522261007715355), (3591, 0.019486783912813332), (4134, 0.019483856890111378), (3556, 0.0194112766981826), (2412, 0.01940855563311504), (1937, 0.019403962034098304), (1921, 0.019401933622555823), (1003, 0.01938895850143499), (3423, 0.019381139861178818), (4404, 0.01937980509596947), (189, 0.01933950436113907), (2822, 0.01933949786131033), (3102, 0.019332885458703875), (136, 0.019306476101433), (1841, 0.01930446810930099), (1386, 0.019284880971589816), (570, 0.019275551403292655), (1914, 0.01926799741911229), (3463, 0.019265171435864398), (3585, 0.019253702117804482), (367, 0.019245850102634715), (722, 0.019243614093704058), (1961, 0.019239441042957252), (4486, 0.019238376507972228), (1497, 0.0192340141723316), (750, 0.019233795338263103), (1290, 0.019233242696113175), (615, 0.0192266487035416), (401, 0.019225238731210587), (4534, 0.01921301980764004), (419, 0.019206561653325436), (1013, 0.01919479418485479), (2043, 0.01918490218631476), (1462, 0.019176102599315178), (2936, 0.019174215876343034), (404, 0.019170714604160168), (3002, 0.019169502638305073), (4581, 0.01914556628820252), (1389, 0.01912932424467357), (339, 0.01911662326842931), (778, 0.019101135765956012), (258, 0.01909831068293346), (930, 0.019093842491177328), (668, 0.019080370743983263), (3366, 0.019078473287220312), (2134, 0.019074872999575884), (2375, 0.019070686228799493), (2877, 0.01906998698838385), (2410, 0.01904347379512795), (938, 0.019026511804475864), (2433, 0.01899032372802174), (1996, 0.01898113093976903), (1965, 0.0189747032126901), (1830, 0.018972250248652404), (2551, 0.018971082210538726), (28, 0.01896163889273835), (4375, 0.018957863226880867), (3365, 0.018940635154506044), (1266, 0.01893588674084623), (2318, 0.018927525639504957), (922, 0.018908179291589763), (2587, 0.01890345513068322), (1038, 0.0188453392151327), (3026, 0.01884116297546179), (423, 0.01882706241134784), (929, 0.018817125848928175), (2505, 0.018811079108097456), (4488, 0.018800672382182974), (2512, 0.018797635516018874), (97, 0.01879445562684541), (1367, 0.018785562298613338), (1236, 0.01876552507917336), (1847, 0.018755763843173238), (1200, 0.01875536880725324), (3797, 0.018743766355856024), (4432, 0.018741207410625065), (2040, 0.018712756078885024), (3794, 0.018710584516914867), (3443, 0.01870986361850485), (1568, 0.018709031519539246), (1518, 0.018695795289631632), (1515, 0.01868156817003433), (1019, 0.018674097212676218), (2661, 0.018635056582561343), (1550, 0.01861627168940507), (3044, 0.018588920058259774), (3906, 0.018574916641037418), (2216, 0.01855584256600349), (4099, 0.01855572686798322), (2391, 0.018540469389296498), (4482, 0.018522990206414427), (1262, 0.018511156354814345), (4748, 0.018448446485398458), (612, 0.01843063429202967), (855, 0.018427282641327102), (364, 0.018420712992716408), (613, 0.018408217865823327), (2503, 0.01840515434642369), (2480, 0.018401103728243953), (456, 0.0183917467331976), (3103, 0.01839155939017613), (4133, 0.018376516297490687), (1581, 0.01836762978053689), (1692, 0.018364358353133124), (1041, 0.018363736243020373), (1769, 0.018357402589876882), (532, 0.018343639746520136), (4325, 0.018322913403517754), (1015, 0.018309759817237405), (3388, 0.018289743796534527), (477, 0.018285721522725586), (2377, 0.01828498841791412), (1481, 0.018272602516489177), (745, 0.018264541537486616), (4252, 0.01826272931911433), (1747, 0.01825735875727201), (1040, 0.018257005482085958), (1551, 0.018242121322022842), (2232, 0.018241028116573396), (3368, 0.01823348104355794), (4438, 0.018197963887439706), (2625, 0.018187544436609117), (3095, 0.01818482999610047), (4371, 0.018163771850453227), (2710, 0.018145761738439098), (626, 0.01814556063224974), (3728, 0.018112694314946498), (160, 0.018106830251441906), (1712, 0.018105260935603978), (2492, 0.018101681158413062), (1141, 0.01810141904804027), (3750, 0.018101002945611604), (4675, 0.018097674488288307), (1373, 0.01809303352042875), (1242, 0.01807154776483233), (2096, 0.018053957862156977), (3199, 0.01804076963093623), (1529, 0.01803588849260983), (2650, 0.018035649591754452), (1779, 0.018033551855352093), (1572, 0.018023034160847745), (4295, 0.01802199682092448), (3533, 0.018019656960658777), (3896, 0.018003882020580116), (175, 0.017986997198716232), (1211, 0.017974048127336006), (2565, 0.01796819864285003), (3392, 0.01795999403277874), (4405, 0.01795345776955103), (179, 0.017951157388087863), (1146, 0.017946297118446655), (4719, 0.017939906382652544), (1570, 0.017934538966637846), (4287, 0.017934134127748167), (3483, 0.017933994671882593), (72, 0.017918178233428436), (1263, 0.017914097702406828), (3928, 0.01788949936936611), (4564, 0.017871305953198753), (521, 0.017870184116455107), (2146, 0.01786678442187569), (470, 0.017864485515891614), (2083, 0.01784658473642897), (4481, 0.017843673183440344), (865, 0.017824318561446877), (997, 0.01776647991359284), (1400, 0.01776511633220606), (173, 0.017752143392748592), (1007, 0.01774220429737198), (1666, 0.01773978044034131), (1526, 0.017736671979657267), (3927, 0.01773019583787698), (171, 0.017727670250330355), (3604, 0.017725859810125328), (973, 0.017723118183865922), (260, 0.017713777541951067), (2626, 0.017712119998657766), (4197, 0.017696664849059483), (1964, 0.0176845355103561), (1546, 0.017683773026220664), (1122, 0.01767314512216463), (2496, 0.017655474751545094), (2397, 0.01765476040083564), (3792, 0.017653369878447508), (2545, 0.01764701476752673), (2099, 0.01764610818100258), (1, 0.017644624028502573), (1780, 0.017632575927702294), (678, 0.01759373092096389), (1476, 0.017587121563971613), (2102, 0.017586318864504222), (3957, 0.017557656269452725), (1274, 0.01754595466536156), (1749, 0.01751185323539183), (974, 0.017482877606025404), (3313, 0.01748115261347088), (3989, 0.017470062703663476), (2161, 0.017462424342964498), (2422, 0.01746204476296404), (4273, 0.0174509389209594), (3092, 0.017434828888581676), (4192, 0.017419882543530295), (1079, 0.017411120947507942), (1078, 0.01741077928194567), (3890, 0.01740371885292729), (1208, 0.017371826656943902), (2292, 0.01736871592057323), (1213, 0.01735306466569111), (877, 0.01734209687811619), (3909, 0.017316932777185184), (1936, 0.017311602833670447), (544, 0.017305586037534296), (1182, 0.017281590448208425), (624, 0.017268427626971374), (3471, 0.017261428301951078), (318, 0.017250079601936426), (2874, 0.0172263286748067), (1565, 0.017221675733914536), (2367, 0.01721964941197344), (1634, 0.017204986834668305), (4679, 0.017199390765133413), (916, 0.017198225879556384), (238, 0.01718905133267013), (1377, 0.01718318925492951), (4255, 0.017170662554079397), (2666, 0.017168063814963844), (1981, 0.017166442381541053), (1068, 0.01716486282330837), (351, 0.01716246373470064), (3710, 0.017157145699680958), (4009, 0.01714973635738471), (454, 0.017147019446588044), (4045, 0.01710697857413195), (221, 0.017103748296729563), (2225, 0.017101397993288688), (4233, 0.017093275733523813), (1221, 0.017089677794076757), (563, 0.017072731350814104), (2686, 0.017070464576122435), (4426, 0.017044983867962927), (1212, 0.017041946892460257), (409, 0.01700976132878957), (354, 0.016985382901102866), (2192, 0.016972060325332584), (2831, 0.016957695009863313), (1651, 0.01694288418736683), (2413, 0.016928439447884133), (1008, 0.01692733965536521), (3279, 0.01692733334970726), (1790, 0.016924691087348558), (2590, 0.016910729203509348), (2834, 0.0169047418768174), (3346, 0.016893207882246866), (3577, 0.016839389137449916), (2461, 0.016831141600203665), (3553, 0.016787337101317457), (982, 0.016773782108048342), (820, 0.01676710431547637), (3785, 0.01676537421785724), (3079, 0.016741837199802885), (1458, 0.016719640606765583), (1542, 0.01670905081971829), (1251, 0.01670622828892945), (2982, 0.016636215306068774), (59, 0.016627429815247154), (1034, 0.01662405991754616), (2980, 0.016612093236613983), (3068, 0.016590995984730888), (3315, 0.016582852428561713), (2087, 0.01656678553208764), (1744, 0.016560255336978573), (3865, 0.016552555931502424), (3516, 0.01653138938942299), (1958, 0.01652825553726234), (4321, 0.016526642735863566), (1096, 0.01647857822988697), (2008, 0.016472337321391462), (4069, 0.01647171000241404), (1017, 0.01646362870574259), (3060, 0.01645980608965374), (1014, 0.016448676730040156), (658, 0.016443003370213698), (497, 0.01644121543205371), (336, 0.016440651463475713), (940, 0.016418790132829948), (2227, 0.016414927147999192), (99, 0.016405192765406276), (817, 0.016391423965995678), (3301, 0.016371730941884266), (651, 0.016353040709301676), (4214, 0.016346971236446513), (2653, 0.016345168459188136), (1016, 0.016317433649552453), (1671, 0.016316740314918535), (3045, 0.0163133751116831), (3300, 0.01631318491843487), (4011, 0.016302843642167587), (1864, 0.01629151909216556), (1140, 0.01627533558361052), (1537, 0.01627391338219554), (861, 0.01625746549571048), (125, 0.016253415359193904), (2338, 0.0162528252192529), (323, 0.016249560271934024), (3780, 0.01622971191866273), (655, 0.01621043662159058), (1160, 0.01618645210237246), (385, 0.016182604735632815), (2309, 0.01618032447045839), (265, 0.01617653800720972), (4345, 0.01617586084199626), (537, 0.016160788326918456), (3147, 0.016160414508037794), (434, 0.016133328873751438), (2473, 0.016131444519622784), (2121, 0.01612546064486127), (1713, 0.016121614558871927), (164, 0.016117411562442313), (3106, 0.01608745227865275), (432, 0.016060971921431213), (1202, 0.016013873335930143), (638, 0.01599923126264519), (1402, 0.015939199077090654), (4158, 0.015936701957850855), (40, 0.015926039313788602), (3090, 0.015923165688259328), (196, 0.015903013210957922), (725, 0.015887069032795846), (2972, 0.015885771245271425), (1069, 0.015884693327671895), (1127, 0.015884313780380747), (4034, 0.0158786522838919), (3008, 0.015871982991340666), (1342, 0.01583997913820445), (900, 0.01583699110691153), (2843, 0.01576578612309803), (4337, 0.01576411211111682), (3403, 0.01576046290421391), (11, 0.015740520117377758), (567, 0.015737678542711696), (1933, 0.01573121331786666), (557, 0.015726619596885177), (591, 0.01571798135246452), (3164, 0.01571789378629866), (3866, 0.015706492628856466), (1592, 0.015704535553169332), (2523, 0.015698841526736076), (1827, 0.015697535162644386), (970, 0.015681659992128952), (3387, 0.015678038599272175), (1514, 0.015675790168740288), (1519, 0.015663296254033128), (3318, 0.015645194491959717), (4201, 0.015629024525537816), (2457, 0.015615246653605898), (78, 0.015601788594574586), (3742, 0.015576910373751519), (1219, 0.015572940234298227), (964, 0.015565053454246441), (2913, 0.015558737181620498), (768, 0.015555548050367513), (1767, 0.015555122119936203), (183, 0.015534311845634464), (390, 0.015532922998929072), (1319, 0.015531075578577892), (363, 0.015513911654563013), (306, 0.015499702923345678), (4196, 0.015458981010888412), (199, 0.015444541787784424), (1987, 0.01544208693210131), (2789, 0.015427894787107935), (1270, 0.015422419520741389), (4271, 0.015417160654133871), (2803, 0.01541448978952132), (569, 0.0154141021603343), (2711, 0.015407672009913477), (2618, 0.015370320278202258), (3739, 0.015367412808239334), (3189, 0.015358532873548183), (1428, 0.015349700546815115), (1362, 0.01533388783181438), (2979, 0.015332280101819576), (4503, 0.015329945161589816), (4347, 0.015315850815054684), (2502, 0.015315788464958699), (2860, 0.015311395682395822), (2573, 0.01530485227474985), (3971, 0.015297318822843431), (1223, 0.015259094776473733), (1858, 0.015246757098377209), (2240, 0.015233493307303253), (2250, 0.015167491416136214), (413, 0.015160413666869266), (3330, 0.015148536718478541), (1938, 0.015145881748865518), (1407, 0.015087698945943102), (2678, 0.015085401774846807), (105, 0.015075141662273368), (3552, 0.015064925686712496), (894, 0.015057512058921082), (1099, 0.015054629807712095), (1205, 0.015015840657238896), (519, 0.0149555643575623), (4655, 0.014937687132570373), (3260, 0.014913551266696277), (4063, 0.014893774712445702), (1305, 0.014871795128398004), (752, 0.014857048482206045), (2774, 0.014831435349017735), (1603, 0.014809886017537573), (386, 0.014783549445851278), (2509, 0.014783018961111772), (3880, 0.014777625169165746), (1035, 0.01476671711431473), (55, 0.014745964029709213), (2388, 0.014736861364643073), (4008, 0.014734281272644778), (1840, 0.014733015417424881), (935, 0.014724157174877954), (3610, 0.01471565008083715), (313, 0.014713541459344), (2692, 0.014708572688973999), (4472, 0.014693407491514342), (2571, 0.014685710645514133), (2612, 0.014680275876069931), (3047, 0.014655146138911229), (147, 0.014654316723749863), (665, 0.014650977096209643), (2485, 0.014649090943425536), (3178, 0.014644913832407045), (1597, 0.014642294942200533), (4168, 0.014638004699493761), (3569, 0.014621100552208437), (2382, 0.014608286318631645), (3188, 0.01460168448548748), (1093, 0.01458644474006705), (2276, 0.014583444962017753), (289, 0.014580007300527706), (893, 0.014552547357189763), (2609, 0.014533707785751075), (2760, 0.014532215488532414), (1761, 0.014508634908116413), (854, 0.014506459056506531), (2132, 0.014502365735344455), (2708, 0.014471466982184983), (1901, 0.01446325728927747), (630, 0.014461607014028356), (4678, 0.014423771321790568), (767, 0.014419062655480527), (2610, 0.014400141492983923), (617, 0.01439797839116989), (3065, 0.014387252665343644), (1893, 0.014371638957155992), (3819, 0.014351948500091102), (3654, 0.014330362876300368), (1694, 0.014328825112641304), (3634, 0.01432118887954426), (1589, 0.014319587790684627), (2366, 0.014312207096920085), (1945, 0.01430523466840314), (2031, 0.014284951782401299), (4073, 0.014248129149534293), (211, 0.014242499212974429), (1074, 0.014241070863662237), (1505, 0.014238557888559468), (2079, 0.014223301169713154), (1873, 0.01421151329804105), (890, 0.014210947784541083), (4136, 0.014194586780864969), (3254, 0.01419359140004171), (3416, 0.01418417479391239), (2911, 0.014181158033433252), (2408, 0.014172617840675781), (49, 0.014169411705553088), (3219, 0.014162491081453874), (1364, 0.014148579597797431), (3835, 0.014129423014559942), (616, 0.014115375558216972), (3342, 0.014114742491900601), (1456, 0.014108744971811943), (22, 0.014096946155049158), (640, 0.014083195665398745), (724, 0.014015090230524807), (142, 0.014014002069175453), (674, 0.013989301987471631), (3276, 0.01398250400664916), (4373, 0.013972226144276003), (1699, 0.013962971803089416), (4555, 0.01396031917201922), (3526, 0.013944640613504086), (1696, 0.013922012094487568), (1128, 0.013911602721280777), (1773, 0.01391011401456258), (4515, 0.013864552282601347), (859, 0.013818152684380306), (3925, 0.013787367945157288), (653, 0.013773186213720309), (4367, 0.013758247566373262), (3551, 0.013752419686694564), (4615, 0.013747234986738872), (2169, 0.01371400398430387), (504, 0.013708272115740314), (948, 0.0137057345729302), (1067, 0.013650800017279054), (1170, 0.01364123468166864), (2699, 0.013637976978598275), (4590, 0.013610993382270942), (4240, 0.01360153638172943), (2195, 0.01358999721106991), (1552, 0.013574194517781494), (3085, 0.013563020813675077), (3309, 0.013557193790155714), (1230, 0.013545598472137495), (1062, 0.013539424274021505), (772, 0.013538596294056753), (3783, 0.013499104448217116), (2538, 0.013459579172039937), (1664, 0.013446319660202698), (2529, 0.013445914328234547), (4659, 0.01344530012495471), (1648, 0.013434044103577247), (3023, 0.013432492898156088), (812, 0.013424211744962625), (835, 0.013423683603392016), (1647, 0.01342056961852738), (3864, 0.013398030864211485), (3391, 0.013380518275217267), (1186, 0.01334678928915142), (2427, 0.013319847817548372), (2767, 0.01330455741583339), (2963, 0.013303349919025896), (833, 0.013287057407562808), (468, 0.013285468017577537), (3609, 0.013269756892970413), (2469, 0.013261605843786007), (4473, 0.013238470726018067), (2147, 0.013224966790712094), (3426, 0.013207052491826226), (3464, 0.01320489470334002), (2742, 0.01318169401056076), (379, 0.013180836090208896), (2330, 0.0131734313391246), (2119, 0.013170480938833166), (4267, 0.013167341977720761), (382, 0.013164230649505853), (2018, 0.013163547056353439), (3923, 0.013151003468683564), (4437, 0.013149399779356625), (3259, 0.013140046497560114), (248, 0.013134234356786645), (4236, 0.013130103042640461), (3114, 0.01312491906453426), (2790, 0.01310017845866652), (4082, 0.0130852709335608), (2675, 0.013061236654705734), (883, 0.01301617554304589), (3018, 0.01301181925799414), (958, 0.012976738602593348), (644, 0.01294404593006259), (3855, 0.012897646422632095), (918, 0.01289402026962887), (1971, 0.01288374809007077), (408, 0.012882677803044047), (3161, 0.012868094953813422), (4490, 0.012852015215844304), (1405, 0.012851705259829503), (3166, 0.012848542477540172), (3414, 0.012836210995046591), (2349, 0.01282511604962759), (3285, 0.012820279412821014), (1145, 0.012808625379219814), (1800, 0.012807089158395294), (4447, 0.012803480523349035), (2426, 0.012796748075710828), (1316, 0.012775198925485471), (1861, 0.012774558002219242), (520, 0.012772775682505112), (2032, 0.01275559446869659), (2185, 0.012718814628980418), (1715, 0.012715492361632762), (1587, 0.01268273600000006), (840, 0.01267278740986361), (4745, 0.012626580022339578), (1052, 0.012614585569791182), (3677, 0.012587242637078954), (2775, 0.012574764926674344), (2870, 0.012556791145682034), (979, 0.01255422626170339), (3030, 0.012548250146124701), (2883, 0.012534737732814678), (3234, 0.012534192538767327), (1523, 0.012488844865294047), (2814, 0.012486074031434228), (1782, 0.01246242359212335), (1997, 0.012458620783818307), (3291, 0.012447542902632476), (1684, 0.012436346770750808), (4222, 0.012422686272960538), (283, 0.012395437983041149), (439, 0.012386203406905133), (1639, 0.012375366683144626), (3479, 0.012370183183886593), (3859, 0.012337756762199583), (1579, 0.012303725915190631), (1719, 0.012297326864302113), (4187, 0.012296490252204473), (3736, 0.012292551480480259), (1709, 0.012270923779717557), (1857, 0.012265922401839586), (1863, 0.012261535263207706), (2400, 0.012257373773758606), (885, 0.012221817980677622), (2559, 0.012176520661939024), (2832, 0.012155983085409564), (641, 0.012129438215995044), (2178, 0.012119116822166905), (3681, 0.012083762272996745), (4064, 0.012075321300157156), (33, 0.012041842806397546), (1923, 0.012035661556074608), (2245, 0.012034254620669815), (3011, 0.012031473362101266), (3149, 0.012018035794578384), (3421, 0.012009624481597632), (688, 0.01200505503476643), (2643, 0.011979559656316781), (486, 0.011965153057913588), (3497, 0.01184070899983486), (896, 0.011838777918478365), (2838, 0.01183759292545479), (1963, 0.011827347732916998), (45, 0.01182500362542276), (3813, 0.011824431816269087), (3642, 0.011751674942939109), (3015, 0.011737693125702464), (2761, 0.011725666871264095), (3269, 0.011722639005660195), (3133, 0.011711162733594164), (3086, 0.011707001268811896), (803, 0.011699031308648983), (3140, 0.011657147419727473), (2439, 0.011656310148023668), (492, 0.011632707702116274), (2061, 0.011614462283889394), (485, 0.011613622773549322), (4574, 0.011603551621618096), (2086, 0.011593293645474942), (4726, 0.011579290801512885), (3200, 0.011577516792403503), (1119, 0.011570445105669576), (2393, 0.011565138515130951), (3718, 0.011553445600564493), (3363, 0.01155213514683285), (3321, 0.01152824009175559), (978, 0.011524455101447877), (4306, 0.011451747557927622), (1225, 0.01143255680901662), (2636, 0.01141182966777324), (3004, 0.011408876847883855), (2266, 0.011405413237461425), (3999, 0.011405378311455265), (1902, 0.01139095266034051), (4757, 0.01138057534713443), (3242, 0.011377853278162427), (326, 0.011343652034062988), (2749, 0.01133940348452955), (2797, 0.011337514800191946), (204, 0.011321841787212475), (1153, 0.011315372656735679), (1229, 0.0113139126770231), (1576, 0.011303667733419629), (4089, 0.01128386736434525), (727, 0.011266215883212857), (2966, 0.01126027649138471), (3549, 0.011257404264957721), (2415, 0.011239707059231788), (2431, 0.011203019554893869), (3257, 0.011161162459194254), (577, 0.01115899008241059), (3137, 0.011140906145573767), (110, 0.011124879917687024), (2113, 0.011109991300590035), (3289, 0.011106185655559283), (1384, 0.011089119397463815), (489, 0.01108057665641582), (2434, 0.011073455614684112), (3932, 0.011071231404141235), (3696, 0.011058612294763402), (4458, 0.011047276717137216), (2656, 0.011017818607640109), (3946, 0.011009984534289044), (1049, 0.010983503448307763), (3308, 0.010966033296835292), (2275, 0.010964208828209582), (736, 0.01095813863160798), (2986, 0.010956400096123382), (529, 0.010952430190719691), (1346, 0.010947338258988838), (1335, 0.010945041484272179), (3122, 0.010939274917458334), (2396, 0.010935629416249919), (431, 0.01092379760180471), (347, 0.010922009860737422), (4632, 0.010920270904090352), (2737, 0.010904612570839339), (2765, 0.010899942271278988), (3745, 0.010896170690545593), (1187, 0.010882855175142876), (272, 0.010881898284078973), (2224, 0.010881223733532924), (5, 0.010869379186006702), (1885, 0.010853165488474675), (4427, 0.010824971390361123), (4353, 0.01082020372244561), (3684, 0.010813114394249729), (3807, 0.010780312645512444), (3359, 0.01077972133274386), (2842, 0.01077233977567282), (2696, 0.010767594943391367), (3072, 0.010765800919338365), (1891, 0.010743104153903837), (2924, 0.010742401618308004), (2281, 0.010741348713543266), (3425, 0.010732709364477318), (4713, 0.010722704028419686), (466, 0.01071408763467636), (3408, 0.010711679772612375), (1888, 0.010692823691215332), (2872, 0.010662312431236862), (414, 0.010661550922021023), (3165, 0.010638985676292538), (3952, 0.010622384481173221), (2702, 0.010586674646860026), (1184, 0.01056722901266417), (2279, 0.010559123556550159), (2701, 0.01055551919661753), (1284, 0.01054942387052441), (3296, 0.010535154198301597), (2401, 0.01053224678625042), (3867, 0.01052253635732897), (2302, 0.010520864266831454), (2003, 0.010516101135308282), (2629, 0.010514752974446017), (2893, 0.01050416161825387), (998, 0.010500559695112028), (1044, 0.010498162297104832), (3348, 0.010487740526409101), (3148, 0.01048743237653134), (58, 0.010447161041940912), (576, 0.01044176769629429), (3274, 0.010436567582668366), (2974, 0.01039958319136273), (2897, 0.010397159156722117), (4718, 0.010388480204963075), (3484, 0.010361691828558114), (1416, 0.010356108435939648), (3804, 0.010332704887597166), (3248, 0.010330359961522685), (3390, 0.010325497650244228), (3273, 0.010312237719204182), (2830, 0.010308883661866356), (2065, 0.010302285538698719), (2108, 0.010280955822496274), (4012, 0.01027326636139056), (2535, 0.010266358299880367), (594, 0.01024949787027115), (857, 0.010228691510581586), (578, 0.01022803439710743), (939, 0.010221728716667869), (2890, 0.01022103157886481), (1036, 0.010221026095063432), (4263, 0.010202090672952113), (3417, 0.010201849996856669), (3116, 0.010178656513114615), (3546, 0.010165984951053992), (1479, 0.010159276511649214), (2390, 0.010154313903182428), (3741, 0.010136466396430215), (3083, 0.01011884256811332), (4101, 0.010109823629134543), (2748, 0.010072471950393621), (3258, 0.010072261629733922), (111, 0.010067096954196763), (3915, 0.01006093670788201), (8, 0.010059503296544349), (3889, 0.010045606757862145), (4199, 0.010044079930075962), (2129, 0.010041756350413045), (2705, 0.010029534697249301), (3893, 0.010006550418607742), (1984, 0.010004639426289519), (4223, 0.009996953445908204), (1357, 0.009986930680510344), (4657, 0.009962119357624316), (2475, 0.009961276606874805), (3876, 0.009947779652835909), (3211, 0.009928442035792823), (4277, 0.009926330529841458), (3904, 0.009907496214176435), (3295, 0.009905887222209036), (2734, 0.0099028816284411), (4725, 0.009883495261420652), (1324, 0.00988063341567488), (3601, 0.00987858337237227), (3235, 0.009874449718468044), (2728, 0.00986425091288548), (2105, 0.009863467814832163), (4175, 0.00986311968171823), (3698, 0.009859701201810555), (623, 0.009837783333473597), (493, 0.009834648607104406), (2821, 0.009833415747295297), (3314, 0.009823846729363348), (4575, 0.009800640140779943), (1691, 0.009784406825375843), (2323, 0.009779686788406145), (4566, 0.009764478761679383), (2781, 0.00975718379844053), (2385, 0.00975601137780331), (3974, 0.009754057059076943), (3511, 0.009750318117932966), (2756, 0.009746625802963906), (1442, 0.00974640075828538), (1739, 0.00974420193676218), (1821, 0.009720035227284176), (3167, 0.009705223120671097), (564, 0.009704118965398351), (255, 0.009699643992377523), (4119, 0.00969884913655043), (3493, 0.00969493953074702), (2163, 0.009669812809181154), (1318, 0.009664998588351112), (879, 0.009663687730332915), (3241, 0.00966345067355941), (3845, 0.009661507584642896), (23, 0.009652583475597585), (2319, 0.009622557721013404), (4625, 0.009617643479491848), (2951, 0.00961364483552287), (1954, 0.009599825547806983), (712, 0.009574536734529189), (4422, 0.009572110703422176), (3198, 0.009568791132279734), (606, 0.009564941027746774), (2273, 0.009556104868225751), (2617, 0.009554632815465858), (2863, 0.009550614817596264), (764, 0.009518462110337876), (2230, 0.009512716120602414), (3809, 0.00949033673043799), (2386, 0.009470081737464067), (4332, 0.00946723153049914), (1940, 0.009462693468343152), (2468, 0.009459846877908256), (2673, 0.0094501730532145), (2489, 0.009439655879665488), (2252, 0.00940214626241429), (198, 0.009398164750736787), (3356, 0.00939737907714766), (1533, 0.009395977942130882), (1464, 0.009393194914282792), (579, 0.009389659069326397), (3335, 0.009358875811305997), (2745, 0.009349463075060406), (1175, 0.009347973346808964), (679, 0.00933087029996275), (2729, 0.009309776858050973), (4444, 0.009305771484373917), (2344, 0.00928201094507329), (114, 0.009271567356545182), (2952, 0.009265928757382356), (1378, 0.009254890737121603), (4320, 0.009239234106918041), (2891, 0.009238307870609955), (4265, 0.009235189326396083), (2855, 0.009230851559565366), (418, 0.009230310889360863), (2943, 0.009229467031614895), (4056, 0.009212705189150454), (2999, 0.009210233460163834), (490, 0.009172267063861357), (1689, 0.009155427780842534), (2645, 0.009142433981330004), (3009, 0.0091324027964672), (1313, 0.009127583896824294), (2157, 0.009112534499925077), (2500, 0.00909959009964519), (1286, 0.009080741147797593), (2945, 0.009067063621759382), (2802, 0.009057335566601703), (4309, 0.009040725908493741), (3743, 0.009029162867353174), (1350, 0.009022734350414603), (693, 0.009015373547827122), (959, 0.008996953021826407), (3075, 0.008996033455901407), (4183, 0.00898397761233735), (4381, 0.008979881435082201), (3001, 0.00897218791802204), (1261, 0.008968196517387075), (685, 0.008964194093361867), (488, 0.008959415504958365), (4139, 0.008944637562090817), (2467, 0.0089367243613828), (2034, 0.0089284234727821), (3690, 0.008917883347960575), (1530, 0.008914324331595017), (1554, 0.008914114728941038), (3352, 0.008907592907020881), (2017, 0.008905662948764548), (1495, 0.008878003688358227), (956, 0.008870554451950601), (4097, 0.008866352522406027), (1027, 0.008857348248497654), (3638, 0.00885700134174984), (1105, 0.008855905832412083), (645, 0.008851139843484596), (4612, 0.008843735316792185), (3214, 0.008843068013306409), (2779, 0.008842381372339697), (3268, 0.008840680198744653), (2886, 0.008837188130358005), (3616, 0.008834035814893223), (3170, 0.008812027293529406), (3898, 0.008790026288412963), (4207, 0.008786702673306682), (4086, 0.008761157280001056), (2793, 0.008752113073107479), (3194, 0.00874284127604294), (116, 0.00874222710772559), (3980, 0.008732368750261739), (1372, 0.008689029950207778), (1517, 0.008687970307632397), (3774, 0.008669731464542661), (2149, 0.008654629558554632), (3721, 0.008651962202439483), (1819, 0.008629551353170627), (4198, 0.008611801799627594), (3073, 0.008609701357941413), (2528, 0.008601889738687564), (2498, 0.008595575800929029), (3500, 0.008593612994559532), (2907, 0.00859061622307468), (589, 0.008584456383296859), (2208, 0.008581158525778424), (205, 0.008573180282724684), (3913, 0.00855136870353352), (2616, 0.008532197828111196), (2763, 0.008522129552725025), (2453, 0.008513286561869386), (500, 0.008508694218465333), (4598, 0.008502048554402324), (2054, 0.008501417779083016), (2362, 0.008490848619213578), (1233, 0.008483115855858736), (1628, 0.00847537862058596), (4639, 0.008471930941313554), (797, 0.008449705427587514), (1534, 0.008426080907950209), (1113, 0.008424072235399205), (2928, 0.008421830466325126), (4166, 0.00841996280082255), (3790, 0.008415112433523173), (517, 0.00841377281111491), (3849, 0.008409240367006344), (3141, 0.008407227605359835), (1668, 0.008401926062870872), (608, 0.008396429856766438), (3304, 0.008387307966007524), (4084, 0.008386361786303503), (3614, 0.008384082226059887), (2738, 0.008383398615874314), (3078, 0.008380759509993842), (4350, 0.008348924667310357), (1825, 0.008347365779982449), (4712, 0.008344248499041263), (1080, 0.008338636380612982), (4080, 0.008305246481345818), (1755, 0.008303862316445398), (780, 0.008302450870576109), (4477, 0.008299434421425384), (3795, 0.008285796061290596), (42, 0.008281481151688166), (3209, 0.008280323668183803), (1630, 0.008279980266119764), (1435, 0.008277438001974913), (3912, 0.008271610818534959), (4684, 0.008262228680919543), (3450, 0.00825050294450891), (528, 0.008243900892177115), (3812, 0.00824066492141676), (3272, 0.008240271520293194), (703, 0.008227891083488162), (3380, 0.008222525070611796), (54, 0.008222230939609733), (1423, 0.008220615780919215), (4104, 0.008210404673467208), (3230, 0.008201417361233032), (2215, 0.008190798674059842), (1930, 0.008184606699117436), (2130, 0.008184177450581046), (2543, 0.008183572146711894), (4568, 0.008156419774527933), (614, 0.008150735426298353), (315, 0.008121262493596298), (2071, 0.00811817743852915), (3592, 0.008108685847280311), (4310, 0.008104563881291816), (4128, 0.00806679596566968), (540, 0.008053831717582989), (1887, 0.008050453168984508), (1217, 0.008041581077294852), (3711, 0.008040023110018946), (4708, 0.008034520715997456), (103, 0.008022877251242294), (2328, 0.008004870002137563), (4542, 0.008004696043529096), (1349, 0.008004325682027975), (2791, 0.00800296363331331), (3587, 0.008002377247266523), (4297, 0.007996576899871696), (4368, 0.007995127005334082), (535, 0.007988718415709972), (3945, 0.007980850879810188), (278, 0.007977674628395447), (2527, 0.00796667746476011), (4411, 0.007935419540660228), (701, 0.007929963213902257), (2840, 0.00792314537728256), (3877, 0.00790947771236203), (170, 0.007906572012623977), (4514, 0.007888797942869806), (1846, 0.007887100948079376), (4290, 0.007875974582883243), (662, 0.007849959759513603), (3669, 0.007849756611577753), (1817, 0.007831215835121953), (4408, 0.007830428428243922), (556, 0.0078263656966002), (1733, 0.007789182331644542), (4483, 0.007780093728814672), (2253, 0.007772344701025708), (123, 0.0077722567396334525), (2333, 0.007763880367318207), (3686, 0.007753435744209935), (3017, 0.007748903481078941), (4732, 0.0077483163984194), (675, 0.007747103510301666), (3985, 0.007739805435521178), (1207, 0.007734819849305962), (4013, 0.007734286868417057), (2009, 0.007724555682411002), (795, 0.007708584210555505), (713, 0.007708182612001458), (796, 0.007690140439732618), (360, 0.007682422813883931), (2271, 0.00766219986844943), (1907, 0.007646681521555641), (3914, 0.007638559959851598), (4269, 0.0076199296418537074), (862, 0.007602207082366513), (4569, 0.00760021612650481), (1427, 0.007593041717383734), (2940, 0.007592977059606423), (1415, 0.007589055158682433), (4159, 0.007587865577490628), (1992, 0.007563896699142984), (680, 0.007554919551224131), (3297, 0.00754845309500774), (1899, 0.007547793454862424), (2120, 0.007544454489574822), (3732, 0.007543064174778777), (1624, 0.007537546892578777), (1673, 0.007537374020295949), (3328, 0.007537172380580259), (1687, 0.007532077299539494), (3618, 0.007530083611577255), (1353, 0.007527991231580708), (2792, 0.007526241856361809), (4311, 0.007525490572443926), (1480, 0.0075254036638162805), (3777, 0.007505790596528054), (2177, 0.007502060356932302), (483, 0.007500581180250655), (2093, 0.0074879502964030195), (760, 0.007481891644429092), (4599, 0.00748118116981664), (3851, 0.007467300195796586), (1643, 0.007458120739527946), (1979, 0.007449658877620401), (2274, 0.007449627791711256), (1424, 0.007445990996142979), (1197, 0.0074441306585703556), (4363, 0.007440343317949127), (3150, 0.007432639652135335), (920, 0.007432591618936793), (4741, 0.0074319755888500845), (1781, 0.007424926717403998), (1660, 0.007422421443651406), (801, 0.007416438593719573), (4629, 0.007410764714243905), (2186, 0.007392485399966577), (1201, 0.007386318415770238), (3778, 0.007379005539441676), (2016, 0.007374782286849889), (4379, 0.0073603584922456574), (3920, 0.007358285560503868), (3959, 0.0073578086332326854), (2967, 0.0073568422515424385), (3168, 0.007343972792734823), (2126, 0.007326202815482191), (1657, 0.007312277153703097), (3761, 0.007293422953954138), (3964, 0.007283964239510814), (3701, 0.007282862147781106), (4366, 0.007279826295840795), (4580, 0.0072778706423584786), (2784, 0.0072610425751250054), (3180, 0.007255957519473598), (3950, 0.007249926124420784), (4283, 0.0072413600430592286), (3808, 0.007241335521960594), (4463, 0.007239353637110264), (832, 0.007223170016375065), (2210, 0.0072227816554666265), (4050, 0.00720457718524359), (3099, 0.007201513139161716), (1786, 0.007173084116378454), (993, 0.007156187511263049), (3125, 0.007139029984901908), (3830, 0.007132994216494069), (3491, 0.007131830055291185), (1806, 0.007120254200263582), (4330, 0.00710790246222829), (1179, 0.007102955644568344), (3202, 0.007091081993550551), (224, 0.007086925813689217), (3174, 0.007084975171621049), (2900, 0.0070813503107747654), (3232, 0.007078806991354513), (2324, 0.007072463186250313), (2258, 0.007072207677012323), (2534, 0.007061726684450326), (988, 0.007056042267620538), (2460, 0.007055871601928423), (3374, 0.0070501020769058766), (4394, 0.007049331683245819), (789, 0.0070422436928826515), (3525, 0.007038781502767618), (146, 0.007035065326320593), (3435, 0.0070348935564502856), (1059, 0.00703201259482357), (1441, 0.0070308140165984395), (2880, 0.007029277997753051), (2539, 0.00702840620698973), (4114, 0.007026730189729698), (769, 0.007010943018214634), (3584, 0.00700436806013374), (2416, 0.007001472075658502), (1731, 0.006992322732744932), (754, 0.006987319273010249), (873, 0.006984011008010986), (3834, 0.006978283543952036), (4284, 0.006970288243463337), (3557, 0.0069663129945682165), (2910, 0.006950623852426976), (4687, 0.006946212293234024), (4315, 0.006945422013115105), (2029, 0.006935538605670852), (1617, 0.0069353026497690606), (1745, 0.0069298550994650425), (1309, 0.006929289200161539), (2044, 0.0069276872613080005), (1653, 0.0069275445115749654), (4387, 0.006926869583678512), (2352, 0.006919370218378802), (394, 0.00691916795566192), (1422, 0.006916781168391697), (4395, 0.006911029668918395), (275, 0.00689695420800745), (2566, 0.006895135848926526), (4027, 0.006886848852267862), (4550, 0.006886842334649118), (1645, 0.006862828431872489), (1969, 0.006855665727861077), (474, 0.006852972568182493), (1955, 0.00685069334918253), (621, 0.006850225542513381), (1300, 0.006846069497358737), (3917, 0.006833634266325374), (3513, 0.006833253358556616), (2249, 0.006820567830034556), (3061, 0.006818999940987743), (18, 0.006811883007937033), (4523, 0.006795683273070823), (1536, 0.006782072353716906), (1877, 0.006778878153625073), (3798, 0.006765073896819796), (784, 0.006762447844376663), (1375, 0.006751907029567132), (4428, 0.0067455590475217365), (2106, 0.006742196033458962), (4628, 0.006731697891231487), (2519, 0.006727397009133331), (3489, 0.006722782247594986), (4124, 0.0067219087502375235), (1742, 0.00671699251725899), (878, 0.006709763615869146), (4319, 0.006703537566495374), (2023, 0.006689745077473507), (2025, 0.006678803539745935), (3057, 0.006664224958283676), (1296, 0.006654410607359548), (3603, 0.006646456935036156), (1620, 0.006642590591961664), (4634, 0.006628761212601492), (4702, 0.0066227338115037275), (1555, 0.006613249137839596), (866, 0.00660412544485694), (366, 0.006602630969610766), (1956, 0.0065968928611408), (1642, 0.006574796012282963), (2562, 0.0065702923462505804), (398, 0.0065673369256592515), (312, 0.006567112348094148), (3034, 0.006564423891623167), (2482, 0.006548073028413827), (2472, 0.006542680017248945), (4348, 0.006532945683359816), (416, 0.006509860335692888), (2954, 0.006486501040285794), (2836, 0.006471282428356113), (1360, 0.006465436485422757), (1159, 0.0064544685342514015), (1595, 0.006428854384746624), (983, 0.0064056036830791585), (2973, 0.00639674642289615), (3336, 0.006394104569284107), (3986, 0.006391828658998293), (3841, 0.006370701000150202), (1880, 0.006358797509449481), (4327, 0.006356052806938284), (2677, 0.006354524261337993), (3879, 0.006323063928384972), (1618, 0.0063151546545059875), (4229, 0.0063049362175557535), (2693, 0.006304737080819824), (495, 0.0062831667422653375), (166, 0.006273881557886595), (2681, 0.006270213695220114), (3490, 0.00626310036457664), (2555, 0.006233412586612975), (1190, 0.00620068449163448), (1073, 0.006200560235835854), (3177, 0.006195420816200039), (1363, 0.006189637454778426), (4022, 0.0061819474786334065), (819, 0.006181667678046822), (1828, 0.0061297232239544515), (2818, 0.006110010546920802), (2611, 0.006094543539591357), (2866, 0.006068955890446561), (1606, 0.00606717303279571), (3376, 0.006066253823192758), (1352, 0.006034356829887542), (3753, 0.0060081718203817466), (2076, 0.0059914575745888135), (4322, 0.005971584509130826), (2127, 0.00596371459840956), (3430, 0.00591309381789921), (442, 0.005890395596718006), (1485, 0.005884206696144681), (484, 0.005816513175976609), (3933, 0.00581348738984191), (2526, 0.005812387446617992), (2547, 0.0057456086034359645), (3145, 0.00566854086519113), (3538, 0.005664446617808568), (3856, 0.0056443845167442755), (2001, 0.005616047705057126), (2168, 0.0055810480998796435), (4288, 0.005576899730984743), (2440, 0.005566873246702062), (4646, 0.0055630392848314255), (2006, 0.005562074323048529), (4018, 0.005558846210466063), (1548, 0.0055229302110806466), (3578, 0.005507144350915462), (4144, 0.005483799065524758), (2581, 0.005452303110115731), (2363, 0.005391975169911849), (1883, 0.005377013541640182), (4498, 0.005344923092410259), (4194, 0.0053440630419766336), (3448, 0.005292931068918146), (3502, 0.005281121239860341), (2351, 0.005207959772036593), (1343, 0.005186778357755495), (512, 0.005185867168812171), (904, 0.005136106496029556), (4449, 0.005119500382728551), (4031, 0.005100470410761969), (3172, 0.005080484087501595), (3312, 0.005067728286366779), (293, 0.005051093344885365), (4454, 0.005033708668382226), (1321, 0.0050215474801222175), (380, 0.005012426882275829), (1381, 0.005006989459188592), (3858, 0.005003360495618466), (2785, 0.004995587205975248), (4121, 0.004962524487982769), (424, 0.004954087576345651), (425, 0.0049497893543751816), (681, 0.00493976387145911), (4462, 0.004930703993856318), (1011, 0.004927527343496458), (2532, 0.004925733953649333), (2518, 0.004925592199052886), (666, 0.004909792962865271), (3325, 0.004896811671225501), (250, 0.004882348754362716), (4108, 0.004882188849223608), (3221, 0.004880021634372562), (4120, 0.004863479491971094), (4549, 0.004840211637501558), (1725, 0.004823602316471666), (3444, 0.0048095142582630845), (4091, 0.00479415972197001), (1681, 0.004790206688557729), (2233, 0.004788159666297934), (3831, 0.004784620725890028), (677, 0.004781680301005436), (3730, 0.004769627291340147), (2458, 0.004754855980873652), (1056, 0.004747180141799046), (704, 0.00471779852311252), (1246, 0.004713537775392766), (1640, 0.0047125070169573135), (4151, 0.004709024465340644), (1952, 0.0046983846683394314), (3586, 0.004695627930956402), (420, 0.004691725603663671), (4492, 0.004687049406644626), (1520, 0.004683777243878903), (3131, 0.004668014209733859), (10, 0.004649726797941243), (2283, 0.00464971899719728), (603, 0.004640761528750922), (1031, 0.004639017966195329), (392, 0.004634724900038774), (361, 0.004631574392440895), (2719, 0.004630320556450432), (913, 0.004628149724445854), (3897, 0.004626034692279336), (2689, 0.004625196776009149), (1426, 0.004622624217650475), (4613, 0.00461889829094835), (1436, 0.004616533950459489), (4406, 0.004615102915118541), (765, 0.00461126412474679), (654, 0.00459863828173753), (1185, 0.004596805134991295), (1578, 0.004595395020187429), (3277, 0.004594184490804666), (1104, 0.00459243796984364), (599, 0.004590232306864953), (3969, 0.004583660420188904), (3870, 0.004561435815645016), (4621, 0.0045593727095408045), (3378, 0.004552942212478243), (201, 0.004552229238519101), (1047, 0.004545918920585218), (1613, 0.004538375479152859), (2241, 0.004537142610616218), (1702, 0.004534903344884537), (3534, 0.004526260131283241), (3507, 0.0045230586689876465), (3930, 0.004517095395643922), (2222, 0.004506741176516397), (1636, 0.004495499015570327), (3722, 0.0044860573738401775), (3446, 0.004480941198414559), (1726, 0.004477329291141402), (1525, 0.004473559698205672), (4376, 0.004473334026745075), (2444, 0.004450594239089357), (3810, 0.004445997674381542), (2788, 0.004441976399637034), (1322, 0.004441579268298798), (919, 0.004433990711953415), (2278, 0.004426430424730941), (611, 0.00440344745794274), (2414, 0.004398135428313241), (4755, 0.004389638345505782), (2501, 0.004384153028335665), (1297, 0.0043668217101592655), (4006, 0.004360597632365243), (305, 0.004358933267675574), (2046, 0.004357728633610086), (4571, 0.004355150987906113), (2246, 0.004354969168268601), (3955, 0.004354150722176535), (4592, 0.004349656665350265), (525, 0.004339807932609839), (3963, 0.0043305072076968735), (3818, 0.004326936926559028), (65, 0.00432677351374297), (2128, 0.004290562047968152), (4157, 0.004275679121955252), (2713, 0.004274359933496473), (2504, 0.004259996132855858), (4112, 0.004258860434838252), (3994, 0.004240083975780644), (3127, 0.004226350481884432), (1347, 0.004214381386342222), (3720, 0.004210565542840325), (2432, 0.004205643240458876), (3512, 0.004202736870914607), (3562, 0.004202675493062377), (585, 0.004197316981168887), (3886, 0.004190249633395352), (138, 0.004189399268249966), (3053, 0.004187079008852493), (3786, 0.00418642367705873), (427, 0.004185074615354119), (3568, 0.0041844327910994265), (3567, 0.00418031413687607), (4279, 0.0041724081929195795), (1218, 0.004162374438344602), (2631, 0.0041434870432454545), (1738, 0.004142070337921362), (3712, 0.00413299674225729), (3891, 0.0041318859453355755), (3361, 0.004130268699391901), (1054, 0.004119989391065636), (2998, 0.004114614670830718), (1756, 0.004114492562574568), (661, 0.0040930453338704886), (2938, 0.004084600017650005), (426, 0.004081040623757306), (3280, 0.004062174363066738), (1430, 0.004057049732774651), (2615, 0.004053082667639773), (417, 0.004052817433738666), (335, 0.004033673366253802), (2497, 0.004029703001612005), (94, 0.004006800624448349), (411, 0.004004811605300479), (80, 0.003997838444977743), (4339, 0.003985602904921079), (776, 0.003982302204963793), (4689, 0.0039813129383990675), (291, 0.003977062529941299), (1990, 0.003975094424008447), (1784, 0.003961961171528048), (148, 0.003959418533820262), (2379, 0.003955451030540746), (1171, 0.003952311687158329), (2490, 0.0039503148762072655), (2937, 0.003935636655515803), (3523, 0.003928962276018095), (4705, 0.003918594966619196), (3051, 0.003909538867121539), (2768, 0.00389598681188629), (3672, 0.003894579652003131), (1025, 0.0038881568105969357), (2137, 0.0038845655777553357), (2649, 0.003871451384993562), (4450, 0.003867748399235856), (882, 0.003867664062010348), (1468, 0.003867459058298728), (2722, 0.0038475761958475818), (2189, 0.003847320117779706), (2906, 0.00384128649041594), (4202, 0.0038323834689412174), (756, 0.003831359620688819), (3040, 0.0038275401924398964), (2608, 0.0038215410855057417), (2989, 0.003819029083836805), (3803, 0.003817454468609268), (2251, 0.0038134283242401315), (3852, 0.0038017354011436887), (1772, 0.00378619930245433), (3990, 0.0037830560176598453), (2889, 0.00377295728198585), (1521, 0.0037683186145219213), (2537, 0.0037598058186402274), (3119, 0.0037574457846952), (234, 0.003755155827025498), (4617, 0.0037485157448449717), (4704, 0.0037442319846790473), (3052, 0.0037436110599930886), (779, 0.00372967293916995), (3055, 0.0037294940082509497), (2404, 0.0037278387967050086), (1120, 0.003719891396149055), (4017, 0.0037192635599038112), (3561, 0.0037153974096487898), (3042, 0.0037135751088239284), (627, 0.0037112342523501042), (3635, 0.0037055475460257346), (947, 0.0036971123930528587), (2731, 0.003678964474858658), (4749, 0.0036782151110431763), (4529, 0.003674816855249413), (3481, 0.003672105914836097), (2627, 0.0036718452492681924), (1535, 0.003668906159533454), (2296, 0.003665203806710023), (2484, 0.003664600899512122), (2310, 0.0036644853221599267), (4221, 0.0036644114648787737), (575, 0.003660300527946869), (4611, 0.003653217233600756), (2694, 0.003650861548118066), (186, 0.003648765412509323), (2861, 0.0036328366737110648), (2655, 0.0036321374056855742), (2932, 0.0036237431221111923), (4172, 0.0036233462198954607), (3878, 0.003602221726261746), (4696, 0.003590637792097435), (2628, 0.003587902921102061), (3076, 0.0035869069505440622), (2448, 0.0035793716908366193), (2392, 0.0035785737109730047), (3292, 0.0035778549453916756), (3762, 0.003570658197073817), (2199, 0.003567717218425822), (4423, 0.0035540286479763166), (4019, 0.0035529318852685968), (2425, 0.003552141486613679), (4546, 0.003542734436695781), (2255, 0.003536058014055433), (3322, 0.003527409394962389), (3262, 0.003526574477694137), (3944, 0.003517108438438802), (4230, 0.0035117704213701332), (4142, 0.0035040883230583737), (2286, 0.00350259425322617), (4400, 0.0034938695210453338), (4403, 0.003493325007991677), (4102, 0.0034799455664651213), (3848, 0.003477189043974269), (3828, 0.003466250850064717), (4710, 0.0034644010983317726), (2795, 0.003461239662074269), (3239, 0.003455479554277727), (3128, 0.003454908122690541), (2423, 0.003454052433912347), (3354, 0.0034506678319156524), (526, 0.0034464767518501156), (1711, 0.0034369914569669625), (4469, 0.003424420023385864), (3687, 0.003423253262198281), (4692, 0.003421230781330748), (4521, 0.0034209933922264026), (4544, 0.003419068581991225), (3357, 0.003406807875046961), (2557, 0.003399183581404595), (2438, 0.003394852089370834), (3159, 0.003392118484324234), (4107, 0.0033842761026526107), (3922, 0.0033834125981656816), (3613, 0.0033805618526149108), (4724, 0.0033785678025163354), (670, 0.0033776917517749656), (3521, 0.003376502669568388), (4572, 0.0033637316824638662), (3074, 0.0033626318850341168), (4298, 0.003362419818524323), (4209, 0.003358490929647237), (4443, 0.00335750752226783), (3154, 0.003354554749488654), (2957, 0.0033530547637882968), (3874, 0.003351518741030712), (4723, 0.003351053867812226), (3031, 0.0033480000979271836), (3832, 0.0033459106661025465), (3123, 0.0033430702650207172), (2879, 0.003337835905678051), (3620, 0.0033374192234090112), (3544, 0.0033362231164666446), (3020, 0.00332727164145667), (1593, 0.0033214759975871686), (1064, 0.0033205398253001958), (3206, 0.003316056600646585), (2778, 0.0033140728574776934), (2454, 0.003309563651967011), (4414, 0.003306746573651449), (2993, 0.0033058063987757187), (1264, 0.0033014666310807856), (1429, 0.003294891614103468), (777, 0.003294103013351607), (2895, 0.0032806247553930773), (3911, 0.00327499459272057), (3766, 0.003268458381797131), (3675, 0.0032671196846079937), (4701, 0.0032665506598645597), (4637, 0.0032522022830440197), (2772, 0.003246653075193754), (4735, 0.003243243784934028), (4023, 0.003236705922019153), (4717, 0.0032362590772511603), (3763, 0.0032300792732289007), (3935, 0.0032295904288286654), (2613, 0.0032288598542346628), (3081, 0.00322551570233076), (3621, 0.003225089953365471), (4633, 0.003221011591662684), (2089, 0.003220529729612196), (4694, 0.003220329089963291), (2707, 0.0032167302781133415), (4412, 0.0032105867611283505), (4030, 0.0032079772560222666), (1169, 0.0032076947953794685), (2846, 0.0032069882207499414), (3275, 0.003203407002804717), (937, 0.003202115525557983), (4075, 0.003198036070532161), (3540, 0.0031966791436601394), (2142, 0.003196524286917467), (1547, 0.0031921546551711075), (3019, 0.0031906031576667726), (4126, 0.0031892763165660793), (3884, 0.0031888399594426245), (3307, 0.0031836790556474545), (3729, 0.003176311574440716), (860, 0.0031755670291889527), (443, 0.0031700738877105485), (4398, 0.003167026176898643), (2987, 0.003164115739669706), (3419, 0.0031629391627080033), (1275, 0.0031624493015552434), (3337, 0.0031624281332910975), (3396, 0.0031613402685129596), (3355, 0.0031531682619164846), (925, 0.003151429657108682), (4507, 0.003148085375703746), (274, 0.00314696059649934), (2478, 0.0031463265098832746), (4516, 0.003142844668918033), (4465, 0.0031411310495135236), (721, 0.0031403441391508868), (4244, 0.0031398837015197563), (3639, 0.003136733592062695), (2796, 0.0031365581229911223), (739, 0.0031274699969926737), (4753, 0.0031252400716491294), (3883, 0.003124163353947126), (3772, 0.003118991338892655), (3611, 0.003114133527152013), (107, 0.0031084858406612717), (3186, 0.0031076660235883433), (2881, 0.003104102860263967), (2411, 0.003103479780433586), (4731, 0.0031031326988199184), (2623, 0.003102758298141261), (3043, 0.0031026670296328746), (478, 0.0031018546772464423), (4092, 0.0031016275457662413), (2914, 0.003099632061898865), (3680, 0.0030992789954689503), (3992, 0.0030981071165955055), (281, 0.0030940539288805274), (1383, 0.0030938627764409287), (235, 0.00309352780833374), (3373, 0.0030847971661285742), (3962, 0.0030781686312331504), (4160, 0.0030729241205109353), (2579, 0.003072130955974403), (2916, 0.003069970372978061), (1499, 0.0030680910530404087), (3032, 0.003067817328355136), (4535, 0.0030676644299338827), (436, 0.003066454688851269), (3146, 0.0030656893449995215), (308, 0.003064820546982579), (2356, 0.0030638787229092094), (4401, 0.003062180143815839), (3593, 0.0030595273486347546), (4293, 0.0030583684448752275), (3640, 0.0030565968370798464), (729, 0.003056270924018553), (444, 0.0030538186273829865), (2585, 0.0030510738791739663), (4397, 0.0030502799505420803), (41, 0.00304971476078541), (4593, 0.00304765365725635), (1498, 0.0030470545838713783), (4706, 0.0030449703340610394), (3003, 0.0030446493857800424), (4259, 0.003044366654502976), (4113, 0.0030442009936040328), (1890, 0.0030411903033150185), (3062, 0.003038588636021116), (888, 0.003037603419080697), (3967, 0.003029812451466068), (3101, 0.0030280084400058672), (4042, 0.0030271362082559083), (967, 0.0030259666903577212), (2176, 0.0030255914149873823), (3961, 0.0030251410693824406), (2428, 0.003024677740321167), (4619, 0.0030239897068396263), (450, 0.0030074183920935933), (4602, 0.00300707627648131), (2464, 0.0030058965282065034), (4308, 0.0030056460002401385), (4046, 0.0030046283064306713), (4048, 0.0030004296913248387), (4601, 0.0029998981271648325), (2624, 0.002998997896279097), (3714, 0.0029957556993650963), (4130, 0.0029956476760250503), (2229, 0.002995206562864815), (4140, 0.0029946145979248113), (1243, 0.002989426722885285), (3749, 0.002988353823751613), (4116, 0.0029880652743625143), (2293, 0.002987500534055366), (4522, 0.0029868256701849126), (1805, 0.0029861227051802596), (4669, 0.0029850688631445662), (350, 0.0029837711344560688), (499, 0.0029826935350609706), (3064, 0.0029822904312308343), (2214, 0.002979980553871472), (4087, 0.0029794211619798686), (2882, 0.002978294146403457), (2595, 0.00297272375608208), (1325, 0.00297067289348912), (2888, 0.0029689016866527767), (3694, 0.0029661465760696917), (4545, 0.0029659446740846174), (1959, 0.00296474688583842), (1874, 0.0029619861841655463), (4734, 0.002961930347181952), (3704, 0.0029618251475980488), (2477, 0.002961195441492553), (4024, 0.002959756149151483), (3757, 0.0029565079198848533), (4579, 0.0029542111424925616), (210, 0.0029538650209698096), (1848, 0.0029504162707504286), (4132, 0.002950135300953626), (4161, 0.002948529883979294), (3112, 0.002947183007030314), (1995, 0.002947104567128027), (4540, 0.002944959369969924), (4245, 0.0029447173943450635), (791, 0.002944336360579163), (2162, 0.0029432574543084605), (2254, 0.002941111811072328), (1637, 0.002939921366814924), (2723, 0.002939417894355429), (2786, 0.002935061628865594), (1683, 0.002932876170713599), (2260, 0.002931922810866853), (21, 0.0029309434083009825), (3873, 0.002930659870774128), (4680, 0.002930419601359641), (4005, 0.0029285992310566908), (3007, 0.0029279952290905717), (4231, 0.0029236734364390176), (826, 0.0029230105046887393), (2151, 0.0029221775085745685), (2970, 0.0029213676745254618), (2522, 0.002921040631757863), (4355, 0.0029198467102422854), (3987, 0.00291911657712547), (246, 0.0029147416728870284), (1339, 0.0029132188655196195), (3590, 0.002911386041052002), (206, 0.002907364957938048), (2361, 0.002907138813572549), (3084, 0.0029068923150579956), (4489, 0.0029068458252731917), (68, 0.0029067305691960013), (4471, 0.0029064074640414847), (1234, 0.002902292857366422), (4505, 0.002901100544971678), (1853, 0.0029010712781107053), (2714, 0.002900657842078026), (1484, 0.0028991886210998187), (2288, 0.0028990214951860652), (2849, 0.002897521938931622), (4318, 0.0028961425572486175), (4123, 0.002893903206036829), (1822, 0.002893218334038329), (3037, 0.0028930390240951447), (4, 0.00289183475854179), (1916, 0.002888212970684584), (2394, 0.0028879613236703775), (4474, 0.0028858133609432363), (1670, 0.0028846910512045475), (2419, 0.0028794623196781092), (262, 0.0028792658866936115), (3372, 0.0028784606636593447), (4178, 0.002877865471104354), (4225, 0.002877069115612097), (1188, 0.0028767206508084025), (716, 0.0028740756735009137), (429, 0.002872403969063192), (2088, 0.002871525947047673), (4430, 0.002869567625452936), (1736, 0.0028692039476739084), (4354, 0.002867140948304849), (20, 0.0028667529667308874), (2926, 0.0028663413189281757), (3770, 0.0028660764146612415), (580, 0.002863997266745728), (3862, 0.00286245040858473), (4083, 0.0028613989399539665), (3514, 0.0028612741435765617), (1224, 0.0028610074414167617), (3382, 0.0028599001251583254), (2561, 0.00285938589273418), (4419, 0.002857259175027064), (2370, 0.0028554152782532673), (1513, 0.002855070867534294), (543, 0.0028545516272965032), (1983, 0.0028544678258297595), (1083, 0.0028516603437693266), (884, 0.002851518123881056), (4361, 0.0028514900140661774), (1727, 0.0028496542305019752), (3353, 0.002849403556262555), (3349, 0.0028434999920002486), (2148, 0.0028407948890694775), (3517, 0.002837817491636041), (584, 0.0028359382895673177), (1703, 0.00283576320757174), (1765, 0.0028346819762977357), (3527, 0.002833118386227257), (4334, 0.002832733350166274), (980, 0.0028326599765958545), (2919, 0.002831362387073555), (3623, 0.002827338277836438), (120, 0.002826633829954351), (4470, 0.0028257084301634462), (3636, 0.002824478305834778), (1516, 0.002822618239391304), (4643, 0.0028192460111486333), (176, 0.0028162578680277486), (2466, 0.0028147337659453126), (3016, 0.002813655207762138), (509, 0.0028107169906348532), (4563, 0.002810464043228387), (4098, 0.002809414026724501), (3225, 0.0028086002835238225), (3445, 0.002806903159791277), (1355, 0.002806691572712211), (4533, 0.0028050311391268337), (3542, 0.002804219749874513), (3571, 0.0028026010138708342), (1174, 0.0028018934420645817), (1931, 0.0028002952608360957), (933, 0.0027990872154717824), (1176, 0.0027976943994958993), (969, 0.0027974591097028626), (1337, 0.0027969755465223857), (1740, 0.0027958665713849946), (593, 0.0027955012978816613), (3606, 0.0027944980801457363), (3653, 0.0027938520898176554), (2073, 0.0027933040366484585), (3707, 0.0027894841541293625), (3501, 0.0027859742077657457), (994, 0.002785287022160034), (2295, 0.0027843485278845215), (1440, 0.0027830842460184603), (4049, 0.002781588535562865), (1204, 0.002780785179113544), (4004, 0.0027795206772114867), (2091, 0.002778920699382692), (2374, 0.002777671732848967), (2887, 0.002777118861140799), (4014, 0.0027731130869683186), (1872, 0.002772073804097543), (4391, 0.002769819416844643), (4501, 0.0027690327896463004), (636, 0.0027679627268206858), (1922, 0.0027667421366345314), (4266, 0.002765629722246746), (2554, 0.0027649133409690697), (3210, 0.002764587064445239), (3227, 0.002763486207082804), (2934, 0.0027607415972626228), (3155, 0.0027595216478784666), (3436, 0.0027583947362543964), (2783, 0.002758235405506863), (4517, 0.002757351538756229), (2067, 0.0027572513698142552), (2533, 0.0027565975626514857), (2284, 0.002755560831150733), (4435, 0.0027538484456011846), (378, 0.002752511261242728), (3341, 0.002748448190599999), (4715, 0.0027478438898078184), (1488, 0.002747664077448153), (2340, 0.0027475627373816556), (4640, 0.0027458418354701685), (2695, 0.0027441540290693736), (2354, 0.002743505598810293), (761, 0.0027411801198382844), (2558, 0.0027411339872160743), (3478, 0.0027407794591423843), (2495, 0.0027405307832580644), (986, 0.0027386809322894417), (370, 0.0027363334928762447), (1163, 0.002735942459352232), (4016, 0.002733227277991867), (1112, 0.0027298142603182046), (3673, 0.0027296730962957957), (3216, 0.002727403986244551), (2853, 0.0027270410124525944), (1298, 0.0027255889162264503), (4409, 0.0027245595517064996), (2289, 0.0027217938094868037), (1102, 0.0027201625618691375), (1483, 0.0027195147242938976), (1811, 0.0027187324865507265), (3441, 0.0027182619889465566), (3727, 0.0027174519860130608), (400, 0.0027156088079240285), (1252, 0.0027154567594324234), (3624, 0.0027153758503139654), (1072, 0.0027146077286110074), (4520, 0.0027131890786645297), (3565, 0.0027124675108279577), (2569, 0.0027082113083895165), (3381, 0.0027080461693319833), (4228, 0.0027077366713444454), (534, 0.0027069610362395317), (61, 0.002705915057417903), (1621, 0.002701914559213736), (4668, 0.0027005817734241547), (4487, 0.002700241127312603), (3173, 0.0026991535354541304), (2173, 0.002698877091836574), (2961, 0.0026977943748871538), (3093, 0.0026973048816526066), (2946, 0.0026972732476940454), (3647, 0.002696568269286305), (989, 0.0026957564722809237), (4349, 0.0026950334727105616), (2069, 0.002692855631150136), (3499, 0.002692501406361944), (4020, 0.0026888228119056235), (3827, 0.0026872640368915115), (3379, 0.002687076738885872), (98, 0.0026837441054690884), (1527, 0.0026823179788827566), (26, 0.0026817022536870824), (4530, 0.0026804570249594007), (4036, 0.0026779820213995833), (3069, 0.002676502158142798), (4299, 0.002675573379788856), (3719, 0.0026751480412187667), (3706, 0.0026748004243855616), (2909, 0.002673028750163887), (799, 0.0026718358212757397), (3402, 0.002670826302245261), (127, 0.0026686680749502885), (755, 0.0026635597532223714), (4693, 0.0026623089717065325), (522, 0.0026604684566043173), (349, 0.0026582032662367527), (676, 0.0026571155570208893), (4573, 0.002656949301129919), (4673, 0.002654566771936913), (1030, 0.002653043626836258), (4129, 0.0026528762129706587), (541, 0.002651018062378478), (4382, 0.0026502308967869233), (2080, 0.0026480792670395895), (3660, 0.0026430226675436624), (2716, 0.002639968317087283), (923, 0.002639425560276241), (4461, 0.0026385100678418386), (646, 0.002635671315805775), (3900, 0.0026355050144775275), (4729, 0.0026326574637796055), (1582, 0.0026312562926081515), (2117, 0.0026289861033729437), (4670, 0.002625394119424224), (1478, 0.0026245544907907256), (2024, 0.0026245512006307205), (487, 0.0026236828984260263), (2752, 0.0026214154373542116), (2141, 0.0026196735901288975), (3498, 0.0026186953937648388), (4614, 0.0026179254753223545), (1854, 0.0026167981022578697), (1929, 0.0026128406942635698), (157, 0.0026102911306754807), (3035, 0.0026091943965138565), (4085, 0.002608598009786548), (3691, 0.0026079727332656857), (3171, 0.0026071396318134202), (4213, 0.002606177856154984), (3036, 0.002605768312047232), (1123, 0.0026048047730701067), (4206, 0.0026034178489221125), (3799, 0.002598034341918363), (4246, 0.002595047061836054), (2679, 0.002593505609970349), (2651, 0.002593095094815532), (2598, 0.0025930704786754446), (2133, 0.0025923736107622344), (2997, 0.002590537167609192), (2800, 0.002589431439334042), (818, 0.0025892261172104246), (828, 0.0025890642715003078), (1032, 0.0025886784631145277), (126, 0.00258593818657809), (3734, 0.002585026083300056), (276, 0.002584244199674068), (1663, 0.002582007737804643), (2348, 0.002581584143255973), (2166, 0.0025812125757317195), (3615, 0.0025809588287544357), (3433, 0.002580692032967178), (31, 0.0025776179004109233), (4254, 0.0025734580153905446), (1203, 0.0025733547056273386), (886, 0.0025694919010852413), (903, 0.0025691130669193546), (3941, 0.002568388916834033), (140, 0.00256736143250396), (941, 0.0025670063820299135), (3243, 0.002566996505342339), (1665, 0.0025662098251993948), (1884, 0.002561715121647487), (2634, 0.0025609322307364644), (229, 0.002555204457890743), (598, 0.002553639783646191), (3725, 0.0025519824569883174), (213, 0.0025508982448174808), (1433, 0.0025498523681262574), (4591, 0.0025490677513527373), (868, 0.0025447011552714983), (1183, 0.0025439835748218317), (1641, 0.0025415753548735727), (2556, 0.0025414071314363083), (399, 0.0025396132230400986), (3627, 0.002535912751400691), (1760, 0.002534021654793999), (1448, 0.0025324938204274623), (4616, 0.0025318016635709067), (2735, 0.0025305537886314965), (2593, 0.0025286912128061724), (3369, 0.0025280958490406505), (558, 0.002527316025891513), (1667, 0.002525916770055699), (1814, 0.0025235741547104786), (2674, 0.0025229505275336612), (604, 0.0025206643412289576), (3455, 0.002516564161205816), (457, 0.002515509227603649), (359, 0.002515223189314872), (4326, 0.0025127987703617715), (1672, 0.002509013955021368), (863, 0.0025052945307853683), (4620, 0.0025042045016487285), (4502, 0.0025032249038899118), (4359, 0.002502243896877784), (1796, 0.0025007009489730566), (4638, 0.002500137390468413), (759, 0.00249539267141086), (3474, 0.002490450885561345), (1528, 0.002489395099174786), (1680, 0.0024891603811384557), (1892, 0.0024887473894053026), (4053, 0.002486957282605224), (3267, 0.0024869079551939396), (473, 0.0024795997527198516), (1826, 0.002478377280015159), (4154, 0.0024765977927617435), (1161, 0.0024740731629562442), (581, 0.0024698754001476796), (4475, 0.002464636094538578), (1625, 0.002464537187973996), (2248, 0.002464013210063538), (3863, 0.0024628545558227416), (2591, 0.0024588948251717457), (158, 0.0024584875782229605), (1980, 0.002458278969367337), (2976, 0.002455198866484861), (917, 0.0024532455788861566), (856, 0.0024464565974086755), (1414, 0.0024451074543794795), (268, 0.002444500238017458), (2213, 0.00244411509898088), (672, 0.002443950231860643), (3956, 0.0024428448554539256), (4608, 0.0024321737484825617), (4661, 0.0024294620412272246), (3755, 0.002422278017745972), (200, 0.002421764180281245), (4220, 0.0024178440145832102), (1776, 0.0024137486163060278), (4066, 0.0024069228108940634), (3910, 0.0024062232599216275), (480, 0.002405022656855456), (4296, 0.0023873299750388276), (1943, 0.0023855837010879504), (4232, 0.002382719485460398), (4429, 0.002379701241430595), (1397, 0.0023701240364428305), (4386, 0.0023637984711081116), (1370, 0.00236322209603358), (286, 0.002351909249974571), (4627, 0.00235176209339629), (2743, 0.0023498378423177763), (4476, 0.0023452843832083505), (1088, 0.00234292157864658), (1050, 0.002334932557084588), (2758, 0.0023277151390562884), (1340, 0.002327583354437545), (4095, 0.002325976619322541), (2771, 0.002325626474043258), (267, 0.0023226473636391042), (1356, 0.002319757905327167), (951, 0.002313727755409932), (3657, 0.002312897295563961), (4636, 0.002311291879643613), (2039, 0.002305447181381043), (707, 0.0023052684478258013), (1801, 0.0023017306171751505), (3347, 0.0023003688920942397), (2359, 0.0022876004873922822), (4733, 0.0022868664643542667), (2355, 0.00228497014721057), (16, 0.002284400247255787), (1209, 0.0022839551068553022), (2602, 0.0022741551626214262), (901, 0.0022701154704065506), (4200, 0.002266040828194768), (149, 0.0022632927043230275), (3548, 0.002253869709192999), (3756, 0.0022418994881531627), (1098, 0.002234939491785955), (942, 0.0022281567489780547), (4744, 0.0022218192783323085), (4626, 0.002215892510254735), (1303, 0.002209770711752675), (1989, 0.002201352729918723), (3431, 0.00220092197148623), (2925, 0.002200555915536664), (2010, 0.0021644281018702942), (571, 0.002113178668409148), (453, 0.002095779373811084), (3645, 0.0020658399530230917), (256, 0.002047593463762265), (4301, 0.0020334391186784735), (2902, 0.0020157644216925786), (831, 0.0019348692287193576), (858, 0.0018505636265291744), (24, 0.001790072670343979), (6, 0.0), (13, 0.0), (17, 0.0), (30, 0.0), (36, 0.0), (46, 0.0), (47, 0.0), (50, 0.0), (53, 0.0), (69, 0.0), (73, 0.0), (77, 0.0), (81, 0.0), (89, 0.0), (90, 0.0), (93, 0.0), (95, 0.0), (117, 0.0), (128, 0.0), (133, 0.0), (134, 0.0), (139, 0.0), (151, 0.0), (163, 0.0), (180, 0.0), (181, 0.0), (187, 0.0), (188, 0.0), (233, 0.0), (241, 0.0), (244, 0.0), (245, 0.0), (257, 0.0), (290, 0.0), (295, 0.0), (303, 0.0), (304, 0.0), (316, 0.0), (320, 0.0), (331, 0.0), (365, 0.0), (375, 0.0), (376, 0.0), (383, 0.0), (389, 0.0), (391, 0.0), (397, 0.0), (422, 0.0), (438, 0.0), (459, 0.0), (462, 0.0), (467, 0.0), (503, 0.0), (513, 0.0), (514, 0.0), (536, 0.0), (539, 0.0), (550, 0.0), (552, 0.0), (554, 0.0), (559, 0.0), (573, 0.0), (592, 0.0), (595, 0.0), (601, 0.0), (602, 0.0), (619, 0.0), (625, 0.0), (632, 0.0), (650, 0.0), (663, 0.0), (682, 0.0), (686, 0.0), (695, 0.0), (714, 0.0), (718, 0.0), (720, 0.0), (770, 0.0), (793, 0.0), (811, 0.0), (837, 0.0), (841, 0.0), (842, 0.0), (849, 0.0), (869, 0.0), (902, 0.0), (905, 0.0), (909, 0.0), (914, 0.0), (927, 0.0), (932, 0.0), (943, 0.0), (954, 0.0), (955, 0.0), (960, 0.0), (961, 0.0), (965, 0.0), (972, 0.0), (976, 0.0), (977, 0.0), (990, 0.0), (992, 0.0), (996, 0.0), (1024, 0.0), (1028, 0.0), (1051, 0.0), (1055, 0.0), (1058, 0.0), (1063, 0.0), (1070, 0.0), (1081, 0.0), (1091, 0.0), (1092, 0.0), (1097, 0.0), (1101, 0.0), (1103, 0.0), (1125, 0.0), (1134, 0.0), (1135, 0.0), (1139, 0.0), (1143, 0.0), (1147, 0.0), (1151, 0.0), (1154, 0.0), (1156, 0.0), (1158, 0.0), (1164, 0.0), (1166, 0.0), (1167, 0.0), (1181, 0.0), (1193, 0.0), (1196, 0.0), (1227, 0.0), (1235, 0.0), (1240, 0.0), (1244, 0.0), (1258, 0.0), (1265, 0.0), (1268, 0.0), (1269, 0.0), (1271, 0.0), (1272, 0.0), (1276, 0.0), (1281, 0.0), (1283, 0.0), (1287, 0.0), (1289, 0.0), (1292, 0.0), (1299, 0.0), (1311, 0.0), (1315, 0.0), (1320, 0.0), (1323, 0.0), (1326, 0.0), (1328, 0.0), (1331, 0.0), (1332, 0.0), (1333, 0.0), (1358, 0.0), (1361, 0.0), (1391, 0.0), (1406, 0.0), (1437, 0.0), (1444, 0.0), (1449, 0.0), (1460, 0.0), (1469, 0.0), (1470, 0.0), (1473, 0.0), (1490, 0.0), (1491, 0.0), (1504, 0.0), (1508, 0.0), (1512, 0.0), (1531, 0.0), (1532, 0.0), (1540, 0.0), (1545, 0.0), (1556, 0.0), (1560, 0.0), (1562, 0.0), (1573, 0.0), (1575, 0.0), (1588, 0.0), (1591, 0.0), (1596, 0.0), (1600, 0.0), (1601, 0.0), (1602, 0.0), (1604, 0.0), (1607, 0.0), (1609, 0.0), (1614, 0.0), (1615, 0.0), (1622, 0.0), (1623, 0.0), (1631, 0.0), (1633, 0.0), (1635, 0.0), (1659, 0.0), (1674, 0.0), (1697, 0.0), (1705, 0.0), (1720, 0.0), (1724, 0.0), (1728, 0.0), (1729, 0.0), (1732, 0.0), (1734, 0.0), (1735, 0.0), (1741, 0.0), (1750, 0.0), (1752, 0.0), (1753, 0.0), (1766, 0.0), (1775, 0.0), (1785, 0.0), (1791, 0.0), (1795, 0.0), (1810, 0.0), (1815, 0.0), (1820, 0.0), (1829, 0.0), (1832, 0.0), (1834, 0.0), (1835, 0.0), (1836, 0.0), (1837, 0.0), (1839, 0.0), (1842, 0.0), (1844, 0.0), (1879, 0.0), (1889, 0.0), (1894, 0.0), (1898, 0.0), (1900, 0.0), (1904, 0.0), (1906, 0.0), (1912, 0.0), (1917, 0.0), (1926, 0.0), (1927, 0.0), (1939, 0.0), (1949, 0.0), (1962, 0.0), (1970, 0.0), (1972, 0.0), (1975, 0.0), (1976, 0.0), (1991, 0.0), (1993, 0.0), (1998, 0.0), (1999, 0.0), (2002, 0.0), (2019, 0.0), (2021, 0.0), (2028, 0.0), (2030, 0.0), (2033, 0.0), (2038, 0.0), (2041, 0.0), (2042, 0.0), (2050, 0.0), (2057, 0.0), (2059, 0.0), (2063, 0.0), (2066, 0.0), (2077, 0.0), (2081, 0.0), (2084, 0.0), (2085, 0.0), (2090, 0.0), (2115, 0.0), (2124, 0.0), (2125, 0.0), (2136, 0.0), (2138, 0.0), (2150, 0.0), (2152, 0.0), (2153, 0.0), (2164, 0.0), (2165, 0.0), (2171, 0.0), (2172, 0.0), (2179, 0.0), (2182, 0.0), (2183, 0.0), (2184, 0.0), (2194, 0.0), (2200, 0.0), (2206, 0.0), (2207, 0.0), (2217, 0.0), (2219, 0.0), (2228, 0.0), (2231, 0.0), (2238, 0.0), (2243, 0.0), (2247, 0.0), (2256, 0.0), (2261, 0.0), (2267, 0.0), (2272, 0.0), (2280, 0.0), (2282, 0.0), (2290, 0.0), (2297, 0.0), (2304, 0.0), (2305, 0.0), (2307, 0.0), (2312, 0.0), (2314, 0.0), (2316, 0.0), (2325, 0.0), (2332, 0.0), (2336, 0.0), (2337, 0.0), (2341, 0.0), (2343, 0.0), (2345, 0.0), (2357, 0.0), (2358, 0.0), (2371, 0.0), (2372, 0.0), (2373, 0.0), (2380, 0.0), (2381, 0.0), (2384, 0.0), (2389, 0.0), (2395, 0.0), (2424, 0.0), (2429, 0.0), (2435, 0.0), (2442, 0.0), (2450, 0.0), (2451, 0.0), (2452, 0.0), (2455, 0.0), (2456, 0.0), (2462, 0.0), (2465, 0.0), (2471, 0.0), (2476, 0.0), (2479, 0.0), (2499, 0.0), (2506, 0.0), (2508, 0.0), (2515, 0.0), (2516, 0.0), (2521, 0.0), (2536, 0.0), (2542, 0.0), (2544, 0.0), (2548, 0.0), (2549, 0.0), (2564, 0.0), (2567, 0.0), (2576, 0.0), (2577, 0.0), (2578, 0.0), (2586, 0.0), (2596, 0.0), (2597, 0.0), (2599, 0.0), (2600, 0.0), (2605, 0.0), (2620, 0.0), (2630, 0.0), (2639, 0.0), (2641, 0.0), (2644, 0.0), (2648, 0.0), (2657, 0.0), (2658, 0.0), (2659, 0.0), (2669, 0.0), (2670, 0.0), (2676, 0.0), (2683, 0.0), (2684, 0.0), (2685, 0.0), (2690, 0.0), (2700, 0.0), (2704, 0.0), (2709, 0.0), (2715, 0.0), (2717, 0.0), (2718, 0.0), (2733, 0.0), (2736, 0.0), (2754, 0.0), (2762, 0.0), (2770, 0.0), (2773, 0.0), (2780, 0.0), (2787, 0.0), (2799, 0.0), (2804, 0.0), (2810, 0.0), (2811, 0.0), (2815, 0.0), (2819, 0.0), (2823, 0.0), (2827, 0.0), (2828, 0.0), (2833, 0.0), (2837, 0.0), (2839, 0.0), (2847, 0.0), (2856, 0.0), (2864, 0.0), (2865, 0.0), (2869, 0.0), (2871, 0.0), (2875, 0.0), (2885, 0.0), (2898, 0.0), (2905, 0.0), (2918, 0.0), (2922, 0.0), (2927, 0.0), (2930, 0.0), (2939, 0.0), (2941, 0.0), (2947, 0.0), (2950, 0.0), (2955, 0.0), (2956, 0.0), (2958, 0.0), (2960, 0.0), (2968, 0.0), (2971, 0.0), (2984, 0.0), (2990, 0.0), (2994, 0.0), (3005, 0.0), (3006, 0.0), (3021, 0.0), (3025, 0.0), (3029, 0.0), (3038, 0.0), (3048, 0.0), (3049, 0.0), (3054, 0.0), (3058, 0.0), (3059, 0.0), (3080, 0.0), (3087, 0.0), (3088, 0.0), (3100, 0.0), (3104, 0.0), (3105, 0.0), (3107, 0.0), (3110, 0.0), (3115, 0.0), (3118, 0.0), (3126, 0.0), (3130, 0.0), (3132, 0.0), (3134, 0.0), (3135, 0.0), (3136, 0.0), (3138, 0.0), (3143, 0.0), (3156, 0.0), (3158, 0.0), (3160, 0.0), (3169, 0.0), (3176, 0.0), (3179, 0.0), (3185, 0.0), (3190, 0.0), (3191, 0.0), (3197, 0.0), (3203, 0.0), (3204, 0.0), (3207, 0.0), (3212, 0.0), (3223, 0.0), (3236, 0.0), (3245, 0.0), (3250, 0.0), (3251, 0.0), (3255, 0.0), (3261, 0.0), (3263, 0.0), (3266, 0.0), (3286, 0.0), (3287, 0.0), (3310, 0.0), (3319, 0.0), (3323, 0.0), (3324, 0.0), (3332, 0.0), (3333, 0.0), (3339, 0.0), (3350, 0.0), (3377, 0.0), (3383, 0.0), (3394, 0.0), (3398, 0.0), (3404, 0.0), (3405, 0.0), (3428, 0.0), (3429, 0.0), (3432, 0.0), (3439, 0.0), (3451, 0.0), (3453, 0.0), (3462, 0.0), (3468, 0.0), (3470, 0.0), (3472, 0.0), (3475, 0.0), (3476, 0.0), (3480, 0.0), (3482, 0.0), (3485, 0.0), (3486, 0.0), (3488, 0.0), (3494, 0.0), (3505, 0.0), (3510, 0.0), (3522, 0.0), (3528, 0.0), (3530, 0.0), (3532, 0.0), (3535, 0.0), (3539, 0.0), (3543, 0.0), (3547, 0.0), (3550, 0.0), (3554, 0.0), (3555, 0.0), (3572, 0.0), (3573, 0.0), (3574, 0.0), (3576, 0.0), (3580, 0.0), (3581, 0.0), (3583, 0.0), (3588, 0.0), (3595, 0.0), (3597, 0.0), (3600, 0.0), (3605, 0.0), (3617, 0.0), (3619, 0.0), (3625, 0.0), (3628, 0.0), (3631, 0.0), (3649, 0.0), (3652, 0.0), (3662, 0.0), (3663, 0.0), (3664, 0.0), (3671, 0.0), (3676, 0.0), (3679, 0.0), (3682, 0.0), (3683, 0.0), (3688, 0.0), (3697, 0.0), (3702, 0.0), (3703, 0.0), (3708, 0.0), (3715, 0.0), (3717, 0.0), (3723, 0.0), (3726, 0.0), (3735, 0.0), (3738, 0.0), (3740, 0.0), (3744, 0.0), (3760, 0.0), (3764, 0.0), (3768, 0.0), (3769, 0.0), (3773, 0.0), (3775, 0.0), (3788, 0.0), (3789, 0.0), (3791, 0.0), (3793, 0.0), (3796, 0.0), (3805, 0.0), (3806, 0.0), (3814, 0.0), (3815, 0.0), (3816, 0.0), (3820, 0.0), (3824, 0.0), (3833, 0.0), (3836, 0.0), (3837, 0.0), (3838, 0.0), (3840, 0.0), (3842, 0.0), (3844, 0.0), (3846, 0.0), (3847, 0.0), (3850, 0.0), (3853, 0.0), (3861, 0.0), (3871, 0.0), (3872, 0.0), (3881, 0.0), (3885, 0.0), (3887, 0.0), (3908, 0.0), (3916, 0.0), (3918, 0.0), (3929, 0.0), (3931, 0.0), (3934, 0.0), (3937, 0.0), (3938, 0.0), (3942, 0.0), (3947, 0.0), (3948, 0.0), (3949, 0.0), (3958, 0.0), (3965, 0.0), (3975, 0.0), (3976, 0.0), (3977, 0.0), (3979, 0.0), (3981, 0.0), (3982, 0.0), (3988, 0.0), (3991, 0.0), (3995, 0.0), (3996, 0.0), (3997, 0.0), (4010, 0.0), (4021, 0.0), (4026, 0.0), (4028, 0.0), (4029, 0.0), (4037, 0.0), (4039, 0.0), (4040, 0.0), (4041, 0.0), (4044, 0.0), (4047, 0.0), (4058, 0.0), (4065, 0.0), (4067, 0.0), (4072, 0.0), (4088, 0.0), (4090, 0.0), (4093, 0.0), (4094, 0.0), (4096, 0.0), (4100, 0.0), (4105, 0.0), (4125, 0.0), (4127, 0.0), (4131, 0.0), (4146, 0.0), (4148, 0.0), (4149, 0.0), (4150, 0.0), (4153, 0.0), (4164, 0.0), (4165, 0.0), (4167, 0.0), (4170, 0.0), (4177, 0.0), (4179, 0.0), (4180, 0.0), (4181, 0.0), (4184, 0.0), (4190, 0.0), (4191, 0.0), (4193, 0.0), (4195, 0.0), (4204, 0.0), (4208, 0.0), (4211, 0.0), (4212, 0.0), (4215, 0.0), (4219, 0.0), (4224, 0.0), (4227, 0.0), (4234, 0.0), (4235, 0.0), (4238, 0.0), (4239, 0.0), (4248, 0.0), (4250, 0.0), (4251, 0.0), (4253, 0.0), (4256, 0.0), (4258, 0.0), (4260, 0.0), (4261, 0.0), (4264, 0.0), (4270, 0.0), (4275, 0.0), (4276, 0.0), (4278, 0.0), (4291, 0.0), (4294, 0.0), (4300, 0.0), (4302, 0.0), (4305, 0.0), (4307, 0.0), (4313, 0.0), (4316, 0.0), (4317, 0.0), (4323, 0.0), (4324, 0.0), (4331, 0.0), (4341, 0.0), (4352, 0.0), (4358, 0.0), (4360, 0.0), (4364, 0.0), (4370, 0.0), (4377, 0.0), (4383, 0.0), (4384, 0.0), (4389, 0.0), (4390, 0.0), (4392, 0.0), (4393, 0.0), (4413, 0.0), (4415, 0.0), (4417, 0.0), (4421, 0.0), (4424, 0.0), (4425, 0.0), (4433, 0.0), (4434, 0.0), (4439, 0.0), (4452, 0.0), (4455, 0.0), (4456, 0.0), (4457, 0.0), (4464, 0.0), (4466, 0.0), (4478, 0.0), (4485, 0.0), (4491, 0.0), (4493, 0.0), (4496, 0.0), (4499, 0.0), (4500, 0.0), (4506, 0.0), (4508, 0.0), (4510, 0.0), (4512, 0.0), (4513, 0.0), (4519, 0.0), (4526, 0.0), (4527, 0.0), (4532, 0.0), (4537, 0.0), (4538, 0.0), (4539, 0.0), (4543, 0.0), (4547, 0.0), (4553, 0.0), (4556, 0.0), (4557, 0.0), (4558, 0.0), (4561, 0.0), (4562, 0.0), (4565, 0.0), (4577, 0.0), (4578, 0.0), (4582, 0.0), (4583, 0.0), (4585, 0.0), (4586, 0.0), (4588, 0.0), (4595, 0.0), (4597, 0.0), (4609, 0.0), (4618, 0.0), (4622, 0.0), (4630, 0.0), (4631, 0.0), (4642, 0.0), (4644, 0.0), (4645, 0.0), (4648, 0.0), (4651, 0.0), (4653, 0.0), (4656, 0.0), (4664, 0.0), (4665, 0.0), (4666, 0.0), (4667, 0.0), (4671, 0.0), (4672, 0.0), (4676, 0.0), (4681, 0.0), (4690, 0.0), (4691, 0.0), (4697, 0.0), (4698, 0.0), (4700, 0.0), (4703, 0.0), (4707, 0.0), (4709, 0.0), (4711, 0.0), (4716, 0.0), (4720, 0.0), (4721, 0.0), (4727, 0.0), (4728, 0.0), (4730, 0.0), (4740, 0.0), (4742, 0.0), (4746, 0.0), (4750, 0.0), (4751, 0.0), (4754, 0.0), (4758, 0.0), (4759, 0.0)]\n"
          ]
        }
      ]
    },
    {
      "cell_type": "code",
      "source": [
        "# print the name of similar movies based on index\n",
        "print('Top 30 Movies Suggested For You:\\n')\n",
        "\n",
        "i=1\n",
        "\n",
        "for movie in Sorted_Similar_Movies:\n",
        "  index = movie[0]\n",
        "  title_from_index = df[df.index==index]['Movie_Title'].values[0]\n",
        "  if (i<31):\n",
        "    print(i,'.',title_from_index)\n",
        "    i+=1\n"
      ],
      "metadata": {
        "colab": {
          "base_uri": "https://localhost:8080/"
        },
        "id": "xev2JMH1OjQs",
        "outputId": "1c9a9f51-795a-4fc5-ad5e-b90ddb2941b2"
      },
      "execution_count": null,
      "outputs": [
        {
          "output_type": "stream",
          "name": "stdout",
          "text": [
            "Top 30 Movies Suggested For You:\n",
            "\n",
            "1 . The Age of Innocence\n",
            "2 . Gangs of New York\n",
            "3 . Cruel Intentions\n",
            "4 . Changing Lanes\n",
            "5 . Autumn in New York\n",
            "6 . Lost Souls\n",
            "7 . Doctor Zhivago\n",
            "8 . New York, New York\n",
            "9 . Cape Fear\n",
            "10 . How Stella Got Her Groove Back\n",
            "11 . Finding Forrester\n",
            "12 . Bringing Out the Dead\n",
            "13 . Lost in Translation\n",
            "14 . The Last Samurai\n",
            "15 . Gigli\n",
            "16 . Metropolitan\n",
            "17 . Home Alone 2: Lost in New York\n",
            "18 . Wild Things\n",
            "19 . The Out-of-Towners\n",
            "20 . Little Women\n",
            "21 . Beetlejuice\n",
            "22 . GoodFellas\n",
            "23 . The Last Emperor\n",
            "24 . Don Juan DeMarco\n",
            "25 . Black Swan\n",
            "26 . White Oleander\n",
            "27 . Oscar and Lucinda\n",
            "28 . Stand by Me\n",
            "29 . The Motel\n",
            "30 . Woo\n"
          ]
        }
      ]
    },
    {
      "cell_type": "markdown",
      "source": [
        "# Top 10 Movie Recommendation System"
      ],
      "metadata": {
        "id": "LX8rMJ7LPNhY"
      }
    },
    {
      "cell_type": "code",
      "source": [
        "movie_name = input('Enter your favourite movie name:')\n",
        "\n",
        "list_of_all_titles = df['Movie_Title'].tolist()\n",
        "\n",
        "close_match = difflib.get_close_matches(movie_name, list_of_all_titles)\n",
        "\n",
        "close_match = close_match[0]\n",
        "# Use 'Movie_Title' instead of 'movie_title'\n",
        "Index_of_movie = df[df.Movie_Title == close_match]['Movie_ID'].values[0]\n",
        "\n",
        "Recommendation_Score = list(enumerate(similarity_score[Index_of_movie]))\n",
        "\n",
        "sorted_similar_movies = sorted(Recommendation_Score, key = lambda x:x[1], reverse = True)\n",
        "\n",
        "print('Top 10 Movies Suggested For You:\\n')\n",
        "\n",
        "i = 1\n",
        "\n",
        "for movie in sorted_similar_movies:\n",
        "  index = movie[0]\n",
        "  # Use 'Movie_ID' instead of 'Movie_Id' (if it was a typo)\n",
        "  title_from_index = df[df.Movie_ID==index]['Movie_Title'].values\n",
        "\n",
        "  if (i<11):\n",
        "    print(i, '.',title_from_index)\n",
        "    i+=1"
      ],
      "metadata": {
        "colab": {
          "base_uri": "https://localhost:8080/"
        },
        "id": "Bu7ACB9qPT8R",
        "outputId": "65a339ce-1521-46fd-b7b8-9c7a74f977e5"
      },
      "execution_count": null,
      "outputs": [
        {
          "output_type": "stream",
          "name": "stdout",
          "text": [
            "Enter your favourite movie name:war\n",
            "Top 10 Movies Suggested For You:\n",
            "\n",
            "1 . ['War']\n",
            "2 . ['Midnight Cowboy']\n",
            "3 . ['City of Angels']\n",
            "4 . ['Spy Game']\n",
            "5 . ['Remember the Titans']\n",
            "6 . ['My Cousin Vinny']\n",
            "7 . [\"Pandora's Box\"]\n",
            "8 . ['The Big Bounce']\n",
            "9 . ['Meet the Parents']\n",
            "10 . ['Rumble in the Bronx']\n"
          ]
        }
      ]
    }
  ]
}